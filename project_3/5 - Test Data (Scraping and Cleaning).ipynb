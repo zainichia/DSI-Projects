{
 "cells": [
  {
   "cell_type": "markdown",
   "metadata": {},
   "source": [
    "# Test Data Scraping and Cleaning\n",
    "\n",
    "In this notebook we scrape and clean new data to test our model on.\n",
    "The steps here are similar to notebooks 1 and 3. Do refer to them for explanations/annotations of the steps carried out here."
   ]
  },
  {
   "cell_type": "code",
   "execution_count": 5,
   "metadata": {},
   "outputs": [],
   "source": [
    "import pandas as pd\n",
    "import requests\n",
    "import time\n",
    "import random\n",
    "from bs4 import BeautifulSoup"
   ]
  },
  {
   "cell_type": "code",
   "execution_count": 6,
   "metadata": {},
   "outputs": [],
   "source": [
    "import nltk\n",
    "import regex as re\n",
    "\n",
    "from nltk.corpus import stopwords\n",
    "from nltk.stem import WordNetLemmatizer\n",
    "from nltk.tokenize import RegexpTokenizer\n",
    "from nltk.stem.porter import PorterStemmer"
   ]
  },
  {
   "cell_type": "code",
   "execution_count": 7,
   "metadata": {},
   "outputs": [],
   "source": [
    "url = 'https://www.reddit.com/r/iphone/new.json'\n",
    "res = requests.get(url, headers={'User-agent': 'Zaini Inc'})"
   ]
  },
  {
   "cell_type": "code",
   "execution_count": 8,
   "metadata": {},
   "outputs": [
    {
     "name": "stdout",
     "output_type": "stream",
     "text": [
      "https://www.reddit.com/r/iphone/new.json\n",
      "7\n",
      "https://www.reddit.com/r/iphone/new.json?after=t3_k65ygm\n",
      "10\n",
      "https://www.reddit.com/r/iphone/new.json?after=t3_k51tyu\n",
      "9\n",
      "https://www.reddit.com/r/iphone/new.json?after=t3_k3dowr\n",
      "8\n",
      "https://www.reddit.com/r/iphone/new.json?after=t3_k1rnu3\n",
      "8\n",
      "https://www.reddit.com/r/iphone/new.json?after=t3_jznwal\n",
      "8\n",
      "https://www.reddit.com/r/iphone/new.json?after=t3_jyggjr\n",
      "7\n",
      "https://www.reddit.com/r/iphone/new.json?after=t3_jxt25m\n",
      "10\n",
      "https://www.reddit.com/r/iphone/new.json?after=t3_jwt1qq\n",
      "8\n",
      "https://www.reddit.com/r/iphone/new.json?after=t3_jvj50u\n",
      "10\n"
     ]
    }
   ],
   "source": [
    "iphone_posts = []\n",
    "after = None\n",
    "\n",
    "for a in range(10):\n",
    "    if after == None:\n",
    "        current_url = url\n",
    "    else:\n",
    "        current_url = url + '?after=' + after\n",
    "    print(current_url)\n",
    "    res = requests.get(current_url, headers={'User-agent': 'Zaini Inc 1.0'})\n",
    "    \n",
    "    if res.status_code != 200:\n",
    "        print('Status error', res.status_code)\n",
    "        break\n",
    "    \n",
    "    current_dict = res.json()\n",
    "    current_posts = [p['data'] for p in current_dict['data']['children']]\n",
    "    iphone_posts.extend(current_posts)\n",
    "    after = current_dict['data']['after']\n",
    "    \n",
    "    # generate a random sleep duration to look more 'natural'\n",
    "    sleep_duration = random.randint(6,10)\n",
    "    print(sleep_duration)\n",
    "    time.sleep(sleep_duration)"
   ]
  },
  {
   "cell_type": "code",
   "execution_count": 9,
   "metadata": {
    "scrolled": true
   },
   "outputs": [
    {
     "data": {
      "text/plain": [
       "250"
      ]
     },
     "execution_count": 9,
     "metadata": {},
     "output_type": "execute_result"
    }
   ],
   "source": [
    "len(iphone_posts)"
   ]
  },
  {
   "cell_type": "code",
   "execution_count": 10,
   "metadata": {},
   "outputs": [],
   "source": [
    "iphone_df = pd.DataFrame(iphone_posts)"
   ]
  },
  {
   "cell_type": "code",
   "execution_count": 11,
   "metadata": {},
   "outputs": [
    {
     "data": {
      "text/html": [
       "<div>\n",
       "<style scoped>\n",
       "    .dataframe tbody tr th:only-of-type {\n",
       "        vertical-align: middle;\n",
       "    }\n",
       "\n",
       "    .dataframe tbody tr th {\n",
       "        vertical-align: top;\n",
       "    }\n",
       "\n",
       "    .dataframe thead th {\n",
       "        text-align: right;\n",
       "    }\n",
       "</style>\n",
       "<table border=\"1\" class=\"dataframe\">\n",
       "  <thead>\n",
       "    <tr style=\"text-align: right;\">\n",
       "      <th></th>\n",
       "      <th>approved_at_utc</th>\n",
       "      <th>subreddit</th>\n",
       "      <th>selftext</th>\n",
       "      <th>author_fullname</th>\n",
       "      <th>saved</th>\n",
       "      <th>mod_reason_title</th>\n",
       "      <th>gilded</th>\n",
       "      <th>clicked</th>\n",
       "      <th>title</th>\n",
       "      <th>link_flair_richtext</th>\n",
       "      <th>...</th>\n",
       "      <th>stickied</th>\n",
       "      <th>url</th>\n",
       "      <th>subreddit_subscribers</th>\n",
       "      <th>created_utc</th>\n",
       "      <th>num_crossposts</th>\n",
       "      <th>media</th>\n",
       "      <th>is_video</th>\n",
       "      <th>crosspost_parent_list</th>\n",
       "      <th>crosspost_parent</th>\n",
       "      <th>media_metadata</th>\n",
       "    </tr>\n",
       "  </thead>\n",
       "  <tbody>\n",
       "    <tr>\n",
       "      <th>0</th>\n",
       "      <td>None</td>\n",
       "      <td>iphone</td>\n",
       "      <td></td>\n",
       "      <td>t2_5whi1gxg</td>\n",
       "      <td>False</td>\n",
       "      <td>None</td>\n",
       "      <td>0</td>\n",
       "      <td>False</td>\n",
       "      <td>Here's how you can download any file on your i...</td>\n",
       "      <td>[]</td>\n",
       "      <td>...</td>\n",
       "      <td>False</td>\n",
       "      <td>http://arcanelostcom.wpcomstaging.com/download...</td>\n",
       "      <td>2818664</td>\n",
       "      <td>1.607109e+09</td>\n",
       "      <td>0</td>\n",
       "      <td>None</td>\n",
       "      <td>False</td>\n",
       "      <td>NaN</td>\n",
       "      <td>NaN</td>\n",
       "      <td>NaN</td>\n",
       "    </tr>\n",
       "    <tr>\n",
       "      <th>1</th>\n",
       "      <td>None</td>\n",
       "      <td>iphone</td>\n",
       "      <td></td>\n",
       "      <td>t2_382egh3u</td>\n",
       "      <td>False</td>\n",
       "      <td>None</td>\n",
       "      <td>0</td>\n",
       "      <td>False</td>\n",
       "      <td>Discussion With iPhone 12 Pro and iPhone 12 Pr...</td>\n",
       "      <td>[]</td>\n",
       "      <td>...</td>\n",
       "      <td>False</td>\n",
       "      <td>https://shiv1367.com/iphone-12-pro-max-and-iph...</td>\n",
       "      <td>2818664</td>\n",
       "      <td>1.607102e+09</td>\n",
       "      <td>0</td>\n",
       "      <td>None</td>\n",
       "      <td>False</td>\n",
       "      <td>NaN</td>\n",
       "      <td>NaN</td>\n",
       "      <td>NaN</td>\n",
       "    </tr>\n",
       "    <tr>\n",
       "      <th>2</th>\n",
       "      <td>None</td>\n",
       "      <td>iphone</td>\n",
       "      <td></td>\n",
       "      <td>t2_th4cg</td>\n",
       "      <td>False</td>\n",
       "      <td>None</td>\n",
       "      <td>0</td>\n",
       "      <td>False</td>\n",
       "      <td>iPhone 12 wireless charging problem – fix on t...</td>\n",
       "      <td>[]</td>\n",
       "      <td>...</td>\n",
       "      <td>False</td>\n",
       "      <td>https://9to5mac.com/2020/12/04/iphone-12-wirel...</td>\n",
       "      <td>2818664</td>\n",
       "      <td>1.607087e+09</td>\n",
       "      <td>0</td>\n",
       "      <td>None</td>\n",
       "      <td>False</td>\n",
       "      <td>NaN</td>\n",
       "      <td>NaN</td>\n",
       "      <td>NaN</td>\n",
       "    </tr>\n",
       "    <tr>\n",
       "      <th>3</th>\n",
       "      <td>None</td>\n",
       "      <td>iphone</td>\n",
       "      <td>Welcome to the Daily Tech Support thread for ...</td>\n",
       "      <td>t2_6l4z3</td>\n",
       "      <td>False</td>\n",
       "      <td>None</td>\n",
       "      <td>0</td>\n",
       "      <td>False</td>\n",
       "      <td>Daily Tech Support Thread</td>\n",
       "      <td>[]</td>\n",
       "      <td>...</td>\n",
       "      <td>True</td>\n",
       "      <td>https://www.reddit.com/r/iphone/comments/k6ivi...</td>\n",
       "      <td>2818664</td>\n",
       "      <td>1.607080e+09</td>\n",
       "      <td>0</td>\n",
       "      <td>None</td>\n",
       "      <td>False</td>\n",
       "      <td>NaN</td>\n",
       "      <td>NaN</td>\n",
       "      <td>NaN</td>\n",
       "    </tr>\n",
       "    <tr>\n",
       "      <th>4</th>\n",
       "      <td>None</td>\n",
       "      <td>iphone</td>\n",
       "      <td>Welcome to the weekly stickied WSIB thread.  ...</td>\n",
       "      <td>t2_6l4z3</td>\n",
       "      <td>False</td>\n",
       "      <td>None</td>\n",
       "      <td>0</td>\n",
       "      <td>False</td>\n",
       "      <td>Weekly What Should I Buy Thread</td>\n",
       "      <td>[]</td>\n",
       "      <td>...</td>\n",
       "      <td>True</td>\n",
       "      <td>https://www.reddit.com/r/iphone/comments/k6ivi...</td>\n",
       "      <td>2818664</td>\n",
       "      <td>1.607080e+09</td>\n",
       "      <td>0</td>\n",
       "      <td>None</td>\n",
       "      <td>False</td>\n",
       "      <td>NaN</td>\n",
       "      <td>NaN</td>\n",
       "      <td>NaN</td>\n",
       "    </tr>\n",
       "  </tbody>\n",
       "</table>\n",
       "<p>5 rows × 111 columns</p>\n",
       "</div>"
      ],
      "text/plain": [
       "  approved_at_utc subreddit  \\\n",
       "0            None    iphone   \n",
       "1            None    iphone   \n",
       "2            None    iphone   \n",
       "3            None    iphone   \n",
       "4            None    iphone   \n",
       "\n",
       "                                            selftext author_fullname  saved  \\\n",
       "0                                                        t2_5whi1gxg  False   \n",
       "1                                                        t2_382egh3u  False   \n",
       "2                                                           t2_th4cg  False   \n",
       "3   Welcome to the Daily Tech Support thread for ...        t2_6l4z3  False   \n",
       "4   Welcome to the weekly stickied WSIB thread.  ...        t2_6l4z3  False   \n",
       "\n",
       "  mod_reason_title  gilded  clicked  \\\n",
       "0             None       0    False   \n",
       "1             None       0    False   \n",
       "2             None       0    False   \n",
       "3             None       0    False   \n",
       "4             None       0    False   \n",
       "\n",
       "                                               title link_flair_richtext  ...  \\\n",
       "0  Here's how you can download any file on your i...                  []  ...   \n",
       "1  Discussion With iPhone 12 Pro and iPhone 12 Pr...                  []  ...   \n",
       "2  iPhone 12 wireless charging problem – fix on t...                  []  ...   \n",
       "3                          Daily Tech Support Thread                  []  ...   \n",
       "4                    Weekly What Should I Buy Thread                  []  ...   \n",
       "\n",
       "  stickied                                                url  \\\n",
       "0    False  http://arcanelostcom.wpcomstaging.com/download...   \n",
       "1    False  https://shiv1367.com/iphone-12-pro-max-and-iph...   \n",
       "2    False  https://9to5mac.com/2020/12/04/iphone-12-wirel...   \n",
       "3     True  https://www.reddit.com/r/iphone/comments/k6ivi...   \n",
       "4     True  https://www.reddit.com/r/iphone/comments/k6ivi...   \n",
       "\n",
       "   subreddit_subscribers   created_utc  num_crossposts  media is_video  \\\n",
       "0                2818664  1.607109e+09               0   None    False   \n",
       "1                2818664  1.607102e+09               0   None    False   \n",
       "2                2818664  1.607087e+09               0   None    False   \n",
       "3                2818664  1.607080e+09               0   None    False   \n",
       "4                2818664  1.607080e+09               0   None    False   \n",
       "\n",
       "   crosspost_parent_list crosspost_parent  media_metadata  \n",
       "0                    NaN              NaN             NaN  \n",
       "1                    NaN              NaN             NaN  \n",
       "2                    NaN              NaN             NaN  \n",
       "3                    NaN              NaN             NaN  \n",
       "4                    NaN              NaN             NaN  \n",
       "\n",
       "[5 rows x 111 columns]"
      ]
     },
     "execution_count": 11,
     "metadata": {},
     "output_type": "execute_result"
    }
   ],
   "source": [
    "iphone_df.head()"
   ]
  },
  {
   "cell_type": "code",
   "execution_count": 12,
   "metadata": {},
   "outputs": [],
   "source": [
    "#clean clean clean"
   ]
  },
  {
   "cell_type": "code",
   "execution_count": null,
   "metadata": {},
   "outputs": [],
   "source": []
  },
  {
   "cell_type": "code",
   "execution_count": 13,
   "metadata": {},
   "outputs": [],
   "source": [
    "iphone_df['selftext'].replace(r'[^\\w\\s]', ' ', regex=True, inplace = True)\n",
    "iphone_df['title'].replace(r'[^\\w\\s]', ' ', regex=True, inplace = True)\n",
    "iphone_df.fillna(value = ' ', inplace = True)"
   ]
  },
  {
   "cell_type": "code",
   "execution_count": 14,
   "metadata": {},
   "outputs": [
    {
     "data": {
      "text/html": [
       "<div>\n",
       "<style scoped>\n",
       "    .dataframe tbody tr th:only-of-type {\n",
       "        vertical-align: middle;\n",
       "    }\n",
       "\n",
       "    .dataframe tbody tr th {\n",
       "        vertical-align: top;\n",
       "    }\n",
       "\n",
       "    .dataframe thead th {\n",
       "        text-align: right;\n",
       "    }\n",
       "</style>\n",
       "<table border=\"1\" class=\"dataframe\">\n",
       "  <thead>\n",
       "    <tr style=\"text-align: right;\">\n",
       "      <th></th>\n",
       "      <th>author_fullname</th>\n",
       "      <th>title</th>\n",
       "      <th>selftext</th>\n",
       "      <th>title/text</th>\n",
       "      <th>subreddit</th>\n",
       "    </tr>\n",
       "  </thead>\n",
       "  <tbody>\n",
       "    <tr>\n",
       "      <th>0</th>\n",
       "      <td>t2_5whi1gxg</td>\n",
       "      <td>Here s how you can download any file on your i...</td>\n",
       "      <td></td>\n",
       "      <td>Here s how you can download any file on your ...</td>\n",
       "      <td>iphone</td>\n",
       "    </tr>\n",
       "    <tr>\n",
       "      <th>1</th>\n",
       "      <td>t2_382egh3u</td>\n",
       "      <td>Discussion With iPhone 12 Pro and iPhone 12 Pr...</td>\n",
       "      <td></td>\n",
       "      <td>Discussion With iPhone 12 Pro and iPhone 12 P...</td>\n",
       "      <td>iphone</td>\n",
       "    </tr>\n",
       "    <tr>\n",
       "      <th>2</th>\n",
       "      <td>t2_th4cg</td>\n",
       "      <td>iPhone 12 wireless charging problem   fix on t...</td>\n",
       "      <td></td>\n",
       "      <td>iPhone 12 wireless charging problem   fix on ...</td>\n",
       "      <td>iphone</td>\n",
       "    </tr>\n",
       "    <tr>\n",
       "      <th>3</th>\n",
       "      <td>t2_6l4z3</td>\n",
       "      <td>Daily Tech Support Thread</td>\n",
       "      <td>Welcome to the Daily Tech Support thread for ...</td>\n",
       "      <td>Welcome to the Daily Tech Support thread for ...</td>\n",
       "      <td>iphone</td>\n",
       "    </tr>\n",
       "    <tr>\n",
       "      <th>4</th>\n",
       "      <td>t2_6l4z3</td>\n",
       "      <td>Weekly What Should I Buy Thread</td>\n",
       "      <td>Welcome to the weekly stickied WSIB thread   ...</td>\n",
       "      <td>Welcome to the weekly stickied WSIB thread   ...</td>\n",
       "      <td>iphone</td>\n",
       "    </tr>\n",
       "    <tr>\n",
       "      <th>...</th>\n",
       "      <td>...</td>\n",
       "      <td>...</td>\n",
       "      <td>...</td>\n",
       "      <td>...</td>\n",
       "      <td>...</td>\n",
       "    </tr>\n",
       "    <tr>\n",
       "      <th>245</th>\n",
       "      <td>t2_ay4ik</td>\n",
       "      <td>iPhone 12 Pro Max leather case</td>\n",
       "      <td>Got my 12 pro max  with Apple leather case  \\n...</td>\n",
       "      <td>Got my 12 pro max  with Apple leather case  \\n...</td>\n",
       "      <td>iphone</td>\n",
       "    </tr>\n",
       "    <tr>\n",
       "      <th>246</th>\n",
       "      <td>t2_6l4z3</td>\n",
       "      <td>Daily Tech Support Thread    November 15</td>\n",
       "      <td>Welcome to the Daily Tech Support thread for  ...</td>\n",
       "      <td>Welcome to the Daily Tech Support thread for  ...</td>\n",
       "      <td>iphone</td>\n",
       "    </tr>\n",
       "    <tr>\n",
       "      <th>247</th>\n",
       "      <td>t2_9xqhj</td>\n",
       "      <td>My MagSafe charger gets really warm after bein...</td>\n",
       "      <td>So I got my 12 Pro Max yesterday and the MagSa...</td>\n",
       "      <td>So I got my 12 Pro Max yesterday and the MagSa...</td>\n",
       "      <td>iphone</td>\n",
       "    </tr>\n",
       "    <tr>\n",
       "      <th>248</th>\n",
       "      <td>t2_1svtzo4x</td>\n",
       "      <td>Feature  iPhone now allows you to name Blueto...</td>\n",
       "      <td></td>\n",
       "      <td>Feature  iPhone now allows you to name Bluet...</td>\n",
       "      <td>iphone</td>\n",
       "    </tr>\n",
       "    <tr>\n",
       "      <th>249</th>\n",
       "      <td>t2_ca5xo</td>\n",
       "      <td>Anyone find a good cheap car mount yet for iph...</td>\n",
       "      <td>Doesn t have to be MagSafe or have wireless ch...</td>\n",
       "      <td>Doesn t have to be MagSafe or have wireless ch...</td>\n",
       "      <td>iphone</td>\n",
       "    </tr>\n",
       "  </tbody>\n",
       "</table>\n",
       "<p>250 rows × 5 columns</p>\n",
       "</div>"
      ],
      "text/plain": [
       "    author_fullname                                              title  \\\n",
       "0       t2_5whi1gxg  Here s how you can download any file on your i...   \n",
       "1       t2_382egh3u  Discussion With iPhone 12 Pro and iPhone 12 Pr...   \n",
       "2          t2_th4cg  iPhone 12 wireless charging problem   fix on t...   \n",
       "3          t2_6l4z3                          Daily Tech Support Thread   \n",
       "4          t2_6l4z3                    Weekly What Should I Buy Thread   \n",
       "..              ...                                                ...   \n",
       "245        t2_ay4ik                     iPhone 12 Pro Max leather case   \n",
       "246        t2_6l4z3          Daily Tech Support Thread    November 15    \n",
       "247        t2_9xqhj  My MagSafe charger gets really warm after bein...   \n",
       "248     t2_1svtzo4x   Feature  iPhone now allows you to name Blueto...   \n",
       "249        t2_ca5xo  Anyone find a good cheap car mount yet for iph...   \n",
       "\n",
       "                                              selftext  \\\n",
       "0                                                        \n",
       "1                                                        \n",
       "2                                                        \n",
       "3     Welcome to the Daily Tech Support thread for ...   \n",
       "4     Welcome to the weekly stickied WSIB thread   ...   \n",
       "..                                                 ...   \n",
       "245  Got my 12 pro max  with Apple leather case  \\n...   \n",
       "246  Welcome to the Daily Tech Support thread for  ...   \n",
       "247  So I got my 12 Pro Max yesterday and the MagSa...   \n",
       "248                                                      \n",
       "249  Doesn t have to be MagSafe or have wireless ch...   \n",
       "\n",
       "                                            title/text subreddit  \n",
       "0     Here s how you can download any file on your ...    iphone  \n",
       "1     Discussion With iPhone 12 Pro and iPhone 12 P...    iphone  \n",
       "2     iPhone 12 wireless charging problem   fix on ...    iphone  \n",
       "3     Welcome to the Daily Tech Support thread for ...    iphone  \n",
       "4     Welcome to the weekly stickied WSIB thread   ...    iphone  \n",
       "..                                                 ...       ...  \n",
       "245  Got my 12 pro max  with Apple leather case  \\n...    iphone  \n",
       "246  Welcome to the Daily Tech Support thread for  ...    iphone  \n",
       "247  So I got my 12 Pro Max yesterday and the MagSa...    iphone  \n",
       "248    Feature  iPhone now allows you to name Bluet...    iphone  \n",
       "249  Doesn t have to be MagSafe or have wireless ch...    iphone  \n",
       "\n",
       "[250 rows x 5 columns]"
      ]
     },
     "execution_count": 14,
     "metadata": {},
     "output_type": "execute_result"
    }
   ],
   "source": [
    "iphone_df['title/text'] = iphone_df['selftext'] + ' ' + iphone_df['title']\n",
    "\n",
    "iphone_df = iphone_df[['author_fullname','title','selftext', 'title/text', 'subreddit']] \n",
    "\n",
    "iphone_df"
   ]
  },
  {
   "cell_type": "code",
   "execution_count": 15,
   "metadata": {},
   "outputs": [
    {
     "data": {
      "text/plain": [
       "(250, 2)"
      ]
     },
     "execution_count": 15,
     "metadata": {},
     "output_type": "execute_result"
    }
   ],
   "source": [
    "iPhone_filtered = iphone_df.drop_duplicates(subset = ['title/text'], keep = 'first')\n",
    "\n",
    "iPhone_filtered = iPhone_filtered[['title/text', 'subreddit']]\n",
    "\n",
    "iPhone_filtered.shape"
   ]
  },
  {
   "cell_type": "code",
   "execution_count": 16,
   "metadata": {},
   "outputs": [],
   "source": [
    "url = 'https://www.reddit.com/r/Android/new.json'\n",
    "res = requests.get(url, headers={'User-agent': 'Not Zaini Inc'})"
   ]
  },
  {
   "cell_type": "code",
   "execution_count": 18,
   "metadata": {},
   "outputs": [
    {
     "name": "stdout",
     "output_type": "stream",
     "text": [
      "https://www.reddit.com/r/Android/new.json\n",
      "7\n",
      "https://www.reddit.com/r/Android/new.json?after=t3_k5ay9a\n",
      "7\n",
      "https://www.reddit.com/r/Android/new.json?after=t3_k3txi1\n",
      "7\n",
      "https://www.reddit.com/r/Android/new.json?after=t3_k1o0rz\n",
      "8\n",
      "https://www.reddit.com/r/Android/new.json?after=t3_k0sbzx\n",
      "6\n",
      "https://www.reddit.com/r/Android/new.json?after=t3_jy9sae\n",
      "10\n",
      "https://www.reddit.com/r/Android/new.json?after=t3_jx3e2s\n",
      "10\n",
      "https://www.reddit.com/r/Android/new.json?after=t3_jw6g8k\n",
      "10\n",
      "https://www.reddit.com/r/Android/new.json?after=t3_jut90q\n",
      "8\n",
      "https://www.reddit.com/r/Android/new.json?after=t3_jtdw6f\n",
      "8\n"
     ]
    }
   ],
   "source": [
    "android_posts = []\n",
    "after = None\n",
    "\n",
    "for a in range(10):\n",
    "    if after == None:\n",
    "        current_url = url\n",
    "    else:\n",
    "        current_url = url + '?after=' + after\n",
    "    print(current_url)\n",
    "    res = requests.get(current_url, headers={'User-agent': 'Zaini Inc 1.0'})\n",
    "    \n",
    "    if res.status_code != 200:\n",
    "        print('Status error', res.status_code)\n",
    "        break\n",
    "    \n",
    "    current_dict = res.json()\n",
    "    current_posts = [p['data'] for p in current_dict['data']['children']]\n",
    "    android_posts.extend(current_posts)\n",
    "    after = current_dict['data']['after']\n",
    "    \n",
    "    # generate a random sleep duration to look more 'natural'\n",
    "    sleep_duration = random.randint(6,10)\n",
    "    print(sleep_duration)\n",
    "    time.sleep(sleep_duration)"
   ]
  },
  {
   "cell_type": "code",
   "execution_count": 19,
   "metadata": {},
   "outputs": [
    {
     "data": {
      "text/plain": [
       "list"
      ]
     },
     "execution_count": 19,
     "metadata": {},
     "output_type": "execute_result"
    }
   ],
   "source": [
    "type(android_posts)"
   ]
  },
  {
   "cell_type": "code",
   "execution_count": 20,
   "metadata": {},
   "outputs": [
    {
     "data": {
      "text/plain": [
       "250"
      ]
     },
     "execution_count": 20,
     "metadata": {},
     "output_type": "execute_result"
    }
   ],
   "source": [
    "len(android_posts)"
   ]
  },
  {
   "cell_type": "code",
   "execution_count": 21,
   "metadata": {},
   "outputs": [
    {
     "data": {
      "text/html": [
       "<div>\n",
       "<style scoped>\n",
       "    .dataframe tbody tr th:only-of-type {\n",
       "        vertical-align: middle;\n",
       "    }\n",
       "\n",
       "    .dataframe tbody tr th {\n",
       "        vertical-align: top;\n",
       "    }\n",
       "\n",
       "    .dataframe thead th {\n",
       "        text-align: right;\n",
       "    }\n",
       "</style>\n",
       "<table border=\"1\" class=\"dataframe\">\n",
       "  <thead>\n",
       "    <tr style=\"text-align: right;\">\n",
       "      <th></th>\n",
       "      <th>approved_at_utc</th>\n",
       "      <th>subreddit</th>\n",
       "      <th>selftext</th>\n",
       "      <th>author_fullname</th>\n",
       "      <th>saved</th>\n",
       "      <th>mod_reason_title</th>\n",
       "      <th>gilded</th>\n",
       "      <th>clicked</th>\n",
       "      <th>title</th>\n",
       "      <th>link_flair_richtext</th>\n",
       "      <th>...</th>\n",
       "      <th>parent_whitelist_status</th>\n",
       "      <th>stickied</th>\n",
       "      <th>url</th>\n",
       "      <th>subreddit_subscribers</th>\n",
       "      <th>created_utc</th>\n",
       "      <th>num_crossposts</th>\n",
       "      <th>media</th>\n",
       "      <th>is_video</th>\n",
       "      <th>link_flair_template_id</th>\n",
       "      <th>url_overridden_by_dest</th>\n",
       "    </tr>\n",
       "  </thead>\n",
       "  <tbody>\n",
       "    <tr>\n",
       "      <th>0</th>\n",
       "      <td>None</td>\n",
       "      <td>Android</td>\n",
       "      <td>**Samsung Buy Back Guranteed Buy Back Program...</td>\n",
       "      <td>t2_14auav</td>\n",
       "      <td>False</td>\n",
       "      <td>None</td>\n",
       "      <td>0</td>\n",
       "      <td>False</td>\n",
       "      <td>Samsung S20 Guaranteed Buy Back Program Change...</td>\n",
       "      <td>[]</td>\n",
       "      <td>...</td>\n",
       "      <td>all_ads</td>\n",
       "      <td>False</td>\n",
       "      <td>https://www.reddit.com/r/Android/comments/k6nv...</td>\n",
       "      <td>2281885</td>\n",
       "      <td>1.607099e+09</td>\n",
       "      <td>0</td>\n",
       "      <td>None</td>\n",
       "      <td>False</td>\n",
       "      <td>NaN</td>\n",
       "      <td>NaN</td>\n",
       "    </tr>\n",
       "    <tr>\n",
       "      <th>1</th>\n",
       "      <td>None</td>\n",
       "      <td>Android</td>\n",
       "      <td>it's kinda neat</td>\n",
       "      <td>t2_lxrm6</td>\n",
       "      <td>False</td>\n",
       "      <td>None</td>\n",
       "      <td>0</td>\n",
       "      <td>False</td>\n",
       "      <td>TIL a little Gboard trick. Select a word you'v...</td>\n",
       "      <td>[]</td>\n",
       "      <td>...</td>\n",
       "      <td>all_ads</td>\n",
       "      <td>False</td>\n",
       "      <td>https://www.reddit.com/r/Android/comments/k6ea...</td>\n",
       "      <td>2281885</td>\n",
       "      <td>1.607058e+09</td>\n",
       "      <td>0</td>\n",
       "      <td>None</td>\n",
       "      <td>False</td>\n",
       "      <td>NaN</td>\n",
       "      <td>NaN</td>\n",
       "    </tr>\n",
       "    <tr>\n",
       "      <th>2</th>\n",
       "      <td>None</td>\n",
       "      <td>Android</td>\n",
       "      <td>[Bose QC 35 IIs Promotion - Product Documenta...</td>\n",
       "      <td>t2_88cnb8an</td>\n",
       "      <td>False</td>\n",
       "      <td>None</td>\n",
       "      <td>0</td>\n",
       "      <td>False</td>\n",
       "      <td>You should be able to claim those 'free' Bose ...</td>\n",
       "      <td>[]</td>\n",
       "      <td>...</td>\n",
       "      <td>all_ads</td>\n",
       "      <td>False</td>\n",
       "      <td>https://www.reddit.com/r/Android/comments/k64r...</td>\n",
       "      <td>2281885</td>\n",
       "      <td>1.607025e+09</td>\n",
       "      <td>0</td>\n",
       "      <td>None</td>\n",
       "      <td>False</td>\n",
       "      <td>8eb9cbac-413c-11e3-ab4c-12313b04ceaf</td>\n",
       "      <td>NaN</td>\n",
       "    </tr>\n",
       "    <tr>\n",
       "      <th>3</th>\n",
       "      <td>None</td>\n",
       "      <td>Android</td>\n",
       "      <td></td>\n",
       "      <td>t2_172iji</td>\n",
       "      <td>False</td>\n",
       "      <td>None</td>\n",
       "      <td>0</td>\n",
       "      <td>False</td>\n",
       "      <td>2021 Smartphone cameras - What to expect!</td>\n",
       "      <td>[]</td>\n",
       "      <td>...</td>\n",
       "      <td>all_ads</td>\n",
       "      <td>False</td>\n",
       "      <td>https://www.youtube.com/watch?v=AdaOJw2BLQg</td>\n",
       "      <td>2281885</td>\n",
       "      <td>1.607095e+09</td>\n",
       "      <td>0</td>\n",
       "      <td>{'type': 'youtube.com', 'oembed': {'provider_u...</td>\n",
       "      <td>False</td>\n",
       "      <td>NaN</td>\n",
       "      <td>https://www.youtube.com/watch?v=AdaOJw2BLQg</td>\n",
       "    </tr>\n",
       "    <tr>\n",
       "      <th>4</th>\n",
       "      <td>None</td>\n",
       "      <td>Android</td>\n",
       "      <td></td>\n",
       "      <td>t2_kvvva</td>\n",
       "      <td>False</td>\n",
       "      <td>None</td>\n",
       "      <td>0</td>\n",
       "      <td>False</td>\n",
       "      <td>\"Pixel 5 Teardown - ITS ALIVE! (kinda..)\"</td>\n",
       "      <td>[]</td>\n",
       "      <td>...</td>\n",
       "      <td>all_ads</td>\n",
       "      <td>False</td>\n",
       "      <td>https://www.youtube.com/watch?v=3KMdkC536vs</td>\n",
       "      <td>2281885</td>\n",
       "      <td>1.607092e+09</td>\n",
       "      <td>0</td>\n",
       "      <td>{'type': 'youtube.com', 'oembed': {'provider_u...</td>\n",
       "      <td>False</td>\n",
       "      <td>NaN</td>\n",
       "      <td>https://www.youtube.com/watch?v=3KMdkC536vs</td>\n",
       "    </tr>\n",
       "  </tbody>\n",
       "</table>\n",
       "<p>5 rows × 108 columns</p>\n",
       "</div>"
      ],
      "text/plain": [
       "  approved_at_utc subreddit  \\\n",
       "0            None   Android   \n",
       "1            None   Android   \n",
       "2            None   Android   \n",
       "3            None   Android   \n",
       "4            None   Android   \n",
       "\n",
       "                                            selftext author_fullname  saved  \\\n",
       "0   **Samsung Buy Back Guranteed Buy Back Program...       t2_14auav  False   \n",
       "1                                    it's kinda neat        t2_lxrm6  False   \n",
       "2   [Bose QC 35 IIs Promotion - Product Documenta...     t2_88cnb8an  False   \n",
       "3                                                          t2_172iji  False   \n",
       "4                                                           t2_kvvva  False   \n",
       "\n",
       "  mod_reason_title  gilded  clicked  \\\n",
       "0             None       0    False   \n",
       "1             None       0    False   \n",
       "2             None       0    False   \n",
       "3             None       0    False   \n",
       "4             None       0    False   \n",
       "\n",
       "                                               title link_flair_richtext  ...  \\\n",
       "0  Samsung S20 Guaranteed Buy Back Program Change...                  []  ...   \n",
       "1  TIL a little Gboard trick. Select a word you'v...                  []  ...   \n",
       "2  You should be able to claim those 'free' Bose ...                  []  ...   \n",
       "3          2021 Smartphone cameras - What to expect!                  []  ...   \n",
       "4          \"Pixel 5 Teardown - ITS ALIVE! (kinda..)\"                  []  ...   \n",
       "\n",
       "  parent_whitelist_status  stickied  \\\n",
       "0                 all_ads     False   \n",
       "1                 all_ads     False   \n",
       "2                 all_ads     False   \n",
       "3                 all_ads     False   \n",
       "4                 all_ads     False   \n",
       "\n",
       "                                                 url subreddit_subscribers  \\\n",
       "0  https://www.reddit.com/r/Android/comments/k6nv...               2281885   \n",
       "1  https://www.reddit.com/r/Android/comments/k6ea...               2281885   \n",
       "2  https://www.reddit.com/r/Android/comments/k64r...               2281885   \n",
       "3        https://www.youtube.com/watch?v=AdaOJw2BLQg               2281885   \n",
       "4        https://www.youtube.com/watch?v=3KMdkC536vs               2281885   \n",
       "\n",
       "    created_utc  num_crossposts  \\\n",
       "0  1.607099e+09               0   \n",
       "1  1.607058e+09               0   \n",
       "2  1.607025e+09               0   \n",
       "3  1.607095e+09               0   \n",
       "4  1.607092e+09               0   \n",
       "\n",
       "                                               media  is_video  \\\n",
       "0                                               None     False   \n",
       "1                                               None     False   \n",
       "2                                               None     False   \n",
       "3  {'type': 'youtube.com', 'oembed': {'provider_u...     False   \n",
       "4  {'type': 'youtube.com', 'oembed': {'provider_u...     False   \n",
       "\n",
       "                 link_flair_template_id  \\\n",
       "0                                   NaN   \n",
       "1                                   NaN   \n",
       "2  8eb9cbac-413c-11e3-ab4c-12313b04ceaf   \n",
       "3                                   NaN   \n",
       "4                                   NaN   \n",
       "\n",
       "                        url_overridden_by_dest  \n",
       "0                                          NaN  \n",
       "1                                          NaN  \n",
       "2                                          NaN  \n",
       "3  https://www.youtube.com/watch?v=AdaOJw2BLQg  \n",
       "4  https://www.youtube.com/watch?v=3KMdkC536vs  \n",
       "\n",
       "[5 rows x 108 columns]"
      ]
     },
     "execution_count": 21,
     "metadata": {},
     "output_type": "execute_result"
    }
   ],
   "source": [
    "android_df = pd.DataFrame(android_posts)\n",
    "android_df.head()"
   ]
  },
  {
   "cell_type": "code",
   "execution_count": 22,
   "metadata": {},
   "outputs": [],
   "source": [
    "android_df['selftext'].replace(r'[^\\w\\s]', ' ', regex=True, inplace = True)\n",
    "\n",
    "android_df['title'].replace(r'[^\\w\\s]', ' ', regex=True, inplace = True)\n",
    "\n",
    "android_df.fillna(value = ' ', inplace = True)"
   ]
  },
  {
   "cell_type": "code",
   "execution_count": 23,
   "metadata": {},
   "outputs": [
    {
     "data": {
      "text/html": [
       "<div>\n",
       "<style scoped>\n",
       "    .dataframe tbody tr th:only-of-type {\n",
       "        vertical-align: middle;\n",
       "    }\n",
       "\n",
       "    .dataframe tbody tr th {\n",
       "        vertical-align: top;\n",
       "    }\n",
       "\n",
       "    .dataframe thead th {\n",
       "        text-align: right;\n",
       "    }\n",
       "</style>\n",
       "<table border=\"1\" class=\"dataframe\">\n",
       "  <thead>\n",
       "    <tr style=\"text-align: right;\">\n",
       "      <th></th>\n",
       "      <th>author_fullname</th>\n",
       "      <th>title</th>\n",
       "      <th>selftext</th>\n",
       "      <th>title/text</th>\n",
       "      <th>subreddit</th>\n",
       "    </tr>\n",
       "  </thead>\n",
       "  <tbody>\n",
       "    <tr>\n",
       "      <th>0</th>\n",
       "      <td>t2_14auav</td>\n",
       "      <td>Samsung S20 Guaranteed Buy Back Program Change...</td>\n",
       "      <td>Samsung Buy Back Guranteed Buy Back Program...</td>\n",
       "      <td>Samsung Buy Back Guranteed Buy Back Program...</td>\n",
       "      <td>Android</td>\n",
       "    </tr>\n",
       "    <tr>\n",
       "      <th>1</th>\n",
       "      <td>t2_lxrm6</td>\n",
       "      <td>TIL a little Gboard trick  Select a word you v...</td>\n",
       "      <td>it s kinda neat</td>\n",
       "      <td>it s kinda neat TIL a little Gboard trick  Sel...</td>\n",
       "      <td>Android</td>\n",
       "    </tr>\n",
       "    <tr>\n",
       "      <th>2</th>\n",
       "      <td>t2_88cnb8an</td>\n",
       "      <td>You should be able to claim those  free  Bose ...</td>\n",
       "      <td>Bose QC 35 IIs Promotion   Product Documenta...</td>\n",
       "      <td>Bose QC 35 IIs Promotion   Product Documenta...</td>\n",
       "      <td>Android</td>\n",
       "    </tr>\n",
       "    <tr>\n",
       "      <th>3</th>\n",
       "      <td>t2_172iji</td>\n",
       "      <td>2021 Smartphone cameras   What to expect</td>\n",
       "      <td></td>\n",
       "      <td>2021 Smartphone cameras   What to expect</td>\n",
       "      <td>Android</td>\n",
       "    </tr>\n",
       "    <tr>\n",
       "      <th>4</th>\n",
       "      <td>t2_kvvva</td>\n",
       "      <td>Pixel 5 Teardown   ITS ALIVE   kinda</td>\n",
       "      <td></td>\n",
       "      <td>Pixel 5 Teardown   ITS ALIVE   kinda</td>\n",
       "      <td>Android</td>\n",
       "    </tr>\n",
       "    <tr>\n",
       "      <th>...</th>\n",
       "      <td>...</td>\n",
       "      <td>...</td>\n",
       "      <td>...</td>\n",
       "      <td>...</td>\n",
       "      <td>...</td>\n",
       "    </tr>\n",
       "    <tr>\n",
       "      <th>245</th>\n",
       "      <td>t2_772lrq6s</td>\n",
       "      <td>HTC sales nearly halved last month   Taipei Times</td>\n",
       "      <td></td>\n",
       "      <td>HTC sales nearly halved last month   Taipei T...</td>\n",
       "      <td>Android</td>\n",
       "    </tr>\n",
       "    <tr>\n",
       "      <th>246</th>\n",
       "      <td>t2_zh1pu</td>\n",
       "      <td>I tested the Note 20 Ultra Exynos 990 model an...</td>\n",
       "      <td>You won t believe in my country they only sell...</td>\n",
       "      <td>You won t believe in my country they only sell...</td>\n",
       "      <td>Android</td>\n",
       "    </tr>\n",
       "    <tr>\n",
       "      <th>247</th>\n",
       "      <td>t2_2dbyebba</td>\n",
       "      <td>Mysterious Bugs Were Used to Hack iPhones and ...</td>\n",
       "      <td></td>\n",
       "      <td>Mysterious Bugs Were Used to Hack iPhones and...</td>\n",
       "      <td>Android</td>\n",
       "    </tr>\n",
       "    <tr>\n",
       "      <th>248</th>\n",
       "      <td>t2_7k499ptf</td>\n",
       "      <td>Android enthusiasts  Do agree or disagree with...</td>\n",
       "      <td>What happens when designers prioritize aesthe...</td>\n",
       "      <td>What happens when designers prioritize aesthe...</td>\n",
       "      <td>Android</td>\n",
       "    </tr>\n",
       "    <tr>\n",
       "      <th>249</th>\n",
       "      <td>t2_12xkky</td>\n",
       "      <td>For those looking across the pond at the new i...</td>\n",
       "      <td>I got my first android phone in 2011  It was a...</td>\n",
       "      <td>I got my first android phone in 2011  It was a...</td>\n",
       "      <td>Android</td>\n",
       "    </tr>\n",
       "  </tbody>\n",
       "</table>\n",
       "<p>250 rows × 5 columns</p>\n",
       "</div>"
      ],
      "text/plain": [
       "    author_fullname                                              title  \\\n",
       "0         t2_14auav  Samsung S20 Guaranteed Buy Back Program Change...   \n",
       "1          t2_lxrm6  TIL a little Gboard trick  Select a word you v...   \n",
       "2       t2_88cnb8an  You should be able to claim those  free  Bose ...   \n",
       "3         t2_172iji          2021 Smartphone cameras   What to expect    \n",
       "4          t2_kvvva           Pixel 5 Teardown   ITS ALIVE   kinda       \n",
       "..              ...                                                ...   \n",
       "245     t2_772lrq6s  HTC sales nearly halved last month   Taipei Times   \n",
       "246        t2_zh1pu  I tested the Note 20 Ultra Exynos 990 model an...   \n",
       "247     t2_2dbyebba  Mysterious Bugs Were Used to Hack iPhones and ...   \n",
       "248     t2_7k499ptf  Android enthusiasts  Do agree or disagree with...   \n",
       "249       t2_12xkky  For those looking across the pond at the new i...   \n",
       "\n",
       "                                              selftext  \\\n",
       "0       Samsung Buy Back Guranteed Buy Back Program...   \n",
       "1                                      it s kinda neat   \n",
       "2      Bose QC 35 IIs Promotion   Product Documenta...   \n",
       "3                                                        \n",
       "4                                                        \n",
       "..                                                 ...   \n",
       "245                                                      \n",
       "246  You won t believe in my country they only sell...   \n",
       "247                                                      \n",
       "248   What happens when designers prioritize aesthe...   \n",
       "249  I got my first android phone in 2011  It was a...   \n",
       "\n",
       "                                            title/text subreddit  \n",
       "0       Samsung Buy Back Guranteed Buy Back Program...   Android  \n",
       "1    it s kinda neat TIL a little Gboard trick  Sel...   Android  \n",
       "2      Bose QC 35 IIs Promotion   Product Documenta...   Android  \n",
       "3            2021 Smartphone cameras   What to expect    Android  \n",
       "4             Pixel 5 Teardown   ITS ALIVE   kinda       Android  \n",
       "..                                                 ...       ...  \n",
       "245   HTC sales nearly halved last month   Taipei T...   Android  \n",
       "246  You won t believe in my country they only sell...   Android  \n",
       "247   Mysterious Bugs Were Used to Hack iPhones and...   Android  \n",
       "248   What happens when designers prioritize aesthe...   Android  \n",
       "249  I got my first android phone in 2011  It was a...   Android  \n",
       "\n",
       "[250 rows x 5 columns]"
      ]
     },
     "execution_count": 23,
     "metadata": {},
     "output_type": "execute_result"
    }
   ],
   "source": [
    "android_df['title/text'] = android_df['selftext'] + ' ' + android_df['title']\n",
    "\n",
    "android_df = android_df[['author_fullname','title','selftext', 'title/text', 'subreddit']] \n",
    "\n",
    "android_df"
   ]
  },
  {
   "cell_type": "code",
   "execution_count": 24,
   "metadata": {},
   "outputs": [
    {
     "data": {
      "text/plain": [
       "(250, 2)"
      ]
     },
     "execution_count": 24,
     "metadata": {},
     "output_type": "execute_result"
    }
   ],
   "source": [
    "android_filtered = android_df.drop_duplicates(subset = ['title/text'], keep = 'first')\n",
    "\n",
    "android_filtered = android_filtered[['title/text', 'subreddit']]\n",
    "\n",
    "android_filtered.shape"
   ]
  },
  {
   "cell_type": "code",
   "execution_count": 25,
   "metadata": {},
   "outputs": [],
   "source": [
    "combined_test = pd.concat([android_filtered, iPhone_filtered])"
   ]
  },
  {
   "cell_type": "code",
   "execution_count": 26,
   "metadata": {},
   "outputs": [
    {
     "data": {
      "text/plain": [
       "(500, 2)"
      ]
     },
     "execution_count": 26,
     "metadata": {},
     "output_type": "execute_result"
    }
   ],
   "source": [
    "combined_test.shape"
   ]
  },
  {
   "cell_type": "code",
   "execution_count": 27,
   "metadata": {},
   "outputs": [],
   "source": [
    "combined_test.reset_index(drop = True, inplace = True)"
   ]
  },
  {
   "cell_type": "code",
   "execution_count": 28,
   "metadata": {},
   "outputs": [],
   "source": [
    "combined_test.replace({'subreddit': {'iphone': 1, 'Android': 0}}, inplace = True)"
   ]
  },
  {
   "cell_type": "code",
   "execution_count": 29,
   "metadata": {},
   "outputs": [
    {
     "data": {
      "text/html": [
       "<div>\n",
       "<style scoped>\n",
       "    .dataframe tbody tr th:only-of-type {\n",
       "        vertical-align: middle;\n",
       "    }\n",
       "\n",
       "    .dataframe tbody tr th {\n",
       "        vertical-align: top;\n",
       "    }\n",
       "\n",
       "    .dataframe thead th {\n",
       "        text-align: right;\n",
       "    }\n",
       "</style>\n",
       "<table border=\"1\" class=\"dataframe\">\n",
       "  <thead>\n",
       "    <tr style=\"text-align: right;\">\n",
       "      <th></th>\n",
       "      <th>title/text</th>\n",
       "      <th>subreddit</th>\n",
       "    </tr>\n",
       "  </thead>\n",
       "  <tbody>\n",
       "    <tr>\n",
       "      <th>0</th>\n",
       "      <td>Samsung Buy Back Guranteed Buy Back Program...</td>\n",
       "      <td>0</td>\n",
       "    </tr>\n",
       "    <tr>\n",
       "      <th>1</th>\n",
       "      <td>it s kinda neat TIL a little Gboard trick  Sel...</td>\n",
       "      <td>0</td>\n",
       "    </tr>\n",
       "    <tr>\n",
       "      <th>2</th>\n",
       "      <td>Bose QC 35 IIs Promotion   Product Documenta...</td>\n",
       "      <td>0</td>\n",
       "    </tr>\n",
       "  </tbody>\n",
       "</table>\n",
       "</div>"
      ],
      "text/plain": [
       "                                          title/text  subreddit\n",
       "0     Samsung Buy Back Guranteed Buy Back Program...          0\n",
       "1  it s kinda neat TIL a little Gboard trick  Sel...          0\n",
       "2    Bose QC 35 IIs Promotion   Product Documenta...          0"
      ]
     },
     "execution_count": 29,
     "metadata": {},
     "output_type": "execute_result"
    }
   ],
   "source": [
    "combined_test.head(3)"
   ]
  },
  {
   "cell_type": "code",
   "execution_count": 30,
   "metadata": {},
   "outputs": [
    {
     "data": {
      "text/html": [
       "<div>\n",
       "<style scoped>\n",
       "    .dataframe tbody tr th:only-of-type {\n",
       "        vertical-align: middle;\n",
       "    }\n",
       "\n",
       "    .dataframe tbody tr th {\n",
       "        vertical-align: top;\n",
       "    }\n",
       "\n",
       "    .dataframe thead th {\n",
       "        text-align: right;\n",
       "    }\n",
       "</style>\n",
       "<table border=\"1\" class=\"dataframe\">\n",
       "  <thead>\n",
       "    <tr style=\"text-align: right;\">\n",
       "      <th></th>\n",
       "      <th>title/text</th>\n",
       "      <th>subreddit</th>\n",
       "    </tr>\n",
       "  </thead>\n",
       "  <tbody>\n",
       "    <tr>\n",
       "      <th>497</th>\n",
       "      <td>So I got my 12 Pro Max yesterday and the MagSa...</td>\n",
       "      <td>1</td>\n",
       "    </tr>\n",
       "    <tr>\n",
       "      <th>498</th>\n",
       "      <td>Feature  iPhone now allows you to name Bluet...</td>\n",
       "      <td>1</td>\n",
       "    </tr>\n",
       "    <tr>\n",
       "      <th>499</th>\n",
       "      <td>Doesn t have to be MagSafe or have wireless ch...</td>\n",
       "      <td>1</td>\n",
       "    </tr>\n",
       "  </tbody>\n",
       "</table>\n",
       "</div>"
      ],
      "text/plain": [
       "                                            title/text  subreddit\n",
       "497  So I got my 12 Pro Max yesterday and the MagSa...          1\n",
       "498    Feature  iPhone now allows you to name Bluet...          1\n",
       "499  Doesn t have to be MagSafe or have wireless ch...          1"
      ]
     },
     "execution_count": 30,
     "metadata": {},
     "output_type": "execute_result"
    }
   ],
   "source": [
    "combined_test.tail(3)"
   ]
  },
  {
   "cell_type": "code",
   "execution_count": 31,
   "metadata": {},
   "outputs": [
    {
     "data": {
      "text/plain": [
       "179"
      ]
     },
     "execution_count": 31,
     "metadata": {},
     "output_type": "execute_result"
    }
   ],
   "source": [
    "stops = set(stopwords.words('english'))\n",
    "len(stops)"
   ]
  },
  {
   "cell_type": "code",
   "execution_count": 32,
   "metadata": {},
   "outputs": [
    {
     "data": {
      "text/plain": [
       "10"
      ]
     },
     "execution_count": 32,
     "metadata": {},
     "output_type": "execute_result"
    }
   ],
   "source": [
    "new_stops = {'iphone', 'iphones', 'android', 'phone', \n",
    "             'http', 'amp', 'www', 'com', 'thread', 'reddit'}\n",
    "\n",
    "len(new_stops)"
   ]
  },
  {
   "cell_type": "code",
   "execution_count": 33,
   "metadata": {},
   "outputs": [
    {
     "data": {
      "text/plain": [
       "189"
      ]
     },
     "execution_count": 33,
     "metadata": {},
     "output_type": "execute_result"
    }
   ],
   "source": [
    "updated_stops = stops.union(new_stops)\n",
    "len(updated_stops)"
   ]
  },
  {
   "cell_type": "code",
   "execution_count": 34,
   "metadata": {},
   "outputs": [],
   "source": [
    "def review_to_words(raw_review, stoplist):\n",
    "    \n",
    "    letters_only = re.sub(\"[^a-zA-Z]\", \" \", raw_review)\n",
    "    \n",
    "    words = letters_only.lower().split()\n",
    "    \n",
    "    meaningful_words = [w for w in words if w not in stoplist]\n",
    "\n",
    "    lemmatizer = WordNetLemmatizer()\n",
    "    lemmas = [lemmatizer.lemmatize(word) for word in meaningful_words]\n",
    "\n",
    "    return(\" \".join(lemmas))"
   ]
  },
  {
   "cell_type": "code",
   "execution_count": 35,
   "metadata": {},
   "outputs": [
    {
     "data": {
      "text/plain": [
       "'it s kinda neat TIL a little Gboard trick  Select a word you ve typed and hit the shift key a couple of times and NOW IT S ALL CAPS '"
      ]
     },
     "execution_count": 35,
     "metadata": {},
     "output_type": "execute_result"
    }
   ],
   "source": [
    "combined_test['title/text'][1]"
   ]
  },
  {
   "cell_type": "code",
   "execution_count": 36,
   "metadata": {},
   "outputs": [
    {
     "data": {
      "text/plain": [
       "'kinda neat til little gboard trick select word typed hit shift key couple time cap'"
      ]
     },
     "execution_count": 36,
     "metadata": {},
     "output_type": "execute_result"
    }
   ],
   "source": [
    "review_to_words(combined_test['title/text'][1], updated_stops)"
   ]
  },
  {
   "cell_type": "code",
   "execution_count": 37,
   "metadata": {},
   "outputs": [
    {
     "data": {
      "text/plain": [
       "['samsung buy back guranteed buy back program samsung ran promotion called guaranteed buy back program galaxy series release http samsung u mobile question http slickdeals net sdtid sdop sdpid sdfid lno trd http samsung u mobile pv au u http f fwww samsung fus fmobile fbuy back ffrequently asked question f basically guaranteed half retail price back cash return good condition within month purchased samsung galaxy ultra samsung u released checked samsung website saw return date reduced month month without notice customer say need return december receive credit back also changed whole term half purchase price half retail price return value significantly le promised beginning advise everyone purchased buy back program samsung check order online make sure original invoice return date return value written might need later sure whether legal samsung change term condition purchase made past look pretty unethical original term condition http web archive org web http samsung u mobile buy back term condition http web archive org web http samsung u mobile buy back term condition original promotion marketing qeegmk png imgur http imgur qeegmk png order page samsung http samsung show return date limit changed december th month release date ygl v png imgur http imgur ygl v png look like changed term condition july th month people purchased program samsung guaranteed buy back program change month month',\n",
       " 'kinda neat til little gboard trick select word typed hit shift key couple time cap',\n",
       " 'bose qc ii promotion product documentation help google http support google product documentation answer hl en x b act fast case run able claim free bose headphone g preorder']"
      ]
     },
     "execution_count": 37,
     "metadata": {},
     "output_type": "execute_result"
    }
   ],
   "source": [
    "cleaned_text = []\n",
    "\n",
    "for post in combined_test['title/text']:\n",
    "    \n",
    "    cleaned_text.append(review_to_words(post, updated_stops))\n",
    "    \n",
    "cleaned_text[:3]"
   ]
  },
  {
   "cell_type": "code",
   "execution_count": 38,
   "metadata": {},
   "outputs": [
    {
     "data": {
      "text/plain": [
       "500"
      ]
     },
     "execution_count": 38,
     "metadata": {},
     "output_type": "execute_result"
    }
   ],
   "source": [
    "len(cleaned_text)"
   ]
  },
  {
   "cell_type": "code",
   "execution_count": 39,
   "metadata": {},
   "outputs": [],
   "source": [
    "combined_test['cleaned_text'] = cleaned_text"
   ]
  },
  {
   "cell_type": "code",
   "execution_count": 40,
   "metadata": {},
   "outputs": [
    {
     "data": {
      "text/html": [
       "<div>\n",
       "<style scoped>\n",
       "    .dataframe tbody tr th:only-of-type {\n",
       "        vertical-align: middle;\n",
       "    }\n",
       "\n",
       "    .dataframe tbody tr th {\n",
       "        vertical-align: top;\n",
       "    }\n",
       "\n",
       "    .dataframe thead th {\n",
       "        text-align: right;\n",
       "    }\n",
       "</style>\n",
       "<table border=\"1\" class=\"dataframe\">\n",
       "  <thead>\n",
       "    <tr style=\"text-align: right;\">\n",
       "      <th></th>\n",
       "      <th>title/text</th>\n",
       "      <th>subreddit</th>\n",
       "      <th>cleaned_text</th>\n",
       "    </tr>\n",
       "  </thead>\n",
       "  <tbody>\n",
       "    <tr>\n",
       "      <th>16</th>\n",
       "      <td>Files by Google will soon get a Trash folder ...</td>\n",
       "      <td>0</td>\n",
       "      <td>file google soon get trash folder help restore...</td>\n",
       "    </tr>\n",
       "    <tr>\n",
       "      <th>221</th>\n",
       "      <td>Fujitsu arrows nx9 f 52a anounces in Japan</td>\n",
       "      <td>0</td>\n",
       "      <td>fujitsu arrow nx f anounces japan</td>\n",
       "    </tr>\n",
       "    <tr>\n",
       "      <th>302</th>\n",
       "      <td>I m kind of stuck between the SE2020 and 12min...</td>\n",
       "      <td>1</td>\n",
       "      <td>kind stuck se mini noticed several post saying...</td>\n",
       "    </tr>\n",
       "    <tr>\n",
       "      <th>211</th>\n",
       "      <td>Exclusive  OnePlus 9 CAD render reveals trip...</td>\n",
       "      <td>0</td>\n",
       "      <td>exclusive oneplus cad render reveals triple ca...</td>\n",
       "    </tr>\n",
       "    <tr>\n",
       "      <th>354</th>\n",
       "      <td>Update at the bottom \\n\\nHello all  Wanted to...</td>\n",
       "      <td>1</td>\n",
       "      <td>update bottom hello wanted write forget event ...</td>\n",
       "    </tr>\n",
       "    <tr>\n",
       "      <th>68</th>\n",
       "      <td>Parliament wants to grant EU consumers a  rig...</td>\n",
       "      <td>0</td>\n",
       "      <td>parliament want grant eu consumer right repair...</td>\n",
       "    </tr>\n",
       "  </tbody>\n",
       "</table>\n",
       "</div>"
      ],
      "text/plain": [
       "                                            title/text  subreddit  \\\n",
       "16    Files by Google will soon get a Trash folder ...          0   \n",
       "221         Fujitsu arrows nx9 f 52a anounces in Japan          0   \n",
       "302  I m kind of stuck between the SE2020 and 12min...          1   \n",
       "211    Exclusive  OnePlus 9 CAD render reveals trip...          0   \n",
       "354   Update at the bottom \\n\\nHello all  Wanted to...          1   \n",
       "68    Parliament wants to grant EU consumers a  rig...          0   \n",
       "\n",
       "                                          cleaned_text  \n",
       "16   file google soon get trash folder help restore...  \n",
       "221                  fujitsu arrow nx f anounces japan  \n",
       "302  kind stuck se mini noticed several post saying...  \n",
       "211  exclusive oneplus cad render reveals triple ca...  \n",
       "354  update bottom hello wanted write forget event ...  \n",
       "68   parliament want grant eu consumer right repair...  "
      ]
     },
     "execution_count": 40,
     "metadata": {},
     "output_type": "execute_result"
    }
   ],
   "source": [
    "combined_test.sample(6)"
   ]
  },
  {
   "cell_type": "code",
   "execution_count": 41,
   "metadata": {},
   "outputs": [],
   "source": [
    "combined_test[['cleaned_text', 'subreddit']].to_csv('datasets/combined_test.csv')"
   ]
  }
 ],
 "metadata": {
  "kernelspec": {
   "display_name": "Python 3",
   "language": "python",
   "name": "python3"
  },
  "language_info": {
   "codemirror_mode": {
    "name": "ipython",
    "version": 3
   },
   "file_extension": ".py",
   "mimetype": "text/x-python",
   "name": "python",
   "nbconvert_exporter": "python",
   "pygments_lexer": "ipython3",
   "version": "3.8.5"
  }
 },
 "nbformat": 4,
 "nbformat_minor": 4
}
