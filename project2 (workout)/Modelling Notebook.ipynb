{
 "cells": [
  {
   "cell_type": "code",
   "execution_count": 1,
   "metadata": {},
   "outputs": [],
   "source": [
    "#Import basic EDA and Visualisation libraries\n",
    "\n",
    "import pandas as pd\n",
    "import numpy as np\n",
    "import seaborn as sns\n",
    "import matplotlib.pyplot as plt\n",
    "\n",
    "from sklearn.linear_model import LinearRegression, LassoCV, RidgeCV, ElasticNetCV\n",
    "from sklearn.model_selection import train_test_split, cross_val_score\n",
    "from sklearn.preprocessing import StandardScaler\n",
    "from sklearn.metrics import mean_squared_error, r2_score"
   ]
  },
  {
   "cell_type": "code",
   "execution_count": 2,
   "metadata": {},
   "outputs": [],
   "source": [
    "housing_train = pd.read_csv('datasets/Train_Cleaned.csv')"
   ]
  },
  {
   "cell_type": "code",
   "execution_count": 3,
   "metadata": {},
   "outputs": [
    {
     "data": {
      "text/html": [
       "<div>\n",
       "<style scoped>\n",
       "    .dataframe tbody tr th:only-of-type {\n",
       "        vertical-align: middle;\n",
       "    }\n",
       "\n",
       "    .dataframe tbody tr th {\n",
       "        vertical-align: top;\n",
       "    }\n",
       "\n",
       "    .dataframe thead th {\n",
       "        text-align: right;\n",
       "    }\n",
       "</style>\n",
       "<table border=\"1\" class=\"dataframe\">\n",
       "  <thead>\n",
       "    <tr style=\"text-align: right;\">\n",
       "      <th></th>\n",
       "      <th>Id</th>\n",
       "      <th>Lot Frontage</th>\n",
       "      <th>Lot Area</th>\n",
       "      <th>Lot Shape</th>\n",
       "      <th>Land Slope</th>\n",
       "      <th>Mas Vnr Area</th>\n",
       "      <th>Bsmt Qual</th>\n",
       "      <th>Bsmt Cond</th>\n",
       "      <th>Bsmt Exposure</th>\n",
       "      <th>BsmtFin Type 1</th>\n",
       "      <th>...</th>\n",
       "      <th>Condition 1_PosN</th>\n",
       "      <th>Condition 1_RRAe</th>\n",
       "      <th>Condition 1_RRAn</th>\n",
       "      <th>Condition 1_RRNe</th>\n",
       "      <th>Condition 1_RRNn</th>\n",
       "      <th>Lot Config_Corner</th>\n",
       "      <th>Lot Config_CulDSac</th>\n",
       "      <th>Lot Config_FR2</th>\n",
       "      <th>Lot Config_FR3</th>\n",
       "      <th>Lot Config_Inside</th>\n",
       "    </tr>\n",
       "  </thead>\n",
       "  <tbody>\n",
       "    <tr>\n",
       "      <th>0</th>\n",
       "      <td>109</td>\n",
       "      <td>68.0</td>\n",
       "      <td>13517</td>\n",
       "      <td>2</td>\n",
       "      <td>2</td>\n",
       "      <td>289.0</td>\n",
       "      <td>3</td>\n",
       "      <td>3</td>\n",
       "      <td>1</td>\n",
       "      <td>6</td>\n",
       "      <td>...</td>\n",
       "      <td>0</td>\n",
       "      <td>1</td>\n",
       "      <td>0</td>\n",
       "      <td>0</td>\n",
       "      <td>0</td>\n",
       "      <td>0</td>\n",
       "      <td>1</td>\n",
       "      <td>0</td>\n",
       "      <td>0</td>\n",
       "      <td>0</td>\n",
       "    </tr>\n",
       "    <tr>\n",
       "      <th>1</th>\n",
       "      <td>544</td>\n",
       "      <td>43.0</td>\n",
       "      <td>11492</td>\n",
       "      <td>2</td>\n",
       "      <td>2</td>\n",
       "      <td>132.0</td>\n",
       "      <td>4</td>\n",
       "      <td>3</td>\n",
       "      <td>1</td>\n",
       "      <td>6</td>\n",
       "      <td>...</td>\n",
       "      <td>0</td>\n",
       "      <td>0</td>\n",
       "      <td>0</td>\n",
       "      <td>0</td>\n",
       "      <td>0</td>\n",
       "      <td>0</td>\n",
       "      <td>1</td>\n",
       "      <td>0</td>\n",
       "      <td>0</td>\n",
       "      <td>0</td>\n",
       "    </tr>\n",
       "    <tr>\n",
       "      <th>2</th>\n",
       "      <td>153</td>\n",
       "      <td>68.0</td>\n",
       "      <td>7922</td>\n",
       "      <td>3</td>\n",
       "      <td>2</td>\n",
       "      <td>0.0</td>\n",
       "      <td>3</td>\n",
       "      <td>3</td>\n",
       "      <td>1</td>\n",
       "      <td>6</td>\n",
       "      <td>...</td>\n",
       "      <td>0</td>\n",
       "      <td>0</td>\n",
       "      <td>0</td>\n",
       "      <td>0</td>\n",
       "      <td>0</td>\n",
       "      <td>0</td>\n",
       "      <td>0</td>\n",
       "      <td>0</td>\n",
       "      <td>0</td>\n",
       "      <td>1</td>\n",
       "    </tr>\n",
       "    <tr>\n",
       "      <th>3</th>\n",
       "      <td>318</td>\n",
       "      <td>73.0</td>\n",
       "      <td>9802</td>\n",
       "      <td>3</td>\n",
       "      <td>2</td>\n",
       "      <td>0.0</td>\n",
       "      <td>4</td>\n",
       "      <td>3</td>\n",
       "      <td>1</td>\n",
       "      <td>1</td>\n",
       "      <td>...</td>\n",
       "      <td>0</td>\n",
       "      <td>0</td>\n",
       "      <td>0</td>\n",
       "      <td>0</td>\n",
       "      <td>0</td>\n",
       "      <td>0</td>\n",
       "      <td>0</td>\n",
       "      <td>0</td>\n",
       "      <td>0</td>\n",
       "      <td>1</td>\n",
       "    </tr>\n",
       "    <tr>\n",
       "      <th>4</th>\n",
       "      <td>255</td>\n",
       "      <td>82.0</td>\n",
       "      <td>14235</td>\n",
       "      <td>2</td>\n",
       "      <td>2</td>\n",
       "      <td>0.0</td>\n",
       "      <td>2</td>\n",
       "      <td>4</td>\n",
       "      <td>1</td>\n",
       "      <td>1</td>\n",
       "      <td>...</td>\n",
       "      <td>0</td>\n",
       "      <td>0</td>\n",
       "      <td>0</td>\n",
       "      <td>0</td>\n",
       "      <td>0</td>\n",
       "      <td>0</td>\n",
       "      <td>0</td>\n",
       "      <td>0</td>\n",
       "      <td>0</td>\n",
       "      <td>1</td>\n",
       "    </tr>\n",
       "  </tbody>\n",
       "</table>\n",
       "<p>5 rows × 193 columns</p>\n",
       "</div>"
      ],
      "text/plain": [
       "    Id  Lot Frontage  Lot Area  Lot Shape  Land Slope  Mas Vnr Area  \\\n",
       "0  109          68.0     13517          2           2         289.0   \n",
       "1  544          43.0     11492          2           2         132.0   \n",
       "2  153          68.0      7922          3           2           0.0   \n",
       "3  318          73.0      9802          3           2           0.0   \n",
       "4  255          82.0     14235          2           2           0.0   \n",
       "\n",
       "   Bsmt Qual  Bsmt Cond  Bsmt Exposure  BsmtFin Type 1  ...  Condition 1_PosN  \\\n",
       "0          3          3              1               6  ...                 0   \n",
       "1          4          3              1               6  ...                 0   \n",
       "2          3          3              1               6  ...                 0   \n",
       "3          4          3              1               1  ...                 0   \n",
       "4          2          4              1               1  ...                 0   \n",
       "\n",
       "   Condition 1_RRAe  Condition 1_RRAn  Condition 1_RRNe  Condition 1_RRNn  \\\n",
       "0                 1                 0                 0                 0   \n",
       "1                 0                 0                 0                 0   \n",
       "2                 0                 0                 0                 0   \n",
       "3                 0                 0                 0                 0   \n",
       "4                 0                 0                 0                 0   \n",
       "\n",
       "   Lot Config_Corner  Lot Config_CulDSac  Lot Config_FR2  Lot Config_FR3  \\\n",
       "0                  0                   1               0               0   \n",
       "1                  0                   1               0               0   \n",
       "2                  0                   0               0               0   \n",
       "3                  0                   0               0               0   \n",
       "4                  0                   0               0               0   \n",
       "\n",
       "   Lot Config_Inside  \n",
       "0                  0  \n",
       "1                  0  \n",
       "2                  1  \n",
       "3                  1  \n",
       "4                  1  \n",
       "\n",
       "[5 rows x 193 columns]"
      ]
     },
     "execution_count": 3,
     "metadata": {},
     "output_type": "execute_result"
    }
   ],
   "source": [
    "housing_train.head()"
   ]
  },
  {
   "cell_type": "code",
   "execution_count": 4,
   "metadata": {},
   "outputs": [],
   "source": [
    "housing_train.set_index('Id', inplace = True)"
   ]
  },
  {
   "cell_type": "code",
   "execution_count": 5,
   "metadata": {},
   "outputs": [
    {
     "data": {
      "text/plain": [
       "(1961, 192)"
      ]
     },
     "execution_count": 5,
     "metadata": {},
     "output_type": "execute_result"
    }
   ],
   "source": [
    "housing_train.shape"
   ]
  },
  {
   "cell_type": "code",
   "execution_count": 6,
   "metadata": {},
   "outputs": [
    {
     "data": {
      "text/html": [
       "<div>\n",
       "<style scoped>\n",
       "    .dataframe tbody tr th:only-of-type {\n",
       "        vertical-align: middle;\n",
       "    }\n",
       "\n",
       "    .dataframe tbody tr th {\n",
       "        vertical-align: top;\n",
       "    }\n",
       "\n",
       "    .dataframe thead th {\n",
       "        text-align: right;\n",
       "    }\n",
       "</style>\n",
       "<table border=\"1\" class=\"dataframe\">\n",
       "  <thead>\n",
       "    <tr style=\"text-align: right;\">\n",
       "      <th></th>\n",
       "      <th>Id</th>\n",
       "      <th>MS SubClass</th>\n",
       "      <th>Lot Frontage</th>\n",
       "      <th>Lot Area</th>\n",
       "      <th>Lot Shape</th>\n",
       "      <th>Land Slope</th>\n",
       "      <th>Mas Vnr Area</th>\n",
       "      <th>Bsmt Qual</th>\n",
       "      <th>Bsmt Cond</th>\n",
       "      <th>Bsmt Exposure</th>\n",
       "      <th>...</th>\n",
       "      <th>Sale Type_COD</th>\n",
       "      <th>Sale Type_CWD</th>\n",
       "      <th>Sale Type_Con</th>\n",
       "      <th>Sale Type_ConLD</th>\n",
       "      <th>Sale Type_ConLI</th>\n",
       "      <th>Sale Type_ConLw</th>\n",
       "      <th>Sale Type_New</th>\n",
       "      <th>Sale Type_Oth</th>\n",
       "      <th>Sale Type_VWD</th>\n",
       "      <th>Sale Type_WD</th>\n",
       "    </tr>\n",
       "  </thead>\n",
       "  <tbody>\n",
       "    <tr>\n",
       "      <th>0</th>\n",
       "      <td>2658</td>\n",
       "      <td>190</td>\n",
       "      <td>69.0</td>\n",
       "      <td>9142</td>\n",
       "      <td>3</td>\n",
       "      <td>2</td>\n",
       "      <td>0.0</td>\n",
       "      <td>2</td>\n",
       "      <td>3</td>\n",
       "      <td>1</td>\n",
       "      <td>...</td>\n",
       "      <td>0</td>\n",
       "      <td>0</td>\n",
       "      <td>0</td>\n",
       "      <td>0</td>\n",
       "      <td>0</td>\n",
       "      <td>0</td>\n",
       "      <td>0</td>\n",
       "      <td>0</td>\n",
       "      <td>0</td>\n",
       "      <td>1</td>\n",
       "    </tr>\n",
       "    <tr>\n",
       "      <th>1</th>\n",
       "      <td>2718</td>\n",
       "      <td>90</td>\n",
       "      <td>69.6</td>\n",
       "      <td>9662</td>\n",
       "      <td>2</td>\n",
       "      <td>2</td>\n",
       "      <td>0.0</td>\n",
       "      <td>4</td>\n",
       "      <td>3</td>\n",
       "      <td>1</td>\n",
       "      <td>...</td>\n",
       "      <td>0</td>\n",
       "      <td>0</td>\n",
       "      <td>0</td>\n",
       "      <td>0</td>\n",
       "      <td>0</td>\n",
       "      <td>0</td>\n",
       "      <td>0</td>\n",
       "      <td>0</td>\n",
       "      <td>0</td>\n",
       "      <td>1</td>\n",
       "    </tr>\n",
       "    <tr>\n",
       "      <th>2</th>\n",
       "      <td>2414</td>\n",
       "      <td>60</td>\n",
       "      <td>58.0</td>\n",
       "      <td>17104</td>\n",
       "      <td>2</td>\n",
       "      <td>2</td>\n",
       "      <td>0.0</td>\n",
       "      <td>4</td>\n",
       "      <td>4</td>\n",
       "      <td>3</td>\n",
       "      <td>...</td>\n",
       "      <td>0</td>\n",
       "      <td>0</td>\n",
       "      <td>0</td>\n",
       "      <td>0</td>\n",
       "      <td>0</td>\n",
       "      <td>0</td>\n",
       "      <td>1</td>\n",
       "      <td>0</td>\n",
       "      <td>0</td>\n",
       "      <td>0</td>\n",
       "    </tr>\n",
       "    <tr>\n",
       "      <th>3</th>\n",
       "      <td>1989</td>\n",
       "      <td>30</td>\n",
       "      <td>60.0</td>\n",
       "      <td>8520</td>\n",
       "      <td>3</td>\n",
       "      <td>2</td>\n",
       "      <td>0.0</td>\n",
       "      <td>3</td>\n",
       "      <td>3</td>\n",
       "      <td>1</td>\n",
       "      <td>...</td>\n",
       "      <td>0</td>\n",
       "      <td>0</td>\n",
       "      <td>0</td>\n",
       "      <td>0</td>\n",
       "      <td>0</td>\n",
       "      <td>0</td>\n",
       "      <td>0</td>\n",
       "      <td>0</td>\n",
       "      <td>0</td>\n",
       "      <td>1</td>\n",
       "    </tr>\n",
       "    <tr>\n",
       "      <th>4</th>\n",
       "      <td>625</td>\n",
       "      <td>20</td>\n",
       "      <td>69.6</td>\n",
       "      <td>9500</td>\n",
       "      <td>2</td>\n",
       "      <td>2</td>\n",
       "      <td>247.0</td>\n",
       "      <td>4</td>\n",
       "      <td>3</td>\n",
       "      <td>1</td>\n",
       "      <td>...</td>\n",
       "      <td>0</td>\n",
       "      <td>0</td>\n",
       "      <td>0</td>\n",
       "      <td>0</td>\n",
       "      <td>0</td>\n",
       "      <td>0</td>\n",
       "      <td>0</td>\n",
       "      <td>0</td>\n",
       "      <td>0</td>\n",
       "      <td>1</td>\n",
       "    </tr>\n",
       "  </tbody>\n",
       "</table>\n",
       "<p>5 rows × 178 columns</p>\n",
       "</div>"
      ],
      "text/plain": [
       "     Id  MS SubClass  Lot Frontage  Lot Area  Lot Shape  Land Slope  \\\n",
       "0  2658          190          69.0      9142          3           2   \n",
       "1  2718           90          69.6      9662          2           2   \n",
       "2  2414           60          58.0     17104          2           2   \n",
       "3  1989           30          60.0      8520          3           2   \n",
       "4   625           20          69.6      9500          2           2   \n",
       "\n",
       "   Mas Vnr Area  Bsmt Qual  Bsmt Cond  Bsmt Exposure  ...  Sale Type_COD  \\\n",
       "0           0.0          2          3              1  ...              0   \n",
       "1           0.0          4          3              1  ...              0   \n",
       "2           0.0          4          4              3  ...              0   \n",
       "3           0.0          3          3              1  ...              0   \n",
       "4         247.0          4          3              1  ...              0   \n",
       "\n",
       "   Sale Type_CWD  Sale Type_Con  Sale Type_ConLD  Sale Type_ConLI  \\\n",
       "0              0              0                0                0   \n",
       "1              0              0                0                0   \n",
       "2              0              0                0                0   \n",
       "3              0              0                0                0   \n",
       "4              0              0                0                0   \n",
       "\n",
       "   Sale Type_ConLw  Sale Type_New  Sale Type_Oth  Sale Type_VWD  Sale Type_WD   \n",
       "0                0              0              0              0              1  \n",
       "1                0              0              0              0              1  \n",
       "2                0              1              0              0              0  \n",
       "3                0              0              0              0              1  \n",
       "4                0              0              0              0              1  \n",
       "\n",
       "[5 rows x 178 columns]"
      ]
     },
     "execution_count": 6,
     "metadata": {},
     "output_type": "execute_result"
    }
   ],
   "source": [
    "housing_test = pd.read_csv('datasets/Test_Cleaned.csv')\n",
    "housing_test.head()"
   ]
  },
  {
   "cell_type": "code",
   "execution_count": 7,
   "metadata": {},
   "outputs": [
    {
     "data": {
      "text/plain": [
       "(879, 177)"
      ]
     },
     "execution_count": 7,
     "metadata": {},
     "output_type": "execute_result"
    }
   ],
   "source": [
    "housing_test.set_index('Id', inplace = True)\n",
    "housing_test.shape"
   ]
  },
  {
   "cell_type": "code",
   "execution_count": 8,
   "metadata": {},
   "outputs": [
    {
     "data": {
      "text/plain": [
       "['MS SubClass',\n",
       " 'Lot Frontage',\n",
       " 'Lot Area',\n",
       " 'Lot Shape',\n",
       " 'Land Slope',\n",
       " 'Mas Vnr Area',\n",
       " 'Bsmt Qual',\n",
       " 'Bsmt Cond',\n",
       " 'Bsmt Exposure',\n",
       " 'BsmtFin Type 1',\n",
       " 'BsmtFin SF 1',\n",
       " 'Bsmt Unf SF',\n",
       " 'Total Bsmt SF',\n",
       " 'Heating QC',\n",
       " 'Electrical',\n",
       " '1st Flr SF',\n",
       " '2nd Flr SF',\n",
       " 'Gr Liv Area',\n",
       " 'Bsmt Full Bath',\n",
       " 'Bsmt Half Bath',\n",
       " 'Full Bath',\n",
       " 'Half Bath',\n",
       " 'Bedroom AbvGr',\n",
       " 'Kitchen AbvGr',\n",
       " 'Kitchen Qual',\n",
       " 'TotRms AbvGrd',\n",
       " 'Functional',\n",
       " 'Fireplaces',\n",
       " 'Fireplace Qu',\n",
       " 'Garage Finish',\n",
       " 'Garage Cars',\n",
       " 'Garage Area',\n",
       " 'Paved Drive',\n",
       " 'Wood Deck SF',\n",
       " 'Pool QC',\n",
       " 'Fence',\n",
       " 'Mo Sold',\n",
       " 'Garage Age',\n",
       " 'Porch Combined SF',\n",
       " 'House Age',\n",
       " 'House Remod Yrs',\n",
       " 'Exterior Qual/Cond',\n",
       " 'Overall Qual/Cond',\n",
       " 'Garage Qual/Cond',\n",
       " 'Alley_Grvl',\n",
       " 'Alley_Pave',\n",
       " 'Bldg Type_1Fam',\n",
       " 'Bldg Type_2fmCon',\n",
       " 'Bldg Type_Duplex',\n",
       " 'Bldg Type_Twnhs',\n",
       " 'Bldg Type_TwnhsE',\n",
       " 'Central Air_N',\n",
       " 'Central Air_Y',\n",
       " 'Condition 1_Artery',\n",
       " 'Condition 1_Feedr',\n",
       " 'Condition 1_Norm',\n",
       " 'Condition 1_PosA',\n",
       " 'Condition 1_PosN',\n",
       " 'Condition 1_RRAe',\n",
       " 'Condition 1_RRAn',\n",
       " 'Condition 1_RRNe',\n",
       " 'Condition 1_RRNn',\n",
       " 'Exterior 1st_AsbShng',\n",
       " 'Exterior 1st_AsphShn',\n",
       " 'Exterior 1st_BrkComm',\n",
       " 'Exterior 1st_BrkFace',\n",
       " 'Exterior 1st_CemntBd',\n",
       " 'Exterior 1st_HdBoard',\n",
       " 'Exterior 1st_MetalSd',\n",
       " 'Exterior 1st_Plywood',\n",
       " 'Exterior 1st_PreCast',\n",
       " 'Exterior 1st_Stucco',\n",
       " 'Exterior 1st_VinylSd',\n",
       " 'Exterior 1st_Wd Sdng',\n",
       " 'Exterior 1st_WdShing',\n",
       " 'Exterior 2nd_AsbShng',\n",
       " 'Exterior 2nd_AsphShn',\n",
       " 'Exterior 2nd_Brk Cmn',\n",
       " 'Exterior 2nd_BrkFace',\n",
       " 'Exterior 2nd_CBlock',\n",
       " 'Exterior 2nd_CmentBd',\n",
       " 'Exterior 2nd_HdBoard',\n",
       " 'Exterior 2nd_ImStucc',\n",
       " 'Exterior 2nd_MetalSd',\n",
       " 'Exterior 2nd_Other',\n",
       " 'Exterior 2nd_Plywood',\n",
       " 'Exterior 2nd_PreCast',\n",
       " 'Exterior 2nd_Stucco',\n",
       " 'Exterior 2nd_VinylSd',\n",
       " 'Exterior 2nd_Wd Sdng',\n",
       " 'Exterior 2nd_Wd Shng',\n",
       " 'Foundation_BrkTil',\n",
       " 'Foundation_CBlock',\n",
       " 'Foundation_PConc',\n",
       " 'Foundation_Slab',\n",
       " 'Foundation_Stone',\n",
       " 'Foundation_Wood',\n",
       " 'Garage Type_2Types',\n",
       " 'Garage Type_Attchd',\n",
       " 'Garage Type_Basment',\n",
       " 'Garage Type_BuiltIn',\n",
       " 'Garage Type_CarPort',\n",
       " 'Garage Type_Detchd',\n",
       " 'Heating_Floor',\n",
       " 'Heating_GasA',\n",
       " 'Heating_GasW',\n",
       " 'Heating_Grav',\n",
       " 'House Style_1.5Fin',\n",
       " 'House Style_1.5Unf',\n",
       " 'House Style_1Story',\n",
       " 'House Style_2.5Fin',\n",
       " 'House Style_2.5Unf',\n",
       " 'House Style_2Story',\n",
       " 'House Style_SFoyer',\n",
       " 'House Style_SLvl',\n",
       " 'Land Contour_Bnk',\n",
       " 'Land Contour_HLS',\n",
       " 'Land Contour_Low',\n",
       " 'Land Contour_Lvl',\n",
       " 'Lot Config_Corner',\n",
       " 'Lot Config_CulDSac',\n",
       " 'Lot Config_FR2',\n",
       " 'Lot Config_FR3',\n",
       " 'Lot Config_Inside',\n",
       " 'MS Zoning_C (all)',\n",
       " 'MS Zoning_FV',\n",
       " 'MS Zoning_I (all)',\n",
       " 'MS Zoning_RH',\n",
       " 'MS Zoning_RL',\n",
       " 'MS Zoning_RM',\n",
       " 'Mas Vnr Type_BrkCmn',\n",
       " 'Mas Vnr Type_BrkFace',\n",
       " 'Mas Vnr Type_CBlock',\n",
       " 'Mas Vnr Type_None',\n",
       " 'Mas Vnr Type_Stone',\n",
       " 'Neighborhood_Blmngtn',\n",
       " 'Neighborhood_Blueste',\n",
       " 'Neighborhood_BrDale',\n",
       " 'Neighborhood_BrkSide',\n",
       " 'Neighborhood_ClearCr',\n",
       " 'Neighborhood_CollgCr',\n",
       " 'Neighborhood_Crawfor',\n",
       " 'Neighborhood_Edwards',\n",
       " 'Neighborhood_Gilbert',\n",
       " 'Neighborhood_Greens',\n",
       " 'Neighborhood_IDOTRR',\n",
       " 'Neighborhood_MeadowV',\n",
       " 'Neighborhood_Mitchel',\n",
       " 'Neighborhood_NAmes',\n",
       " 'Neighborhood_NPkVill',\n",
       " 'Neighborhood_NWAmes',\n",
       " 'Neighborhood_NoRidge',\n",
       " 'Neighborhood_NridgHt',\n",
       " 'Neighborhood_OldTown',\n",
       " 'Neighborhood_SWISU',\n",
       " 'Neighborhood_Sawyer',\n",
       " 'Neighborhood_SawyerW',\n",
       " 'Neighborhood_Somerst',\n",
       " 'Neighborhood_StoneBr',\n",
       " 'Neighborhood_Timber',\n",
       " 'Neighborhood_Veenker',\n",
       " 'Roof Style_Flat',\n",
       " 'Roof Style_Gable',\n",
       " 'Roof Style_Gambrel',\n",
       " 'Roof Style_Hip',\n",
       " 'Roof Style_Mansard',\n",
       " 'Roof Style_Shed',\n",
       " 'Sale Type_COD',\n",
       " 'Sale Type_CWD',\n",
       " 'Sale Type_Con',\n",
       " 'Sale Type_ConLD',\n",
       " 'Sale Type_ConLI',\n",
       " 'Sale Type_ConLw',\n",
       " 'Sale Type_New',\n",
       " 'Sale Type_Oth',\n",
       " 'Sale Type_VWD',\n",
       " 'Sale Type_WD ']"
      ]
     },
     "execution_count": 8,
     "metadata": {},
     "output_type": "execute_result"
    }
   ],
   "source": [
    "test_features = housing_test.columns.to_list()\n",
    "test_features"
   ]
  },
  {
   "cell_type": "code",
   "execution_count": 9,
   "metadata": {},
   "outputs": [
    {
     "data": {
      "text/plain": [
       "['Lot Frontage',\n",
       " 'Lot Area',\n",
       " 'Lot Shape',\n",
       " 'Land Slope',\n",
       " 'Mas Vnr Area',\n",
       " 'Bsmt Qual',\n",
       " 'Bsmt Cond',\n",
       " 'Bsmt Exposure',\n",
       " 'BsmtFin Type 1',\n",
       " 'BsmtFin SF 1',\n",
       " 'Bsmt Unf SF',\n",
       " 'Total Bsmt SF',\n",
       " 'Heating QC',\n",
       " 'Electrical',\n",
       " '1st Flr SF',\n",
       " '2nd Flr SF',\n",
       " 'Gr Liv Area',\n",
       " 'Bsmt Full Bath',\n",
       " 'Bsmt Half Bath',\n",
       " 'Full Bath',\n",
       " 'Half Bath',\n",
       " 'Bedroom AbvGr',\n",
       " 'Kitchen AbvGr',\n",
       " 'Kitchen Qual',\n",
       " 'TotRms AbvGrd',\n",
       " 'Functional',\n",
       " 'Fireplaces',\n",
       " 'Fireplace Qu',\n",
       " 'Garage Finish',\n",
       " 'Garage Cars',\n",
       " 'Garage Area',\n",
       " 'Paved Drive',\n",
       " 'Wood Deck SF',\n",
       " 'Pool QC',\n",
       " 'Fence',\n",
       " 'Mo Sold',\n",
       " 'SalePrice',\n",
       " 'Porch Combined SF',\n",
       " 'House Age',\n",
       " 'House Remod Yrs',\n",
       " 'Exterior Qual/Cond',\n",
       " 'Overall Qual/Cond',\n",
       " 'Garage Age',\n",
       " 'Garage Qual/Cond',\n",
       " 'Garage Type_2Types',\n",
       " 'Garage Type_Attchd',\n",
       " 'Garage Type_Basment',\n",
       " 'Garage Type_BuiltIn',\n",
       " 'Garage Type_CarPort',\n",
       " 'Garage Type_Detchd',\n",
       " 'Foundation_BrkTil',\n",
       " 'Foundation_CBlock',\n",
       " 'Foundation_PConc',\n",
       " 'Foundation_Stone',\n",
       " 'Foundation_Wood',\n",
       " 'Land Contour_Bnk',\n",
       " 'Land Contour_HLS',\n",
       " 'Land Contour_Low',\n",
       " 'Land Contour_Lvl',\n",
       " 'House Style_1.5Fin',\n",
       " 'House Style_1.5Unf',\n",
       " 'House Style_1Story',\n",
       " 'House Style_2.5Fin',\n",
       " 'House Style_2.5Unf',\n",
       " 'House Style_2Story',\n",
       " 'House Style_SFoyer',\n",
       " 'House Style_SLvl',\n",
       " 'Bldg Type_1Fam',\n",
       " 'Bldg Type_2fmCon',\n",
       " 'Bldg Type_Duplex',\n",
       " 'Bldg Type_Twnhs',\n",
       " 'Bldg Type_TwnhsE',\n",
       " 'Neighborhood_Blmngtn',\n",
       " 'Neighborhood_Blueste',\n",
       " 'Neighborhood_BrDale',\n",
       " 'Neighborhood_BrkSide',\n",
       " 'Neighborhood_ClearCr',\n",
       " 'Neighborhood_CollgCr',\n",
       " 'Neighborhood_Crawfor',\n",
       " 'Neighborhood_Edwards',\n",
       " 'Neighborhood_Gilbert',\n",
       " 'Neighborhood_Greens',\n",
       " 'Neighborhood_GrnHill',\n",
       " 'Neighborhood_IDOTRR',\n",
       " 'Neighborhood_Landmrk',\n",
       " 'Neighborhood_MeadowV',\n",
       " 'Neighborhood_Mitchel',\n",
       " 'Neighborhood_NAmes',\n",
       " 'Neighborhood_NPkVill',\n",
       " 'Neighborhood_NWAmes',\n",
       " 'Neighborhood_NoRidge',\n",
       " 'Neighborhood_NridgHt',\n",
       " 'Neighborhood_OldTown',\n",
       " 'Neighborhood_SWISU',\n",
       " 'Neighborhood_Sawyer',\n",
       " 'Neighborhood_SawyerW',\n",
       " 'Neighborhood_Somerst',\n",
       " 'Neighborhood_StoneBr',\n",
       " 'Neighborhood_Timber',\n",
       " 'Neighborhood_Veenker',\n",
       " 'Mas Vnr Type_BrkCmn',\n",
       " 'Mas Vnr Type_BrkFace',\n",
       " 'Mas Vnr Type_None',\n",
       " 'Mas Vnr Type_Stone',\n",
       " 'Alley_Grvl',\n",
       " 'Alley_Pave',\n",
       " 'Central Air_N',\n",
       " 'Central Air_Y',\n",
       " 'Heating_GasA',\n",
       " 'Heating_GasW',\n",
       " 'Heating_Grav',\n",
       " 'Heating_OthW',\n",
       " 'MS SubClass_20',\n",
       " 'MS SubClass_30',\n",
       " 'MS SubClass_40',\n",
       " 'MS SubClass_45',\n",
       " 'MS SubClass_50',\n",
       " 'MS SubClass_60',\n",
       " 'MS SubClass_70',\n",
       " 'MS SubClass_75',\n",
       " 'MS SubClass_80',\n",
       " 'MS SubClass_85',\n",
       " 'MS SubClass_90',\n",
       " 'MS SubClass_120',\n",
       " 'MS SubClass_150',\n",
       " 'MS SubClass_160',\n",
       " 'MS SubClass_180',\n",
       " 'MS SubClass_190',\n",
       " 'Exterior 2nd_AsbShng',\n",
       " 'Exterior 2nd_AsphShn',\n",
       " 'Exterior 2nd_Brk Cmn',\n",
       " 'Exterior 2nd_BrkFace',\n",
       " 'Exterior 2nd_CBlock',\n",
       " 'Exterior 2nd_CmentBd',\n",
       " 'Exterior 2nd_HdBoard',\n",
       " 'Exterior 2nd_ImStucc',\n",
       " 'Exterior 2nd_MetalSd',\n",
       " 'Exterior 2nd_Plywood',\n",
       " 'Exterior 2nd_Stone',\n",
       " 'Exterior 2nd_Stucco',\n",
       " 'Exterior 2nd_VinylSd',\n",
       " 'Exterior 2nd_Wd Sdng',\n",
       " 'Exterior 2nd_Wd Shng',\n",
       " 'Exterior 1st_AsbShng',\n",
       " 'Exterior 1st_AsphShn',\n",
       " 'Exterior 1st_BrkComm',\n",
       " 'Exterior 1st_BrkFace',\n",
       " 'Exterior 1st_CBlock',\n",
       " 'Exterior 1st_CemntBd',\n",
       " 'Exterior 1st_HdBoard',\n",
       " 'Exterior 1st_ImStucc',\n",
       " 'Exterior 1st_MetalSd',\n",
       " 'Exterior 1st_Plywood',\n",
       " 'Exterior 1st_Stone',\n",
       " 'Exterior 1st_Stucco',\n",
       " 'Exterior 1st_VinylSd',\n",
       " 'Exterior 1st_Wd Sdng',\n",
       " 'Exterior 1st_WdShing',\n",
       " 'Sale Type_COD',\n",
       " 'Sale Type_CWD',\n",
       " 'Sale Type_Con',\n",
       " 'Sale Type_ConLD',\n",
       " 'Sale Type_ConLI',\n",
       " 'Sale Type_ConLw',\n",
       " 'Sale Type_New',\n",
       " 'Sale Type_Oth',\n",
       " 'Sale Type_WD ',\n",
       " 'MS Zoning_C (all)',\n",
       " 'MS Zoning_FV',\n",
       " 'MS Zoning_RH',\n",
       " 'MS Zoning_RL',\n",
       " 'MS Zoning_RM',\n",
       " 'Roof Style_Flat',\n",
       " 'Roof Style_Gable',\n",
       " 'Roof Style_Gambrel',\n",
       " 'Roof Style_Hip',\n",
       " 'Roof Style_Mansard',\n",
       " 'Roof Style_Shed',\n",
       " 'Condition 1_Artery',\n",
       " 'Condition 1_Feedr',\n",
       " 'Condition 1_Norm',\n",
       " 'Condition 1_PosA',\n",
       " 'Condition 1_PosN',\n",
       " 'Condition 1_RRAe',\n",
       " 'Condition 1_RRAn',\n",
       " 'Condition 1_RRNe',\n",
       " 'Condition 1_RRNn',\n",
       " 'Lot Config_Corner',\n",
       " 'Lot Config_CulDSac',\n",
       " 'Lot Config_FR2',\n",
       " 'Lot Config_FR3',\n",
       " 'Lot Config_Inside']"
      ]
     },
     "execution_count": 9,
     "metadata": {},
     "output_type": "execute_result"
    }
   ],
   "source": [
    "train_features = housing_train.columns.to_list()\n",
    "train_features"
   ]
  },
  {
   "cell_type": "code",
   "execution_count": 10,
   "metadata": {},
   "outputs": [
    {
     "data": {
      "text/plain": [
       "192"
      ]
     },
     "execution_count": 10,
     "metadata": {},
     "output_type": "execute_result"
    }
   ],
   "source": [
    "len(train_features)"
   ]
  },
  {
   "cell_type": "code",
   "execution_count": 11,
   "metadata": {},
   "outputs": [
    {
     "data": {
      "text/plain": [
       "177"
      ]
     },
     "execution_count": 11,
     "metadata": {},
     "output_type": "execute_result"
    }
   ],
   "source": [
    "len(test_features)"
   ]
  },
  {
   "cell_type": "code",
   "execution_count": 12,
   "metadata": {},
   "outputs": [
    {
     "data": {
      "text/plain": [
       "{'1st Flr SF',\n",
       " '2nd Flr SF',\n",
       " 'Alley_Grvl',\n",
       " 'Alley_Pave',\n",
       " 'Bedroom AbvGr',\n",
       " 'Bldg Type_1Fam',\n",
       " 'Bldg Type_2fmCon',\n",
       " 'Bldg Type_Duplex',\n",
       " 'Bldg Type_Twnhs',\n",
       " 'Bldg Type_TwnhsE',\n",
       " 'Bsmt Cond',\n",
       " 'Bsmt Exposure',\n",
       " 'Bsmt Full Bath',\n",
       " 'Bsmt Half Bath',\n",
       " 'Bsmt Qual',\n",
       " 'Bsmt Unf SF',\n",
       " 'BsmtFin SF 1',\n",
       " 'BsmtFin Type 1',\n",
       " 'Central Air_N',\n",
       " 'Central Air_Y',\n",
       " 'Condition 1_Artery',\n",
       " 'Condition 1_Feedr',\n",
       " 'Condition 1_Norm',\n",
       " 'Condition 1_PosA',\n",
       " 'Condition 1_PosN',\n",
       " 'Condition 1_RRAe',\n",
       " 'Condition 1_RRAn',\n",
       " 'Condition 1_RRNe',\n",
       " 'Condition 1_RRNn',\n",
       " 'Electrical',\n",
       " 'Exterior 1st_AsbShng',\n",
       " 'Exterior 1st_AsphShn',\n",
       " 'Exterior 1st_BrkComm',\n",
       " 'Exterior 1st_BrkFace',\n",
       " 'Exterior 1st_CemntBd',\n",
       " 'Exterior 1st_HdBoard',\n",
       " 'Exterior 1st_MetalSd',\n",
       " 'Exterior 1st_Plywood',\n",
       " 'Exterior 1st_Stucco',\n",
       " 'Exterior 1st_VinylSd',\n",
       " 'Exterior 1st_Wd Sdng',\n",
       " 'Exterior 1st_WdShing',\n",
       " 'Exterior 2nd_AsbShng',\n",
       " 'Exterior 2nd_AsphShn',\n",
       " 'Exterior 2nd_Brk Cmn',\n",
       " 'Exterior 2nd_BrkFace',\n",
       " 'Exterior 2nd_CBlock',\n",
       " 'Exterior 2nd_CmentBd',\n",
       " 'Exterior 2nd_HdBoard',\n",
       " 'Exterior 2nd_ImStucc',\n",
       " 'Exterior 2nd_MetalSd',\n",
       " 'Exterior 2nd_Plywood',\n",
       " 'Exterior 2nd_Stucco',\n",
       " 'Exterior 2nd_VinylSd',\n",
       " 'Exterior 2nd_Wd Sdng',\n",
       " 'Exterior 2nd_Wd Shng',\n",
       " 'Exterior Qual/Cond',\n",
       " 'Fence',\n",
       " 'Fireplace Qu',\n",
       " 'Fireplaces',\n",
       " 'Foundation_BrkTil',\n",
       " 'Foundation_CBlock',\n",
       " 'Foundation_PConc',\n",
       " 'Foundation_Stone',\n",
       " 'Foundation_Wood',\n",
       " 'Full Bath',\n",
       " 'Functional',\n",
       " 'Garage Age',\n",
       " 'Garage Area',\n",
       " 'Garage Cars',\n",
       " 'Garage Finish',\n",
       " 'Garage Qual/Cond',\n",
       " 'Garage Type_2Types',\n",
       " 'Garage Type_Attchd',\n",
       " 'Garage Type_Basment',\n",
       " 'Garage Type_BuiltIn',\n",
       " 'Garage Type_CarPort',\n",
       " 'Garage Type_Detchd',\n",
       " 'Gr Liv Area',\n",
       " 'Half Bath',\n",
       " 'Heating QC',\n",
       " 'Heating_GasA',\n",
       " 'Heating_GasW',\n",
       " 'Heating_Grav',\n",
       " 'House Age',\n",
       " 'House Remod Yrs',\n",
       " 'House Style_1.5Fin',\n",
       " 'House Style_1.5Unf',\n",
       " 'House Style_1Story',\n",
       " 'House Style_2.5Fin',\n",
       " 'House Style_2.5Unf',\n",
       " 'House Style_2Story',\n",
       " 'House Style_SFoyer',\n",
       " 'House Style_SLvl',\n",
       " 'Kitchen AbvGr',\n",
       " 'Kitchen Qual',\n",
       " 'Land Contour_Bnk',\n",
       " 'Land Contour_HLS',\n",
       " 'Land Contour_Low',\n",
       " 'Land Contour_Lvl',\n",
       " 'Land Slope',\n",
       " 'Lot Area',\n",
       " 'Lot Config_Corner',\n",
       " 'Lot Config_CulDSac',\n",
       " 'Lot Config_FR2',\n",
       " 'Lot Config_FR3',\n",
       " 'Lot Config_Inside',\n",
       " 'Lot Frontage',\n",
       " 'Lot Shape',\n",
       " 'MS Zoning_C (all)',\n",
       " 'MS Zoning_FV',\n",
       " 'MS Zoning_RH',\n",
       " 'MS Zoning_RL',\n",
       " 'MS Zoning_RM',\n",
       " 'Mas Vnr Area',\n",
       " 'Mas Vnr Type_BrkCmn',\n",
       " 'Mas Vnr Type_BrkFace',\n",
       " 'Mas Vnr Type_None',\n",
       " 'Mas Vnr Type_Stone',\n",
       " 'Mo Sold',\n",
       " 'Neighborhood_Blmngtn',\n",
       " 'Neighborhood_Blueste',\n",
       " 'Neighborhood_BrDale',\n",
       " 'Neighborhood_BrkSide',\n",
       " 'Neighborhood_ClearCr',\n",
       " 'Neighborhood_CollgCr',\n",
       " 'Neighborhood_Crawfor',\n",
       " 'Neighborhood_Edwards',\n",
       " 'Neighborhood_Gilbert',\n",
       " 'Neighborhood_Greens',\n",
       " 'Neighborhood_IDOTRR',\n",
       " 'Neighborhood_MeadowV',\n",
       " 'Neighborhood_Mitchel',\n",
       " 'Neighborhood_NAmes',\n",
       " 'Neighborhood_NPkVill',\n",
       " 'Neighborhood_NWAmes',\n",
       " 'Neighborhood_NoRidge',\n",
       " 'Neighborhood_NridgHt',\n",
       " 'Neighborhood_OldTown',\n",
       " 'Neighborhood_SWISU',\n",
       " 'Neighborhood_Sawyer',\n",
       " 'Neighborhood_SawyerW',\n",
       " 'Neighborhood_Somerst',\n",
       " 'Neighborhood_StoneBr',\n",
       " 'Neighborhood_Timber',\n",
       " 'Neighborhood_Veenker',\n",
       " 'Overall Qual/Cond',\n",
       " 'Paved Drive',\n",
       " 'Pool QC',\n",
       " 'Porch Combined SF',\n",
       " 'Roof Style_Flat',\n",
       " 'Roof Style_Gable',\n",
       " 'Roof Style_Gambrel',\n",
       " 'Roof Style_Hip',\n",
       " 'Roof Style_Mansard',\n",
       " 'Roof Style_Shed',\n",
       " 'Sale Type_COD',\n",
       " 'Sale Type_CWD',\n",
       " 'Sale Type_Con',\n",
       " 'Sale Type_ConLD',\n",
       " 'Sale Type_ConLI',\n",
       " 'Sale Type_ConLw',\n",
       " 'Sale Type_New',\n",
       " 'Sale Type_Oth',\n",
       " 'Sale Type_WD ',\n",
       " 'TotRms AbvGrd',\n",
       " 'Total Bsmt SF',\n",
       " 'Wood Deck SF'}"
      ]
     },
     "execution_count": 12,
     "metadata": {},
     "output_type": "execute_result"
    }
   ],
   "source": [
    "common_features = set(test_features).intersection(set(train_features))\n",
    "common_features"
   ]
  },
  {
   "cell_type": "code",
   "execution_count": 13,
   "metadata": {},
   "outputs": [
    {
     "data": {
      "text/plain": [
       "168"
      ]
     },
     "execution_count": 13,
     "metadata": {},
     "output_type": "execute_result"
    }
   ],
   "source": [
    "len(common_features)"
   ]
  },
  {
   "cell_type": "code",
   "execution_count": 14,
   "metadata": {},
   "outputs": [],
   "source": [
    "common_features = list(common_features)"
   ]
  },
  {
   "cell_type": "code",
   "execution_count": 15,
   "metadata": {},
   "outputs": [
    {
     "data": {
      "text/plain": [
       "(1961, 168)"
      ]
     },
     "execution_count": 15,
     "metadata": {},
     "output_type": "execute_result"
    }
   ],
   "source": [
    "X = housing_train[common_features]\n",
    "X.shape"
   ]
  },
  {
   "cell_type": "code",
   "execution_count": 16,
   "metadata": {},
   "outputs": [
    {
     "data": {
      "text/plain": [
       "(1961,)"
      ]
     },
     "execution_count": 16,
     "metadata": {},
     "output_type": "execute_result"
    }
   ],
   "source": [
    "y = housing_train['SalePrice']\n",
    "y.shape"
   ]
  },
  {
   "cell_type": "code",
   "execution_count": 17,
   "metadata": {},
   "outputs": [],
   "source": [
    "X_train, X_val, y_train, y_val = train_test_split(X, y, random_state = 42)"
   ]
  },
  {
   "cell_type": "code",
   "execution_count": 18,
   "metadata": {},
   "outputs": [
    {
     "data": {
      "text/plain": [
       "(1470, 168)"
      ]
     },
     "execution_count": 18,
     "metadata": {},
     "output_type": "execute_result"
    }
   ],
   "source": [
    "X_train.shape"
   ]
  },
  {
   "cell_type": "code",
   "execution_count": 19,
   "metadata": {},
   "outputs": [
    {
     "data": {
      "text/plain": [
       "(491, 168)"
      ]
     },
     "execution_count": 19,
     "metadata": {},
     "output_type": "execute_result"
    }
   ],
   "source": [
    "X_val.shape"
   ]
  },
  {
   "cell_type": "code",
   "execution_count": 20,
   "metadata": {},
   "outputs": [],
   "source": [
    "ss = StandardScaler()\n",
    "\n",
    "X_train_scaled = ss.fit_transform(X_train)\n",
    "X_val_scaled = ss.transform(X_val)"
   ]
  },
  {
   "cell_type": "code",
   "execution_count": 21,
   "metadata": {},
   "outputs": [
    {
     "data": {
      "text/plain": [
       "(1470, 168)"
      ]
     },
     "execution_count": 21,
     "metadata": {},
     "output_type": "execute_result"
    }
   ],
   "source": [
    "X_train_scaled.shape"
   ]
  },
  {
   "cell_type": "code",
   "execution_count": 22,
   "metadata": {},
   "outputs": [
    {
     "data": {
      "text/plain": [
       "LinearRegression()"
      ]
     },
     "execution_count": 22,
     "metadata": {},
     "output_type": "execute_result"
    }
   ],
   "source": [
    "lr = LinearRegression()\n",
    "lr.fit(X_train_scaled, y_train)"
   ]
  },
  {
   "cell_type": "code",
   "execution_count": 23,
   "metadata": {},
   "outputs": [
    {
     "data": {
      "text/plain": [
       "-3.2917149293048135e+26"
      ]
     },
     "execution_count": 23,
     "metadata": {},
     "output_type": "execute_result"
    }
   ],
   "source": [
    "lr_cv_scores = cross_val_score(lr, X_train_scaled, y_train, cv = 10)\n",
    "lr_cv_scores.mean()"
   ]
  },
  {
   "cell_type": "code",
   "execution_count": 24,
   "metadata": {},
   "outputs": [
    {
     "data": {
      "text/plain": [
       "159.02582053033834"
      ]
     },
     "execution_count": 24,
     "metadata": {},
     "output_type": "execute_result"
    }
   ],
   "source": [
    "ridge = RidgeCV(alphas = np.logspace(0, 3, 1500))\n",
    "ridge.fit(X_train_scaled, y_train)\n",
    "ridge.alpha_"
   ]
  },
  {
   "cell_type": "code",
   "execution_count": 25,
   "metadata": {},
   "outputs": [
    {
     "data": {
      "text/plain": [
       "0.8959294780968085"
      ]
     },
     "execution_count": 25,
     "metadata": {},
     "output_type": "execute_result"
    }
   ],
   "source": [
    "ridge_cv_scores = cross_val_score(ridge, X_train_scaled, y_train, cv = 5)\n",
    "ridge_cv_scores.mean()"
   ]
  },
  {
   "cell_type": "code",
   "execution_count": 26,
   "metadata": {},
   "outputs": [
    {
     "data": {
      "text/plain": [
       "LassoCV(n_alphas=200)"
      ]
     },
     "execution_count": 26,
     "metadata": {},
     "output_type": "execute_result"
    }
   ],
   "source": [
    "lasso = LassoCV(n_alphas = 200)\n",
    "lasso.fit(X_train_scaled, y_train)"
   ]
  },
  {
   "cell_type": "code",
   "execution_count": 27,
   "metadata": {},
   "outputs": [
    {
     "data": {
      "text/plain": [
       "0.898767342984438"
      ]
     },
     "execution_count": 27,
     "metadata": {},
     "output_type": "execute_result"
    }
   ],
   "source": [
    "lasso_cv_scores = cross_val_score(lasso, X_train_scaled, y_train, cv = 5)\n",
    "lasso_cv_scores.mean()"
   ]
  },
  {
   "cell_type": "code",
   "execution_count": 28,
   "metadata": {},
   "outputs": [
    {
     "data": {
      "text/plain": [
       "168"
      ]
     },
     "execution_count": 28,
     "metadata": {},
     "output_type": "execute_result"
    }
   ],
   "source": [
    "len(lasso.coef_)"
   ]
  },
  {
   "cell_type": "code",
   "execution_count": 29,
   "metadata": {},
   "outputs": [],
   "source": [
    "lasso_coef = pd.Series(lasso.coef_, index = X.columns).sort_values(ascending = False).to_frame(name = 'Coef')"
   ]
  },
  {
   "cell_type": "code",
   "execution_count": 30,
   "metadata": {},
   "outputs": [
    {
     "data": {
      "text/html": [
       "<div>\n",
       "<style scoped>\n",
       "    .dataframe tbody tr th:only-of-type {\n",
       "        vertical-align: middle;\n",
       "    }\n",
       "\n",
       "    .dataframe tbody tr th {\n",
       "        vertical-align: top;\n",
       "    }\n",
       "\n",
       "    .dataframe thead th {\n",
       "        text-align: right;\n",
       "    }\n",
       "</style>\n",
       "<table border=\"1\" class=\"dataframe\">\n",
       "  <thead>\n",
       "    <tr style=\"text-align: right;\">\n",
       "      <th></th>\n",
       "      <th>Coef</th>\n",
       "    </tr>\n",
       "  </thead>\n",
       "  <tbody>\n",
       "    <tr>\n",
       "      <th>Mas Vnr Type_BrkCmn</th>\n",
       "      <td>-684.860807</td>\n",
       "    </tr>\n",
       "    <tr>\n",
       "      <th>Condition 1_RRNn</th>\n",
       "      <td>-707.693410</td>\n",
       "    </tr>\n",
       "    <tr>\n",
       "      <th>Sale Type_COD</th>\n",
       "      <td>-728.010408</td>\n",
       "    </tr>\n",
       "    <tr>\n",
       "      <th>Bsmt Unf SF</th>\n",
       "      <td>-769.501318</td>\n",
       "    </tr>\n",
       "    <tr>\n",
       "      <th>Kitchen AbvGr</th>\n",
       "      <td>-1001.839478</td>\n",
       "    </tr>\n",
       "    <tr>\n",
       "      <th>Roof Style_Mansard</th>\n",
       "      <td>-1060.157320</td>\n",
       "    </tr>\n",
       "    <tr>\n",
       "      <th>House Remod Yrs</th>\n",
       "      <td>-1156.691162</td>\n",
       "    </tr>\n",
       "    <tr>\n",
       "      <th>Lot Config_Corner</th>\n",
       "      <td>-1361.626206</td>\n",
       "    </tr>\n",
       "    <tr>\n",
       "      <th>Exterior 2nd_HdBoard</th>\n",
       "      <td>-1364.174192</td>\n",
       "    </tr>\n",
       "    <tr>\n",
       "      <th>Neighborhood_NWAmes</th>\n",
       "      <td>-1585.268510</td>\n",
       "    </tr>\n",
       "    <tr>\n",
       "      <th>Garage Qual/Cond</th>\n",
       "      <td>-1590.145480</td>\n",
       "    </tr>\n",
       "    <tr>\n",
       "      <th>Mas Vnr Type_BrkFace</th>\n",
       "      <td>-1616.297868</td>\n",
       "    </tr>\n",
       "    <tr>\n",
       "      <th>Foundation_CBlock</th>\n",
       "      <td>-1742.761896</td>\n",
       "    </tr>\n",
       "    <tr>\n",
       "      <th>Bedroom AbvGr</th>\n",
       "      <td>-2419.650740</td>\n",
       "    </tr>\n",
       "    <tr>\n",
       "      <th>House Age</th>\n",
       "      <td>-8257.709042</td>\n",
       "    </tr>\n",
       "  </tbody>\n",
       "</table>\n",
       "</div>"
      ],
      "text/plain": [
       "                             Coef\n",
       "Mas Vnr Type_BrkCmn   -684.860807\n",
       "Condition 1_RRNn      -707.693410\n",
       "Sale Type_COD         -728.010408\n",
       "Bsmt Unf SF           -769.501318\n",
       "Kitchen AbvGr        -1001.839478\n",
       "Roof Style_Mansard   -1060.157320\n",
       "House Remod Yrs      -1156.691162\n",
       "Lot Config_Corner    -1361.626206\n",
       "Exterior 2nd_HdBoard -1364.174192\n",
       "Neighborhood_NWAmes  -1585.268510\n",
       "Garage Qual/Cond     -1590.145480\n",
       "Mas Vnr Type_BrkFace -1616.297868\n",
       "Foundation_CBlock    -1742.761896\n",
       "Bedroom AbvGr        -2419.650740\n",
       "House Age            -8257.709042"
      ]
     },
     "execution_count": 30,
     "metadata": {},
     "output_type": "execute_result"
    }
   ],
   "source": [
    "lasso_coef.tail(15)"
   ]
  },
  {
   "cell_type": "code",
   "execution_count": 31,
   "metadata": {},
   "outputs": [
    {
     "data": {
      "text/html": [
       "<div>\n",
       "<style scoped>\n",
       "    .dataframe tbody tr th:only-of-type {\n",
       "        vertical-align: middle;\n",
       "    }\n",
       "\n",
       "    .dataframe tbody tr th {\n",
       "        vertical-align: top;\n",
       "    }\n",
       "\n",
       "    .dataframe thead th {\n",
       "        text-align: right;\n",
       "    }\n",
       "</style>\n",
       "<table border=\"1\" class=\"dataframe\">\n",
       "  <thead>\n",
       "    <tr style=\"text-align: right;\">\n",
       "      <th></th>\n",
       "      <th>Coef</th>\n",
       "    </tr>\n",
       "  </thead>\n",
       "  <tbody>\n",
       "    <tr>\n",
       "      <th>Gr Liv Area</th>\n",
       "      <td>26182.762422</td>\n",
       "    </tr>\n",
       "    <tr>\n",
       "      <th>Overall Qual/Cond</th>\n",
       "      <td>10619.763951</td>\n",
       "    </tr>\n",
       "    <tr>\n",
       "      <th>Total Bsmt SF</th>\n",
       "      <td>8950.000828</td>\n",
       "    </tr>\n",
       "    <tr>\n",
       "      <th>BsmtFin SF 1</th>\n",
       "      <td>7561.156649</td>\n",
       "    </tr>\n",
       "    <tr>\n",
       "      <th>Neighborhood_NridgHt</th>\n",
       "      <td>6631.003380</td>\n",
       "    </tr>\n",
       "    <tr>\n",
       "      <th>Lot Area</th>\n",
       "      <td>6141.933709</td>\n",
       "    </tr>\n",
       "    <tr>\n",
       "      <th>Neighborhood_StoneBr</th>\n",
       "      <td>6111.254338</td>\n",
       "    </tr>\n",
       "    <tr>\n",
       "      <th>Mas Vnr Area</th>\n",
       "      <td>5956.523780</td>\n",
       "    </tr>\n",
       "    <tr>\n",
       "      <th>Kitchen Qual</th>\n",
       "      <td>5443.294254</td>\n",
       "    </tr>\n",
       "    <tr>\n",
       "      <th>Garage Area</th>\n",
       "      <td>5349.889687</td>\n",
       "    </tr>\n",
       "    <tr>\n",
       "      <th>Bldg Type_1Fam</th>\n",
       "      <td>5287.913346</td>\n",
       "    </tr>\n",
       "    <tr>\n",
       "      <th>Sale Type_New</th>\n",
       "      <td>4930.646225</td>\n",
       "    </tr>\n",
       "    <tr>\n",
       "      <th>Bsmt Exposure</th>\n",
       "      <td>4580.758072</td>\n",
       "    </tr>\n",
       "    <tr>\n",
       "      <th>Bsmt Qual</th>\n",
       "      <td>3995.530695</td>\n",
       "    </tr>\n",
       "    <tr>\n",
       "      <th>Neighborhood_NoRidge</th>\n",
       "      <td>3154.027989</td>\n",
       "    </tr>\n",
       "    <tr>\n",
       "      <th>Functional</th>\n",
       "      <td>3036.836616</td>\n",
       "    </tr>\n",
       "    <tr>\n",
       "      <th>Land Contour_HLS</th>\n",
       "      <td>2620.079048</td>\n",
       "    </tr>\n",
       "    <tr>\n",
       "      <th>Roof Style_Hip</th>\n",
       "      <td>2511.514641</td>\n",
       "    </tr>\n",
       "    <tr>\n",
       "      <th>Exterior 1st_BrkFace</th>\n",
       "      <td>2413.511473</td>\n",
       "    </tr>\n",
       "    <tr>\n",
       "      <th>Neighborhood_Crawfor</th>\n",
       "      <td>1975.278271</td>\n",
       "    </tr>\n",
       "    <tr>\n",
       "      <th>Fireplaces</th>\n",
       "      <td>1929.123779</td>\n",
       "    </tr>\n",
       "    <tr>\n",
       "      <th>Exterior 1st_CemntBd</th>\n",
       "      <td>1909.130771</td>\n",
       "    </tr>\n",
       "    <tr>\n",
       "      <th>Exterior Qual/Cond</th>\n",
       "      <td>1873.921431</td>\n",
       "    </tr>\n",
       "    <tr>\n",
       "      <th>Porch Combined SF</th>\n",
       "      <td>1841.775530</td>\n",
       "    </tr>\n",
       "    <tr>\n",
       "      <th>MS Zoning_FV</th>\n",
       "      <td>1748.720844</td>\n",
       "    </tr>\n",
       "  </tbody>\n",
       "</table>\n",
       "</div>"
      ],
      "text/plain": [
       "                              Coef\n",
       "Gr Liv Area           26182.762422\n",
       "Overall Qual/Cond     10619.763951\n",
       "Total Bsmt SF          8950.000828\n",
       "BsmtFin SF 1           7561.156649\n",
       "Neighborhood_NridgHt   6631.003380\n",
       "Lot Area               6141.933709\n",
       "Neighborhood_StoneBr   6111.254338\n",
       "Mas Vnr Area           5956.523780\n",
       "Kitchen Qual           5443.294254\n",
       "Garage Area            5349.889687\n",
       "Bldg Type_1Fam         5287.913346\n",
       "Sale Type_New          4930.646225\n",
       "Bsmt Exposure          4580.758072\n",
       "Bsmt Qual              3995.530695\n",
       "Neighborhood_NoRidge   3154.027989\n",
       "Functional             3036.836616\n",
       "Land Contour_HLS       2620.079048\n",
       "Roof Style_Hip         2511.514641\n",
       "Exterior 1st_BrkFace   2413.511473\n",
       "Neighborhood_Crawfor   1975.278271\n",
       "Fireplaces             1929.123779\n",
       "Exterior 1st_CemntBd   1909.130771\n",
       "Exterior Qual/Cond     1873.921431\n",
       "Porch Combined SF      1841.775530\n",
       "MS Zoning_FV           1748.720844"
      ]
     },
     "execution_count": 31,
     "metadata": {},
     "output_type": "execute_result"
    }
   ],
   "source": [
    "lasso_coef.head(25)"
   ]
  },
  {
   "cell_type": "code",
   "execution_count": 32,
   "metadata": {},
   "outputs": [],
   "source": [
    "coef_cond = ((lasso_coef['Coef'] > 3000) | (lasso_coef['Coef'] < (-1100)))"
   ]
  },
  {
   "cell_type": "code",
   "execution_count": 33,
   "metadata": {},
   "outputs": [
    {
     "data": {
      "text/html": [
       "<div>\n",
       "<style scoped>\n",
       "    .dataframe tbody tr th:only-of-type {\n",
       "        vertical-align: middle;\n",
       "    }\n",
       "\n",
       "    .dataframe tbody tr th {\n",
       "        vertical-align: top;\n",
       "    }\n",
       "\n",
       "    .dataframe thead th {\n",
       "        text-align: right;\n",
       "    }\n",
       "</style>\n",
       "<table border=\"1\" class=\"dataframe\">\n",
       "  <thead>\n",
       "    <tr style=\"text-align: right;\">\n",
       "      <th></th>\n",
       "      <th>Coef</th>\n",
       "    </tr>\n",
       "  </thead>\n",
       "  <tbody>\n",
       "    <tr>\n",
       "      <th>Gr Liv Area</th>\n",
       "      <td>26182.762422</td>\n",
       "    </tr>\n",
       "    <tr>\n",
       "      <th>Overall Qual/Cond</th>\n",
       "      <td>10619.763951</td>\n",
       "    </tr>\n",
       "    <tr>\n",
       "      <th>Total Bsmt SF</th>\n",
       "      <td>8950.000828</td>\n",
       "    </tr>\n",
       "    <tr>\n",
       "      <th>BsmtFin SF 1</th>\n",
       "      <td>7561.156649</td>\n",
       "    </tr>\n",
       "    <tr>\n",
       "      <th>Neighborhood_NridgHt</th>\n",
       "      <td>6631.003380</td>\n",
       "    </tr>\n",
       "    <tr>\n",
       "      <th>Lot Area</th>\n",
       "      <td>6141.933709</td>\n",
       "    </tr>\n",
       "    <tr>\n",
       "      <th>Neighborhood_StoneBr</th>\n",
       "      <td>6111.254338</td>\n",
       "    </tr>\n",
       "    <tr>\n",
       "      <th>Mas Vnr Area</th>\n",
       "      <td>5956.523780</td>\n",
       "    </tr>\n",
       "    <tr>\n",
       "      <th>Kitchen Qual</th>\n",
       "      <td>5443.294254</td>\n",
       "    </tr>\n",
       "    <tr>\n",
       "      <th>Garage Area</th>\n",
       "      <td>5349.889687</td>\n",
       "    </tr>\n",
       "    <tr>\n",
       "      <th>Bldg Type_1Fam</th>\n",
       "      <td>5287.913346</td>\n",
       "    </tr>\n",
       "    <tr>\n",
       "      <th>Sale Type_New</th>\n",
       "      <td>4930.646225</td>\n",
       "    </tr>\n",
       "    <tr>\n",
       "      <th>Bsmt Exposure</th>\n",
       "      <td>4580.758072</td>\n",
       "    </tr>\n",
       "    <tr>\n",
       "      <th>Bsmt Qual</th>\n",
       "      <td>3995.530695</td>\n",
       "    </tr>\n",
       "    <tr>\n",
       "      <th>Neighborhood_NoRidge</th>\n",
       "      <td>3154.027989</td>\n",
       "    </tr>\n",
       "    <tr>\n",
       "      <th>Functional</th>\n",
       "      <td>3036.836616</td>\n",
       "    </tr>\n",
       "    <tr>\n",
       "      <th>House Remod Yrs</th>\n",
       "      <td>-1156.691162</td>\n",
       "    </tr>\n",
       "    <tr>\n",
       "      <th>Lot Config_Corner</th>\n",
       "      <td>-1361.626206</td>\n",
       "    </tr>\n",
       "    <tr>\n",
       "      <th>Exterior 2nd_HdBoard</th>\n",
       "      <td>-1364.174192</td>\n",
       "    </tr>\n",
       "    <tr>\n",
       "      <th>Neighborhood_NWAmes</th>\n",
       "      <td>-1585.268510</td>\n",
       "    </tr>\n",
       "    <tr>\n",
       "      <th>Garage Qual/Cond</th>\n",
       "      <td>-1590.145480</td>\n",
       "    </tr>\n",
       "    <tr>\n",
       "      <th>Mas Vnr Type_BrkFace</th>\n",
       "      <td>-1616.297868</td>\n",
       "    </tr>\n",
       "    <tr>\n",
       "      <th>Foundation_CBlock</th>\n",
       "      <td>-1742.761896</td>\n",
       "    </tr>\n",
       "    <tr>\n",
       "      <th>Bedroom AbvGr</th>\n",
       "      <td>-2419.650740</td>\n",
       "    </tr>\n",
       "    <tr>\n",
       "      <th>House Age</th>\n",
       "      <td>-8257.709042</td>\n",
       "    </tr>\n",
       "  </tbody>\n",
       "</table>\n",
       "</div>"
      ],
      "text/plain": [
       "                              Coef\n",
       "Gr Liv Area           26182.762422\n",
       "Overall Qual/Cond     10619.763951\n",
       "Total Bsmt SF          8950.000828\n",
       "BsmtFin SF 1           7561.156649\n",
       "Neighborhood_NridgHt   6631.003380\n",
       "Lot Area               6141.933709\n",
       "Neighborhood_StoneBr   6111.254338\n",
       "Mas Vnr Area           5956.523780\n",
       "Kitchen Qual           5443.294254\n",
       "Garage Area            5349.889687\n",
       "Bldg Type_1Fam         5287.913346\n",
       "Sale Type_New          4930.646225\n",
       "Bsmt Exposure          4580.758072\n",
       "Bsmt Qual              3995.530695\n",
       "Neighborhood_NoRidge   3154.027989\n",
       "Functional             3036.836616\n",
       "House Remod Yrs       -1156.691162\n",
       "Lot Config_Corner     -1361.626206\n",
       "Exterior 2nd_HdBoard  -1364.174192\n",
       "Neighborhood_NWAmes   -1585.268510\n",
       "Garage Qual/Cond      -1590.145480\n",
       "Mas Vnr Type_BrkFace  -1616.297868\n",
       "Foundation_CBlock     -1742.761896\n",
       "Bedroom AbvGr         -2419.650740\n",
       "House Age             -8257.709042"
      ]
     },
     "execution_count": 33,
     "metadata": {},
     "output_type": "execute_result"
    }
   ],
   "source": [
    "significant_coefs = lasso_coef[coef_cond]\n",
    "significant_coefs"
   ]
  },
  {
   "cell_type": "code",
   "execution_count": 34,
   "metadata": {},
   "outputs": [
    {
     "data": {
      "text/plain": [
       "['Gr Liv Area',\n",
       " 'Overall Qual/Cond',\n",
       " 'Total Bsmt SF',\n",
       " 'BsmtFin SF 1',\n",
       " 'Neighborhood_NridgHt',\n",
       " 'Lot Area',\n",
       " 'Neighborhood_StoneBr',\n",
       " 'Mas Vnr Area',\n",
       " 'Kitchen Qual',\n",
       " 'Garage Area',\n",
       " 'Bldg Type_1Fam',\n",
       " 'Sale Type_New',\n",
       " 'Bsmt Exposure',\n",
       " 'Bsmt Qual',\n",
       " 'Neighborhood_NoRidge',\n",
       " 'Functional',\n",
       " 'House Remod Yrs',\n",
       " 'Lot Config_Corner',\n",
       " 'Exterior 2nd_HdBoard',\n",
       " 'Neighborhood_NWAmes',\n",
       " 'Garage Qual/Cond',\n",
       " 'Mas Vnr Type_BrkFace',\n",
       " 'Foundation_CBlock',\n",
       " 'Bedroom AbvGr',\n",
       " 'House Age']"
      ]
     },
     "execution_count": 34,
     "metadata": {},
     "output_type": "execute_result"
    }
   ],
   "source": [
    "significant_features = lasso_coef[coef_cond].index.to_list()\n",
    "significant_features"
   ]
  },
  {
   "cell_type": "code",
   "execution_count": 35,
   "metadata": {},
   "outputs": [
    {
     "data": {
      "text/plain": [
       "25"
      ]
     },
     "execution_count": 35,
     "metadata": {},
     "output_type": "execute_result"
    }
   ],
   "source": [
    "len(significant_features)"
   ]
  },
  {
   "cell_type": "code",
   "execution_count": null,
   "metadata": {},
   "outputs": [],
   "source": []
  },
  {
   "cell_type": "code",
   "execution_count": 36,
   "metadata": {},
   "outputs": [],
   "source": [
    "X_filtered = X[significant_features]"
   ]
  },
  {
   "cell_type": "code",
   "execution_count": 37,
   "metadata": {},
   "outputs": [],
   "source": [
    "X_train, X_val, y_train, y_val = train_test_split(X_filtered, y, random_state = 42)"
   ]
  },
  {
   "cell_type": "code",
   "execution_count": 38,
   "metadata": {},
   "outputs": [],
   "source": [
    "ss = StandardScaler()\n",
    "\n",
    "X_train_scaled = ss.fit_transform(X_train)\n",
    "X_val_scaled = ss.transform(X_val)"
   ]
  },
  {
   "cell_type": "code",
   "execution_count": 39,
   "metadata": {},
   "outputs": [
    {
     "data": {
      "text/plain": [
       "(1470, 25)"
      ]
     },
     "execution_count": 39,
     "metadata": {},
     "output_type": "execute_result"
    }
   ],
   "source": [
    "X_train_scaled.shape"
   ]
  },
  {
   "cell_type": "code",
   "execution_count": 40,
   "metadata": {},
   "outputs": [
    {
     "data": {
      "text/plain": [
       "LinearRegression()"
      ]
     },
     "execution_count": 40,
     "metadata": {},
     "output_type": "execute_result"
    }
   ],
   "source": [
    "lr = LinearRegression()\n",
    "lr.fit(X_train_scaled, y_train)"
   ]
  },
  {
   "cell_type": "code",
   "execution_count": 41,
   "metadata": {},
   "outputs": [
    {
     "data": {
      "text/plain": [
       "0.8968631650713249"
      ]
     },
     "execution_count": 41,
     "metadata": {},
     "output_type": "execute_result"
    }
   ],
   "source": [
    "lr_cv_scores = cross_val_score(lr, X_train_scaled, y_train, cv = 10)\n",
    "lr_cv_scores.mean()"
   ]
  },
  {
   "cell_type": "code",
   "execution_count": 42,
   "metadata": {},
   "outputs": [
    {
     "data": {
      "text/plain": [
       "0.9063267247053003"
      ]
     },
     "execution_count": 42,
     "metadata": {},
     "output_type": "execute_result"
    }
   ],
   "source": [
    "lr_preds = lr.predict(X_val_scaled)\n",
    "lr.score(X_val_scaled, y_val)"
   ]
  },
  {
   "cell_type": "code",
   "execution_count": 43,
   "metadata": {},
   "outputs": [
    {
     "data": {
      "text/plain": [
       "22456.83260393543"
      ]
     },
     "execution_count": 43,
     "metadata": {},
     "output_type": "execute_result"
    }
   ],
   "source": [
    "np.sqrt(mean_squared_error(lr_preds, y_val))"
   ]
  },
  {
   "cell_type": "code",
   "execution_count": 44,
   "metadata": {},
   "outputs": [
    {
     "data": {
      "text/plain": [
       "13.14455326294057"
      ]
     },
     "execution_count": 44,
     "metadata": {},
     "output_type": "execute_result"
    }
   ],
   "source": [
    "ridge = RidgeCV(alphas = np.logspace(0, 3, 1500))\n",
    "ridge.fit(X_train_scaled, y_train)\n",
    "ridge.alpha_"
   ]
  },
  {
   "cell_type": "code",
   "execution_count": 45,
   "metadata": {},
   "outputs": [
    {
     "data": {
      "text/plain": [
       "0.8979454633224879"
      ]
     },
     "execution_count": 45,
     "metadata": {},
     "output_type": "execute_result"
    }
   ],
   "source": [
    "ridge_cv_scores = cross_val_score(ridge, X_train_scaled, y_train, cv = 5)\n",
    "ridge_cv_scores.mean()"
   ]
  },
  {
   "cell_type": "code",
   "execution_count": 46,
   "metadata": {},
   "outputs": [
    {
     "data": {
      "text/plain": [
       "0.9066755683079072"
      ]
     },
     "execution_count": 46,
     "metadata": {},
     "output_type": "execute_result"
    }
   ],
   "source": [
    "ridge_preds = ridge.predict(X_val_scaled)\n",
    "ridge.score(X_val_scaled, y_val)"
   ]
  },
  {
   "cell_type": "code",
   "execution_count": 47,
   "metadata": {},
   "outputs": [
    {
     "data": {
      "text/plain": [
       "22414.978460112063"
      ]
     },
     "execution_count": 47,
     "metadata": {},
     "output_type": "execute_result"
    }
   ],
   "source": [
    "np.sqrt(mean_squared_error(ridge_preds, y_val))"
   ]
  },
  {
   "cell_type": "code",
   "execution_count": 48,
   "metadata": {},
   "outputs": [
    {
     "data": {
      "text/plain": [
       "LassoCV(n_alphas=200)"
      ]
     },
     "execution_count": 48,
     "metadata": {},
     "output_type": "execute_result"
    }
   ],
   "source": [
    "lasso = LassoCV(n_alphas = 200)\n",
    "lasso.fit(X_train_scaled, y_train)"
   ]
  },
  {
   "cell_type": "code",
   "execution_count": 49,
   "metadata": {},
   "outputs": [
    {
     "data": {
      "text/plain": [
       "0.8978376797144385"
      ]
     },
     "execution_count": 49,
     "metadata": {},
     "output_type": "execute_result"
    }
   ],
   "source": [
    "lasso_cv_scores = cross_val_score(lasso, X_train_scaled, y_train, cv = 5)\n",
    "lasso_cv_scores.mean()"
   ]
  },
  {
   "cell_type": "code",
   "execution_count": 50,
   "metadata": {},
   "outputs": [
    {
     "data": {
      "text/plain": [
       "0.9066414719544624"
      ]
     },
     "execution_count": 50,
     "metadata": {},
     "output_type": "execute_result"
    }
   ],
   "source": [
    "lasso_preds = lasso.predict(X_val_scaled)\n",
    "lasso.score(X_val_scaled, y_val)"
   ]
  },
  {
   "cell_type": "code",
   "execution_count": 51,
   "metadata": {},
   "outputs": [
    {
     "data": {
      "text/plain": [
       "22419.07277507304"
      ]
     },
     "execution_count": 51,
     "metadata": {},
     "output_type": "execute_result"
    }
   ],
   "source": [
    "np.sqrt(mean_squared_error(lasso_preds, y_val))"
   ]
  },
  {
   "cell_type": "code",
   "execution_count": 52,
   "metadata": {},
   "outputs": [],
   "source": [
    "residuals = ridge_preds - y_val"
   ]
  },
  {
   "cell_type": "code",
   "execution_count": 53,
   "metadata": {},
   "outputs": [
    {
     "data": {
      "text/plain": [
       "<matplotlib.lines.Line2D at 0x7f91fd6b70d0>"
      ]
     },
     "execution_count": 53,
     "metadata": {},
     "output_type": "execute_result"
    },
    {
     "data": {
      "image/png": "[encoded data removed]",
      "text/plain": [
       "<Figure size 720x576 with 1 Axes>"
      ]
     },
     "metadata": {
      "needs_background": "light"
     },
     "output_type": "display_data"
    }
   ],
   "source": [
    "plt.figure(figsize =(10, 8))\n",
    "plt.scatter(y_val, residuals)\n",
    "plt.axhline(0, color = 'orange')"
   ]
  },
  {
   "cell_type": "code",
   "execution_count": 55,
   "metadata": {},
   "outputs": [
    {
     "data": {
      "text/plain": [
       "491"
      ]
     },
     "execution_count": 55,
     "metadata": {},
     "output_type": "execute_result"
    }
   ],
   "source": [
    "len(residuals)"
   ]
  }
 ],
 "metadata": {
  "kernelspec": {
   "display_name": "Python 3",
   "language": "python",
   "name": "python3"
  },
  "language_info": {
   "codemirror_mode": {
    "name": "ipython",
    "version": 3
   },
   "file_extension": ".py",
   "mimetype": "text/x-python",
   "name": "python",
   "nbconvert_exporter": "python",
   "pygments_lexer": "ipython3",
   "version": "3.7.9"
  }
 },
 "nbformat": 4,
 "nbformat_minor": 4
}
