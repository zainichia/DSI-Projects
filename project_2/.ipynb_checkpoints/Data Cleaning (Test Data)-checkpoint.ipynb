{
 "cells": [
  {
   "cell_type": "markdown",
   "metadata": {},
   "source": [
    "## Test Data Cleaning\n",
    "\n",
    "This notebook is meant to carry out the same data cleaning and preprocessing steps from the training dataset.\n",
    "As the explanations can be found in the notebook for the training data, this notebook will have minimal comments and annotations."
   ]
  },
  {
   "cell_type": "code",
   "execution_count": 1,
   "metadata": {},
   "outputs": [],
   "source": [
    "import pandas as pd\n",
    "import numpy as np\n",
    "import seaborn as sns\n",
    "import matplotlib.pyplot as plt"
   ]
  },
  {
   "cell_type": "code",
   "execution_count": 2,
   "metadata": {},
   "outputs": [
    {
     "data": {
      "text/html": [
       "<div>\n",
       "<style scoped>\n",
       "    .dataframe tbody tr th:only-of-type {\n",
       "        vertical-align: middle;\n",
       "    }\n",
       "\n",
       "    .dataframe tbody tr th {\n",
       "        vertical-align: top;\n",
       "    }\n",
       "\n",
       "    .dataframe thead th {\n",
       "        text-align: right;\n",
       "    }\n",
       "</style>\n",
       "<table border=\"1\" class=\"dataframe\">\n",
       "  <thead>\n",
       "    <tr style=\"text-align: right;\">\n",
       "      <th></th>\n",
       "      <th>Id</th>\n",
       "      <th>PID</th>\n",
       "      <th>MS SubClass</th>\n",
       "      <th>MS Zoning</th>\n",
       "      <th>Lot Frontage</th>\n",
       "      <th>Lot Area</th>\n",
       "      <th>Street</th>\n",
       "      <th>Alley</th>\n",
       "      <th>Lot Shape</th>\n",
       "      <th>Land Contour</th>\n",
       "      <th>...</th>\n",
       "      <th>3Ssn Porch</th>\n",
       "      <th>Screen Porch</th>\n",
       "      <th>Pool Area</th>\n",
       "      <th>Pool QC</th>\n",
       "      <th>Fence</th>\n",
       "      <th>Misc Feature</th>\n",
       "      <th>Misc Val</th>\n",
       "      <th>Mo Sold</th>\n",
       "      <th>Yr Sold</th>\n",
       "      <th>Sale Type</th>\n",
       "    </tr>\n",
       "  </thead>\n",
       "  <tbody>\n",
       "    <tr>\n",
       "      <th>0</th>\n",
       "      <td>2658</td>\n",
       "      <td>902301120</td>\n",
       "      <td>190</td>\n",
       "      <td>RM</td>\n",
       "      <td>69.0</td>\n",
       "      <td>9142</td>\n",
       "      <td>Pave</td>\n",
       "      <td>Grvl</td>\n",
       "      <td>Reg</td>\n",
       "      <td>Lvl</td>\n",
       "      <td>...</td>\n",
       "      <td>0</td>\n",
       "      <td>0</td>\n",
       "      <td>0</td>\n",
       "      <td>NaN</td>\n",
       "      <td>NaN</td>\n",
       "      <td>NaN</td>\n",
       "      <td>0</td>\n",
       "      <td>4</td>\n",
       "      <td>2006</td>\n",
       "      <td>WD</td>\n",
       "    </tr>\n",
       "    <tr>\n",
       "      <th>1</th>\n",
       "      <td>2718</td>\n",
       "      <td>905108090</td>\n",
       "      <td>90</td>\n",
       "      <td>RL</td>\n",
       "      <td>NaN</td>\n",
       "      <td>9662</td>\n",
       "      <td>Pave</td>\n",
       "      <td>NaN</td>\n",
       "      <td>IR1</td>\n",
       "      <td>Lvl</td>\n",
       "      <td>...</td>\n",
       "      <td>0</td>\n",
       "      <td>0</td>\n",
       "      <td>0</td>\n",
       "      <td>NaN</td>\n",
       "      <td>NaN</td>\n",
       "      <td>NaN</td>\n",
       "      <td>0</td>\n",
       "      <td>8</td>\n",
       "      <td>2006</td>\n",
       "      <td>WD</td>\n",
       "    </tr>\n",
       "    <tr>\n",
       "      <th>2</th>\n",
       "      <td>2414</td>\n",
       "      <td>528218130</td>\n",
       "      <td>60</td>\n",
       "      <td>RL</td>\n",
       "      <td>58.0</td>\n",
       "      <td>17104</td>\n",
       "      <td>Pave</td>\n",
       "      <td>NaN</td>\n",
       "      <td>IR1</td>\n",
       "      <td>Lvl</td>\n",
       "      <td>...</td>\n",
       "      <td>0</td>\n",
       "      <td>0</td>\n",
       "      <td>0</td>\n",
       "      <td>NaN</td>\n",
       "      <td>NaN</td>\n",
       "      <td>NaN</td>\n",
       "      <td>0</td>\n",
       "      <td>9</td>\n",
       "      <td>2006</td>\n",
       "      <td>New</td>\n",
       "    </tr>\n",
       "    <tr>\n",
       "      <th>3</th>\n",
       "      <td>1989</td>\n",
       "      <td>902207150</td>\n",
       "      <td>30</td>\n",
       "      <td>RM</td>\n",
       "      <td>60.0</td>\n",
       "      <td>8520</td>\n",
       "      <td>Pave</td>\n",
       "      <td>NaN</td>\n",
       "      <td>Reg</td>\n",
       "      <td>Lvl</td>\n",
       "      <td>...</td>\n",
       "      <td>0</td>\n",
       "      <td>0</td>\n",
       "      <td>0</td>\n",
       "      <td>NaN</td>\n",
       "      <td>NaN</td>\n",
       "      <td>NaN</td>\n",
       "      <td>0</td>\n",
       "      <td>7</td>\n",
       "      <td>2007</td>\n",
       "      <td>WD</td>\n",
       "    </tr>\n",
       "    <tr>\n",
       "      <th>4</th>\n",
       "      <td>625</td>\n",
       "      <td>535105100</td>\n",
       "      <td>20</td>\n",
       "      <td>RL</td>\n",
       "      <td>NaN</td>\n",
       "      <td>9500</td>\n",
       "      <td>Pave</td>\n",
       "      <td>NaN</td>\n",
       "      <td>IR1</td>\n",
       "      <td>Lvl</td>\n",
       "      <td>...</td>\n",
       "      <td>0</td>\n",
       "      <td>185</td>\n",
       "      <td>0</td>\n",
       "      <td>NaN</td>\n",
       "      <td>NaN</td>\n",
       "      <td>NaN</td>\n",
       "      <td>0</td>\n",
       "      <td>7</td>\n",
       "      <td>2009</td>\n",
       "      <td>WD</td>\n",
       "    </tr>\n",
       "  </tbody>\n",
       "</table>\n",
       "<p>5 rows × 80 columns</p>\n",
       "</div>"
      ],
      "text/plain": [
       "     Id        PID  MS SubClass MS Zoning  Lot Frontage  Lot Area Street  \\\n",
       "0  2658  902301120          190        RM          69.0      9142   Pave   \n",
       "1  2718  905108090           90        RL           NaN      9662   Pave   \n",
       "2  2414  528218130           60        RL          58.0     17104   Pave   \n",
       "3  1989  902207150           30        RM          60.0      8520   Pave   \n",
       "4   625  535105100           20        RL           NaN      9500   Pave   \n",
       "\n",
       "  Alley Lot Shape Land Contour  ... 3Ssn Porch Screen Porch Pool Area Pool QC  \\\n",
       "0  Grvl       Reg          Lvl  ...          0            0         0     NaN   \n",
       "1   NaN       IR1          Lvl  ...          0            0         0     NaN   \n",
       "2   NaN       IR1          Lvl  ...          0            0         0     NaN   \n",
       "3   NaN       Reg          Lvl  ...          0            0         0     NaN   \n",
       "4   NaN       IR1          Lvl  ...          0          185         0     NaN   \n",
       "\n",
       "  Fence Misc Feature Misc Val Mo Sold  Yr Sold  Sale Type  \n",
       "0   NaN          NaN        0       4     2006        WD   \n",
       "1   NaN          NaN        0       8     2006        WD   \n",
       "2   NaN          NaN        0       9     2006        New  \n",
       "3   NaN          NaN        0       7     2007        WD   \n",
       "4   NaN          NaN        0       7     2009        WD   \n",
       "\n",
       "[5 rows x 80 columns]"
      ]
     },
     "execution_count": 2,
     "metadata": {},
     "output_type": "execute_result"
    }
   ],
   "source": [
    "housing = pd.read_csv('datasets/test.csv')\n",
    "\n",
    "housing.head()"
   ]
  },
  {
   "cell_type": "code",
   "execution_count": 3,
   "metadata": {},
   "outputs": [
    {
     "data": {
      "text/plain": [
       "(879, 80)"
      ]
     },
     "execution_count": 3,
     "metadata": {},
     "output_type": "execute_result"
    }
   ],
   "source": [
    "housing.shape"
   ]
  },
  {
   "cell_type": "code",
   "execution_count": 4,
   "metadata": {},
   "outputs": [],
   "source": [
    "housing.set_index('Id', inplace = True)"
   ]
  },
  {
   "cell_type": "code",
   "execution_count": 5,
   "metadata": {},
   "outputs": [
    {
     "data": {
      "text/html": [
       "<div>\n",
       "<style scoped>\n",
       "    .dataframe tbody tr th:only-of-type {\n",
       "        vertical-align: middle;\n",
       "    }\n",
       "\n",
       "    .dataframe tbody tr th {\n",
       "        vertical-align: top;\n",
       "    }\n",
       "\n",
       "    .dataframe thead th {\n",
       "        text-align: right;\n",
       "    }\n",
       "</style>\n",
       "<table border=\"1\" class=\"dataframe\">\n",
       "  <thead>\n",
       "    <tr style=\"text-align: right;\">\n",
       "      <th></th>\n",
       "      <th>nullcount</th>\n",
       "    </tr>\n",
       "  </thead>\n",
       "  <tbody>\n",
       "    <tr>\n",
       "      <th>PID</th>\n",
       "      <td>0</td>\n",
       "    </tr>\n",
       "    <tr>\n",
       "      <th>Bsmt Unf SF</th>\n",
       "      <td>0</td>\n",
       "    </tr>\n",
       "    <tr>\n",
       "      <th>Total Bsmt SF</th>\n",
       "      <td>0</td>\n",
       "    </tr>\n",
       "    <tr>\n",
       "      <th>Yr Sold</th>\n",
       "      <td>0</td>\n",
       "    </tr>\n",
       "    <tr>\n",
       "      <th>Heating QC</th>\n",
       "      <td>0</td>\n",
       "    </tr>\n",
       "    <tr>\n",
       "      <th>...</th>\n",
       "      <td>...</td>\n",
       "    </tr>\n",
       "    <tr>\n",
       "      <th>Fireplace Qu</th>\n",
       "      <td>422</td>\n",
       "    </tr>\n",
       "    <tr>\n",
       "      <th>Fence</th>\n",
       "      <td>707</td>\n",
       "    </tr>\n",
       "    <tr>\n",
       "      <th>Alley</th>\n",
       "      <td>821</td>\n",
       "    </tr>\n",
       "    <tr>\n",
       "      <th>Misc Feature</th>\n",
       "      <td>838</td>\n",
       "    </tr>\n",
       "    <tr>\n",
       "      <th>Pool QC</th>\n",
       "      <td>875</td>\n",
       "    </tr>\n",
       "  </tbody>\n",
       "</table>\n",
       "<p>79 rows × 1 columns</p>\n",
       "</div>"
      ],
      "text/plain": [
       "               nullcount\n",
       "PID                    0\n",
       "Bsmt Unf SF            0\n",
       "Total Bsmt SF          0\n",
       "Yr Sold                0\n",
       "Heating QC             0\n",
       "...                  ...\n",
       "Fireplace Qu         422\n",
       "Fence                707\n",
       "Alley                821\n",
       "Misc Feature         838\n",
       "Pool QC              875\n",
       "\n",
       "[79 rows x 1 columns]"
      ]
     },
     "execution_count": 5,
     "metadata": {},
     "output_type": "execute_result"
    }
   ],
   "source": [
    "null_features = housing.isnull().sum().sort_values().to_frame(name = 'nullcount')\n",
    "\n",
    "null_features"
   ]
  },
  {
   "cell_type": "code",
   "execution_count": 6,
   "metadata": {},
   "outputs": [
    {
     "data": {
      "text/html": [
       "<div>\n",
       "<style scoped>\n",
       "    .dataframe tbody tr th:only-of-type {\n",
       "        vertical-align: middle;\n",
       "    }\n",
       "\n",
       "    .dataframe tbody tr th {\n",
       "        vertical-align: top;\n",
       "    }\n",
       "\n",
       "    .dataframe thead th {\n",
       "        text-align: right;\n",
       "    }\n",
       "</style>\n",
       "<table border=\"1\" class=\"dataframe\">\n",
       "  <thead>\n",
       "    <tr style=\"text-align: right;\">\n",
       "      <th></th>\n",
       "      <th>nullcount</th>\n",
       "    </tr>\n",
       "  </thead>\n",
       "  <tbody>\n",
       "    <tr>\n",
       "      <th>Mas Vnr Type</th>\n",
       "      <td>1</td>\n",
       "    </tr>\n",
       "    <tr>\n",
       "      <th>Electrical</th>\n",
       "      <td>1</td>\n",
       "    </tr>\n",
       "    <tr>\n",
       "      <th>Mas Vnr Area</th>\n",
       "      <td>1</td>\n",
       "    </tr>\n",
       "    <tr>\n",
       "      <th>BsmtFin Type 2</th>\n",
       "      <td>25</td>\n",
       "    </tr>\n",
       "    <tr>\n",
       "      <th>Bsmt Cond</th>\n",
       "      <td>25</td>\n",
       "    </tr>\n",
       "    <tr>\n",
       "      <th>Bsmt Qual</th>\n",
       "      <td>25</td>\n",
       "    </tr>\n",
       "    <tr>\n",
       "      <th>Bsmt Exposure</th>\n",
       "      <td>25</td>\n",
       "    </tr>\n",
       "    <tr>\n",
       "      <th>BsmtFin Type 1</th>\n",
       "      <td>25</td>\n",
       "    </tr>\n",
       "    <tr>\n",
       "      <th>Garage Type</th>\n",
       "      <td>44</td>\n",
       "    </tr>\n",
       "    <tr>\n",
       "      <th>Garage Finish</th>\n",
       "      <td>45</td>\n",
       "    </tr>\n",
       "    <tr>\n",
       "      <th>Garage Yr Blt</th>\n",
       "      <td>45</td>\n",
       "    </tr>\n",
       "    <tr>\n",
       "      <th>Garage Qual</th>\n",
       "      <td>45</td>\n",
       "    </tr>\n",
       "    <tr>\n",
       "      <th>Garage Cond</th>\n",
       "      <td>45</td>\n",
       "    </tr>\n",
       "    <tr>\n",
       "      <th>Lot Frontage</th>\n",
       "      <td>160</td>\n",
       "    </tr>\n",
       "    <tr>\n",
       "      <th>Fireplace Qu</th>\n",
       "      <td>422</td>\n",
       "    </tr>\n",
       "    <tr>\n",
       "      <th>Fence</th>\n",
       "      <td>707</td>\n",
       "    </tr>\n",
       "    <tr>\n",
       "      <th>Alley</th>\n",
       "      <td>821</td>\n",
       "    </tr>\n",
       "    <tr>\n",
       "      <th>Misc Feature</th>\n",
       "      <td>838</td>\n",
       "    </tr>\n",
       "    <tr>\n",
       "      <th>Pool QC</th>\n",
       "      <td>875</td>\n",
       "    </tr>\n",
       "  </tbody>\n",
       "</table>\n",
       "</div>"
      ],
      "text/plain": [
       "                nullcount\n",
       "Mas Vnr Type            1\n",
       "Electrical              1\n",
       "Mas Vnr Area            1\n",
       "BsmtFin Type 2         25\n",
       "Bsmt Cond              25\n",
       "Bsmt Qual              25\n",
       "Bsmt Exposure          25\n",
       "BsmtFin Type 1         25\n",
       "Garage Type            44\n",
       "Garage Finish          45\n",
       "Garage Yr Blt          45\n",
       "Garage Qual            45\n",
       "Garage Cond            45\n",
       "Lot Frontage          160\n",
       "Fireplace Qu          422\n",
       "Fence                 707\n",
       "Alley                 821\n",
       "Misc Feature          838\n",
       "Pool QC               875"
      ]
     },
     "execution_count": 6,
     "metadata": {},
     "output_type": "execute_result"
    }
   ],
   "source": [
    "null_tofill = null_features['nullcount'] > 0\n",
    "null_features_tofill = null_features[null_tofill]\n",
    "null_features_tofill"
   ]
  },
  {
   "cell_type": "code",
   "execution_count": 7,
   "metadata": {},
   "outputs": [
    {
     "data": {
      "text/plain": [
       "['Mas Vnr Type',\n",
       " 'Electrical',\n",
       " 'Mas Vnr Area',\n",
       " 'BsmtFin Type 2',\n",
       " 'Bsmt Cond',\n",
       " 'Bsmt Qual',\n",
       " 'Bsmt Exposure',\n",
       " 'BsmtFin Type 1',\n",
       " 'Garage Type',\n",
       " 'Garage Finish',\n",
       " 'Garage Yr Blt',\n",
       " 'Garage Qual',\n",
       " 'Garage Cond',\n",
       " 'Lot Frontage',\n",
       " 'Fireplace Qu',\n",
       " 'Fence',\n",
       " 'Alley',\n",
       " 'Misc Feature',\n",
       " 'Pool QC']"
      ]
     },
     "execution_count": 7,
     "metadata": {},
     "output_type": "execute_result"
    }
   ],
   "source": [
    "null_to_fill = null_features_tofill.index.to_list()\n",
    "null_to_fill"
   ]
  },
  {
   "cell_type": "code",
   "execution_count": 8,
   "metadata": {},
   "outputs": [
    {
     "data": {
      "text/plain": [
       "42"
      ]
     },
     "execution_count": 8,
     "metadata": {},
     "output_type": "execute_result"
    }
   ],
   "source": [
    "len(housing.select_dtypes(include = 'object').columns)"
   ]
  },
  {
   "cell_type": "code",
   "execution_count": 9,
   "metadata": {},
   "outputs": [
    {
     "data": {
      "text/plain": [
       "Index(['MS Zoning', 'Street', 'Alley', 'Lot Shape', 'Land Contour',\n",
       "       'Utilities', 'Lot Config', 'Land Slope', 'Neighborhood', 'Condition 1',\n",
       "       'Condition 2', 'Bldg Type', 'House Style', 'Roof Style', 'Roof Matl',\n",
       "       'Exterior 1st', 'Exterior 2nd', 'Mas Vnr Type', 'Exter Qual',\n",
       "       'Exter Cond', 'Foundation', 'Bsmt Qual', 'Bsmt Cond', 'Bsmt Exposure',\n",
       "       'BsmtFin Type 1', 'BsmtFin Type 2', 'Heating', 'Heating QC',\n",
       "       'Central Air', 'Electrical', 'Kitchen Qual', 'Functional',\n",
       "       'Fireplace Qu', 'Garage Type', 'Garage Finish', 'Garage Qual',\n",
       "       'Garage Cond', 'Paved Drive', 'Pool QC', 'Fence', 'Misc Feature',\n",
       "       'Sale Type'],\n",
       "      dtype='object')"
      ]
     },
     "execution_count": 9,
     "metadata": {},
     "output_type": "execute_result"
    }
   ],
   "source": [
    "housing.select_dtypes(include = 'object').columns"
   ]
  },
  {
   "cell_type": "code",
   "execution_count": 10,
   "metadata": {},
   "outputs": [
    {
     "data": {
      "text/plain": [
       "37"
      ]
     },
     "execution_count": 10,
     "metadata": {},
     "output_type": "execute_result"
    }
   ],
   "source": [
    "len(housing.select_dtypes(include = ['int64', 'float64']).columns)"
   ]
  },
  {
   "cell_type": "code",
   "execution_count": 11,
   "metadata": {},
   "outputs": [],
   "source": [
    "def str_to_int(string):\n",
    "    \n",
    "    try:\n",
    "        \n",
    "        num = int(string)\n",
    "        \n",
    "    except:\n",
    "        \n",
    "        num = np.nan\n",
    "        \n",
    "    return num"
   ]
  },
  {
   "cell_type": "code",
   "execution_count": 12,
   "metadata": {},
   "outputs": [
    {
     "data": {
      "text/plain": [
       "int"
      ]
     },
     "execution_count": 12,
     "metadata": {},
     "output_type": "execute_result"
    }
   ],
   "source": [
    "type(str_to_int('1980'))"
   ]
  },
  {
   "cell_type": "code",
   "execution_count": 13,
   "metadata": {},
   "outputs": [],
   "source": [
    "housing['Garage Yr Blt'] = housing['Garage Yr Blt'].apply(str_to_int)"
   ]
  },
  {
   "cell_type": "code",
   "execution_count": 14,
   "metadata": {},
   "outputs": [
    {
     "data": {
      "text/html": [
       "<div>\n",
       "<style scoped>\n",
       "    .dataframe tbody tr th:only-of-type {\n",
       "        vertical-align: middle;\n",
       "    }\n",
       "\n",
       "    .dataframe tbody tr th {\n",
       "        vertical-align: top;\n",
       "    }\n",
       "\n",
       "    .dataframe thead th {\n",
       "        text-align: right;\n",
       "    }\n",
       "</style>\n",
       "<table border=\"1\" class=\"dataframe\">\n",
       "  <thead>\n",
       "    <tr style=\"text-align: right;\">\n",
       "      <th></th>\n",
       "      <th>Garage Yr Blt</th>\n",
       "      <th>Mas Vnr Area</th>\n",
       "      <th>Lot Frontage</th>\n",
       "    </tr>\n",
       "  </thead>\n",
       "  <tbody>\n",
       "    <tr>\n",
       "      <th>count</th>\n",
       "      <td>834.000000</td>\n",
       "      <td>878.000000</td>\n",
       "      <td>719.000000</td>\n",
       "    </tr>\n",
       "    <tr>\n",
       "      <th>mean</th>\n",
       "      <td>1976.796163</td>\n",
       "      <td>106.982916</td>\n",
       "      <td>69.630042</td>\n",
       "    </tr>\n",
       "    <tr>\n",
       "      <th>std</th>\n",
       "      <td>25.695683</td>\n",
       "      <td>188.356829</td>\n",
       "      <td>23.625372</td>\n",
       "    </tr>\n",
       "    <tr>\n",
       "      <th>min</th>\n",
       "      <td>1900.000000</td>\n",
       "      <td>0.000000</td>\n",
       "      <td>21.000000</td>\n",
       "    </tr>\n",
       "    <tr>\n",
       "      <th>25%</th>\n",
       "      <td>1960.000000</td>\n",
       "      <td>0.000000</td>\n",
       "      <td>59.000000</td>\n",
       "    </tr>\n",
       "    <tr>\n",
       "      <th>50%</th>\n",
       "      <td>1978.000000</td>\n",
       "      <td>0.000000</td>\n",
       "      <td>68.000000</td>\n",
       "    </tr>\n",
       "    <tr>\n",
       "      <th>75%</th>\n",
       "      <td>2001.000000</td>\n",
       "      <td>173.500000</td>\n",
       "      <td>80.000000</td>\n",
       "    </tr>\n",
       "    <tr>\n",
       "      <th>max</th>\n",
       "      <td>2010.000000</td>\n",
       "      <td>1378.000000</td>\n",
       "      <td>182.000000</td>\n",
       "    </tr>\n",
       "  </tbody>\n",
       "</table>\n",
       "</div>"
      ],
      "text/plain": [
       "       Garage Yr Blt  Mas Vnr Area  Lot Frontage\n",
       "count     834.000000    878.000000    719.000000\n",
       "mean     1976.796163    106.982916     69.630042\n",
       "std        25.695683    188.356829     23.625372\n",
       "min      1900.000000      0.000000     21.000000\n",
       "25%      1960.000000      0.000000     59.000000\n",
       "50%      1978.000000      0.000000     68.000000\n",
       "75%      2001.000000    173.500000     80.000000\n",
       "max      2010.000000   1378.000000    182.000000"
      ]
     },
     "execution_count": 14,
     "metadata": {},
     "output_type": "execute_result"
    }
   ],
   "source": [
    "housing[['Garage Yr Blt', 'Mas Vnr Area', 'Lot Frontage']].describe()"
   ]
  },
  {
   "cell_type": "code",
   "execution_count": 15,
   "metadata": {},
   "outputs": [],
   "source": [
    "def subplot_histograms(dataframe, list_of_columns, binsize = 10):\n",
    "    \n",
    "    nrows = int(np.ceil(len(list_of_columns)/2))\n",
    "    fig, ax = plt.subplots(nrows=nrows, ncols=2, figsize = (10, 5*nrows))\n",
    "    \n",
    "    ax = ax.ravel()\n",
    "    \n",
    "    for i, column in enumerate(list_of_columns): \n",
    "        ax[i].hist(dataframe[column], bins = binsize)\n",
    "        \n",
    "        ax[i].axvline(dataframe[column].median(), color='g', linestyle='dashed', linewidth=2)\n",
    "\n",
    "        ax[i].set_title(str(column), fontsize = 14)\n",
    "        \n",
    "    plt.show()"
   ]
  },
  {
   "cell_type": "code",
   "execution_count": 16,
   "metadata": {},
   "outputs": [
    {
     "data": {
      "image/png": "[encoded data removed]",
      "text/plain": [
       "<Figure size 720x720 with 4 Axes>"
      ]
     },
     "metadata": {
      "needs_background": "light"
     },
     "output_type": "display_data"
    }
   ],
   "source": [
    "subplot_histograms(housing, ['Garage Yr Blt', 'Mas Vnr Area', 'Lot Frontage'], binsize = 10)"
   ]
  },
  {
   "cell_type": "code",
   "execution_count": 17,
   "metadata": {},
   "outputs": [],
   "source": [
    "garages = housing[['Garage Yr Blt', 'Garage Type', 'Garage Cond', 'Garage Qual', 'Garage Finish']]\n",
    "garage_null = garages[garages['Garage Yr Blt'].isnull()]"
   ]
  },
  {
   "cell_type": "code",
   "execution_count": 18,
   "metadata": {},
   "outputs": [
    {
     "data": {
      "text/plain": [
       "Garage Yr Blt    45\n",
       "Garage Type      44\n",
       "Garage Cond      45\n",
       "Garage Qual      45\n",
       "Garage Finish    45\n",
       "dtype: int64"
      ]
     },
     "execution_count": 18,
     "metadata": {},
     "output_type": "execute_result"
    }
   ],
   "source": [
    "garage_null.isnull().sum()  #this shows that these houses do not have garages"
   ]
  },
  {
   "cell_type": "code",
   "execution_count": 19,
   "metadata": {},
   "outputs": [
    {
     "data": {
      "text/plain": [
       "{'Alley',\n",
       " 'Bsmt Cond',\n",
       " 'Bsmt Exposure',\n",
       " 'Bsmt Qual',\n",
       " 'BsmtFin Type 1',\n",
       " 'BsmtFin Type 2',\n",
       " 'Electrical',\n",
       " 'Fence',\n",
       " 'Fireplace Qu',\n",
       " 'Garage Cond',\n",
       " 'Garage Finish',\n",
       " 'Garage Qual',\n",
       " 'Garage Type',\n",
       " 'Mas Vnr Type',\n",
       " 'Misc Feature',\n",
       " 'Pool QC'}"
      ]
     },
     "execution_count": 19,
     "metadata": {},
     "output_type": "execute_result"
    }
   ],
   "source": [
    "set(null_to_fill).difference(set(['Garage Yr Blt', 'Mas Vnr Area', 'Lot Frontage']))"
   ]
  },
  {
   "cell_type": "code",
   "execution_count": 20,
   "metadata": {
    "scrolled": false
   },
   "outputs": [
    {
     "name": "stdout",
     "output_type": "stream",
     "text": [
      "No    567\n",
      "Av    130\n",
      "Gd     81\n",
      "Mn     76\n",
      "Name: Bsmt Exposure, dtype: int64\n",
      "----------------------\n",
      "Unf    382\n",
      "RFn    233\n",
      "Fin    219\n",
      "Name: Garage Finish, dtype: int64\n",
      "----------------------\n",
      "TA    396\n",
      "Gd    355\n",
      "Ex     74\n",
      "Fa     28\n",
      "Po      1\n",
      "Name: Bsmt Qual, dtype: int64\n",
      "----------------------\n",
      "Shed    39\n",
      "Gar2     1\n",
      "Othr     1\n",
      "Name: Misc Feature, dtype: int64\n",
      "----------------------\n",
      "MnPrv    103\n",
      "GdPrv     35\n",
      "GdWo      32\n",
      "MnWw       2\n",
      "Name: Fence, dtype: int64\n",
      "----------------------\n",
      "None       534\n",
      "BrkFace    250\n",
      "Stone       81\n",
      "BrkCmn      12\n",
      "CBlock       1\n",
      "Name: Mas Vnr Type, dtype: int64\n",
      "----------------------\n",
      "Gd    221\n",
      "TA    193\n",
      "Fa     16\n",
      "Po     15\n",
      "Ex     12\n",
      "Name: Fireplace Qu, dtype: int64\n",
      "----------------------\n",
      "Attchd     518\n",
      "Detchd     246\n",
      "BuiltIn     54\n",
      "Basment      9\n",
      "CarPort      4\n",
      "2Types       4\n",
      "Name: Garage Type, dtype: int64\n",
      "----------------------\n",
      "TA    782\n",
      "Fa     39\n",
      "Gd     33\n",
      "Name: Bsmt Cond, dtype: int64\n",
      "----------------------\n",
      "Ex    3\n",
      "TA    1\n",
      "Name: Pool QC, dtype: int64\n",
      "----------------------\n",
      "Unf    750\n",
      "LwQ     29\n",
      "Rec     26\n",
      "BLQ     20\n",
      "ALQ     18\n",
      "GLQ     11\n",
      "Name: BsmtFin Type 2, dtype: int64\n",
      "----------------------\n",
      "SBrkr    814\n",
      "FuseA     48\n",
      "FuseF     15\n",
      "FuseP      1\n",
      "Name: Electrical, dtype: int64\n",
      "----------------------\n",
      "TA    797\n",
      "Fa     27\n",
      "Po      6\n",
      "Gd      3\n",
      "Ex      1\n",
      "Name: Garage Cond, dtype: int64\n",
      "----------------------\n",
      "Unf    248\n",
      "GLQ    244\n",
      "ALQ    136\n",
      "Rec    105\n",
      "BLQ     69\n",
      "LwQ     52\n",
      "Name: BsmtFin Type 1, dtype: int64\n",
      "----------------------\n",
      "Grvl    35\n",
      "Pave    23\n",
      "Name: Alley, dtype: int64\n",
      "----------------------\n",
      "TA    783\n",
      "Fa     42\n",
      "Gd      6\n",
      "Po      3\n",
      "Name: Garage Qual, dtype: int64\n",
      "----------------------\n"
     ]
    }
   ],
   "source": [
    "for item in set(null_to_fill).difference(set(['Garage Yr Blt', 'Mas Vnr Area', 'Lot Frontage'])):\n",
    "    \n",
    "    print(housing[item].value_counts())\n",
    "    print('----------------------')"
   ]
  },
  {
   "cell_type": "code",
   "execution_count": 21,
   "metadata": {},
   "outputs": [
    {
     "data": {
      "text/html": [
       "<div>\n",
       "<style scoped>\n",
       "    .dataframe tbody tr th:only-of-type {\n",
       "        vertical-align: middle;\n",
       "    }\n",
       "\n",
       "    .dataframe tbody tr th {\n",
       "        vertical-align: top;\n",
       "    }\n",
       "\n",
       "    .dataframe thead th {\n",
       "        text-align: right;\n",
       "    }\n",
       "</style>\n",
       "<table border=\"1\" class=\"dataframe\">\n",
       "  <thead>\n",
       "    <tr style=\"text-align: right;\">\n",
       "      <th></th>\n",
       "      <th>Mas Vnr Type</th>\n",
       "      <th>Electrical</th>\n",
       "      <th>BsmtFin Type 2</th>\n",
       "      <th>Bsmt Cond</th>\n",
       "      <th>Bsmt Qual</th>\n",
       "      <th>Bsmt Exposure</th>\n",
       "      <th>BsmtFin Type 1</th>\n",
       "      <th>Fireplace Qu</th>\n",
       "      <th>Fence</th>\n",
       "      <th>Alley</th>\n",
       "      <th>Misc Feature</th>\n",
       "      <th>Pool QC</th>\n",
       "    </tr>\n",
       "  </thead>\n",
       "  <tbody>\n",
       "    <tr>\n",
       "      <th>0</th>\n",
       "      <td>None</td>\n",
       "      <td>SBrkr</td>\n",
       "      <td>Unf</td>\n",
       "      <td>TA</td>\n",
       "      <td>TA</td>\n",
       "      <td>No</td>\n",
       "      <td>Unf</td>\n",
       "      <td>Gd</td>\n",
       "      <td>MnPrv</td>\n",
       "      <td>Grvl</td>\n",
       "      <td>Shed</td>\n",
       "      <td>Ex</td>\n",
       "    </tr>\n",
       "  </tbody>\n",
       "</table>\n",
       "</div>"
      ],
      "text/plain": [
       "  Mas Vnr Type Electrical BsmtFin Type 2 Bsmt Cond Bsmt Qual Bsmt Exposure  \\\n",
       "0         None      SBrkr            Unf        TA        TA            No   \n",
       "\n",
       "  BsmtFin Type 1 Fireplace Qu  Fence Alley Misc Feature Pool QC  \n",
       "0            Unf           Gd  MnPrv  Grvl         Shed      Ex  "
      ]
     },
     "execution_count": 21,
     "metadata": {},
     "output_type": "execute_result"
    }
   ],
   "source": [
    "housing[['Mas Vnr Type',\n",
    "         'Electrical',\n",
    "         'BsmtFin Type 2',\n",
    "         'Bsmt Cond',\n",
    "         'Bsmt Qual',\n",
    "         'Bsmt Exposure',\n",
    "         'BsmtFin Type 1',\n",
    "         'Fireplace Qu',\n",
    "         'Fence',\n",
    "         'Alley',\n",
    "         'Misc Feature',\n",
    "         'Pool QC']].mode()"
   ]
  },
  {
   "cell_type": "code",
   "execution_count": 22,
   "metadata": {},
   "outputs": [],
   "source": [
    "values_to_fill = {'Mas Vnr Type': 'None',\n",
    "                  'Mas Vnr Area': 0,\n",
    "                  'Electrical': 'SBrkr',\n",
    "                  'BsmtFin Type 2': 'Unf',\n",
    "                  'Bsmt Cond': 'TA',\n",
    "                  'Bsmt Qual': 'TA',\n",
    "                  'BsmtFin Type 1': 'Unf',\n",
    "                  'Bsmt Exposure': 'No',\n",
    "                  'Garage Type': 'NA',\n",
    "                  'Garage Finish': 'NA',\n",
    "                  'Garage Yr Blt': 'NA', # to prep for feature engineering further down\n",
    "                  'Garage Qual': 'NA',\n",
    "                  'Garage Cond': 'NA',\n",
    "                  'Lot Frontage' : 69.6,\n",
    "                  'Fireplace Qu': 'Gd',\n",
    "                  'Fence': 'NA',   # the last 4 features have a lot of empty data, suggesting that they do not exist\n",
    "                  'Alley': 'NA',\n",
    "                  'Misc Feature': 'NA',\n",
    "                  'Pool QC': 'NA'}"
   ]
  },
  {
   "cell_type": "code",
   "execution_count": 23,
   "metadata": {},
   "outputs": [],
   "source": [
    "housing.fillna(value = values_to_fill, inplace = True)"
   ]
  },
  {
   "cell_type": "code",
   "execution_count": 24,
   "metadata": {},
   "outputs": [
    {
     "data": {
      "text/plain": [
       "PID              0\n",
       "Fireplaces       0\n",
       "Functional       0\n",
       "TotRms AbvGrd    0\n",
       "Kitchen Qual     0\n",
       "                ..\n",
       "Exterior 1st     0\n",
       "Roof Matl        0\n",
       "Roof Style       0\n",
       "Exter Cond       0\n",
       "Sale Type        0\n",
       "Length: 79, dtype: int64"
      ]
     },
     "execution_count": 24,
     "metadata": {},
     "output_type": "execute_result"
    }
   ],
   "source": [
    "housing.isnull().sum().sort_values()"
   ]
  },
  {
   "cell_type": "code",
   "execution_count": 25,
   "metadata": {},
   "outputs": [],
   "source": [
    "def Garage_Age(date):\n",
    "    \n",
    "    if date == 'NA':\n",
    "        age = 0\n",
    "        \n",
    "    elif date < 1950:\n",
    "        age = 1\n",
    "        \n",
    "    elif date < 1960:\n",
    "        age = 2\n",
    "        \n",
    "    elif date < 1970:\n",
    "        age = 3\n",
    "        \n",
    "    elif date < 1980:\n",
    "        age = 4\n",
    "        \n",
    "    elif date < 1990:\n",
    "        age = 5\n",
    "        \n",
    "    elif date < 2000:\n",
    "        age = 6\n",
    "        \n",
    "    else:\n",
    "        age = 7\n",
    "        \n",
    "    return age"
   ]
  },
  {
   "cell_type": "code",
   "execution_count": 26,
   "metadata": {},
   "outputs": [
    {
     "data": {
      "text/plain": [
       "7    229\n",
       "3    116\n",
       "6    112\n",
       "4    112\n",
       "1    105\n",
       "2    102\n",
       "5     58\n",
       "0     45\n",
       "Name: Garage Age, dtype: int64"
      ]
     },
     "execution_count": 26,
     "metadata": {},
     "output_type": "execute_result"
    }
   ],
   "source": [
    "housing['Garage Age'] = housing['Garage Yr Blt'].apply(Garage_Age)\n",
    "housing['Garage Age'].value_counts()"
   ]
  },
  {
   "cell_type": "code",
   "execution_count": 27,
   "metadata": {},
   "outputs": [
    {
     "data": {
      "text/plain": [
       "(879, 78)"
      ]
     },
     "execution_count": 27,
     "metadata": {},
     "output_type": "execute_result"
    }
   ],
   "source": [
    "housing.drop(columns = ['Garage Yr Blt', 'PID'], inplace = True)\n",
    "housing.shape"
   ]
  },
  {
   "cell_type": "code",
   "execution_count": null,
   "metadata": {},
   "outputs": [],
   "source": []
  },
  {
   "cell_type": "code",
   "execution_count": 28,
   "metadata": {},
   "outputs": [
    {
     "data": {
      "text/plain": [
       "['MS SubClass',\n",
       " 'Lot Frontage',\n",
       " 'Lot Area',\n",
       " 'Overall Qual',\n",
       " 'Overall Cond',\n",
       " 'Year Built',\n",
       " 'Year Remod/Add',\n",
       " 'Mas Vnr Area',\n",
       " 'BsmtFin SF 1',\n",
       " 'BsmtFin SF 2',\n",
       " 'Bsmt Unf SF',\n",
       " 'Total Bsmt SF',\n",
       " '1st Flr SF',\n",
       " '2nd Flr SF',\n",
       " 'Low Qual Fin SF',\n",
       " 'Gr Liv Area',\n",
       " 'Bsmt Full Bath',\n",
       " 'Bsmt Half Bath',\n",
       " 'Full Bath',\n",
       " 'Half Bath',\n",
       " 'Bedroom AbvGr',\n",
       " 'Kitchen AbvGr',\n",
       " 'TotRms AbvGrd',\n",
       " 'Fireplaces',\n",
       " 'Garage Cars',\n",
       " 'Garage Area',\n",
       " 'Wood Deck SF',\n",
       " 'Open Porch SF',\n",
       " 'Enclosed Porch',\n",
       " '3Ssn Porch',\n",
       " 'Screen Porch',\n",
       " 'Pool Area',\n",
       " 'Misc Val',\n",
       " 'Mo Sold',\n",
       " 'Yr Sold',\n",
       " 'Garage Age']"
      ]
     },
     "execution_count": 28,
     "metadata": {},
     "output_type": "execute_result"
    }
   ],
   "source": [
    "numerical_columns = housing.select_dtypes(include = ['int64', 'float64']).columns.to_list()\n",
    "numerical_columns\n",
    "\n",
    "# MS Subclass is a nominal feature, and shouldn't be set as a number\n",
    "\n"
   ]
  },
  {
   "cell_type": "code",
   "execution_count": 29,
   "metadata": {},
   "outputs": [],
   "source": [
    "housing['MS SubClass'] = housing['MS SubClass'].astype('str')"
   ]
  },
  {
   "cell_type": "code",
   "execution_count": 30,
   "metadata": {},
   "outputs": [
    {
     "data": {
      "text/plain": [
       "count     879.000000\n",
       "mean     1970.533561\n",
       "std        30.403527\n",
       "min      1880.000000\n",
       "25%      1954.000000\n",
       "50%      1972.000000\n",
       "75%      2000.000000\n",
       "max      2010.000000\n",
       "Name: Year Built, dtype: float64"
      ]
     },
     "execution_count": 30,
     "metadata": {},
     "output_type": "execute_result"
    }
   ],
   "source": [
    "housing['Year Built'].describe()"
   ]
  },
  {
   "cell_type": "code",
   "execution_count": 31,
   "metadata": {},
   "outputs": [
    {
     "data": {
      "text/plain": [
       "count     879.000000\n",
       "mean     1984.444824\n",
       "std        20.454546\n",
       "min      1950.000000\n",
       "25%      1967.000000\n",
       "50%      1992.000000\n",
       "75%      2003.000000\n",
       "max      2010.000000\n",
       "Name: Year Remod/Add, dtype: float64"
      ]
     },
     "execution_count": 31,
     "metadata": {},
     "output_type": "execute_result"
    }
   ],
   "source": [
    "housing['Year Remod/Add'].describe()"
   ]
  },
  {
   "cell_type": "code",
   "execution_count": 32,
   "metadata": {},
   "outputs": [
    {
     "data": {
      "text/plain": [
       "count    879.000000\n",
       "mean      49.466439\n",
       "std       30.403527\n",
       "min       10.000000\n",
       "25%       20.000000\n",
       "50%       48.000000\n",
       "75%       66.000000\n",
       "max      140.000000\n",
       "Name: House Age, dtype: float64"
      ]
     },
     "execution_count": 32,
     "metadata": {},
     "output_type": "execute_result"
    }
   ],
   "source": [
    "housing['House Age'] = 2020 - housing['Year Built']\n",
    "housing['House Age'].describe()"
   ]
  },
  {
   "cell_type": "code",
   "execution_count": 33,
   "metadata": {},
   "outputs": [
    {
     "data": {
      "text/plain": [
       "count    879.000000\n",
       "mean      35.555176\n",
       "std       20.454546\n",
       "min       10.000000\n",
       "25%       17.000000\n",
       "50%       28.000000\n",
       "75%       53.000000\n",
       "max       70.000000\n",
       "Name: House Remod Yrs, dtype: float64"
      ]
     },
     "execution_count": 33,
     "metadata": {},
     "output_type": "execute_result"
    }
   ],
   "source": [
    "housing['House Remod Yrs'] = 2020 - housing['Year Remod/Add']\n",
    "housing['House Remod Yrs'].describe()"
   ]
  },
  {
   "cell_type": "code",
   "execution_count": 34,
   "metadata": {},
   "outputs": [
    {
     "data": {
      "text/plain": [
       "(879, 78)"
      ]
     },
     "execution_count": 34,
     "metadata": {},
     "output_type": "execute_result"
    }
   ],
   "source": [
    "housing.drop(columns = ['Year Remod/Add', 'Year Built'], inplace = True)\n",
    "housing.shape"
   ]
  },
  {
   "cell_type": "code",
   "execution_count": null,
   "metadata": {},
   "outputs": [],
   "source": []
  },
  {
   "cell_type": "code",
   "execution_count": 35,
   "metadata": {},
   "outputs": [
    {
     "data": {
      "text/plain": [
       "43"
      ]
     },
     "execution_count": 35,
     "metadata": {},
     "output_type": "execute_result"
    }
   ],
   "source": [
    "categorical_features = housing.select_dtypes(include = 'object').columns.to_list()\n",
    "\n",
    "categorical_features\n",
    "\n",
    "len(categorical_features)   #this gives the ordinal and nominal features."
   ]
  },
  {
   "cell_type": "code",
   "execution_count": 36,
   "metadata": {},
   "outputs": [],
   "source": [
    "ordinal_features = ['Lot Shape', 'Utilities', 'Land Slope',\n",
    "                   'Exter Qual','Exter Cond', 'Bsmt Qual','Bsmt Cond','Bsmt Exposure',\n",
    "                    'BsmtFin Type 1','BsmtFin Type 2', 'Heating QC', 'Electrical','Kitchen Qual',\n",
    "                    'Functional', 'Fireplace Qu', 'Garage Finish', 'Garage Qual','Garage Cond',\n",
    "                    'Paved Drive','Pool QC','Fence']\n",
    "\n",
    "# Overall Qual and Overall Cond are not included as their data values are already integers"
   ]
  },
  {
   "cell_type": "code",
   "execution_count": 37,
   "metadata": {},
   "outputs": [
    {
     "name": "stdout",
     "output_type": "stream",
     "text": [
      "Reg    564\n",
      "IR1    287\n",
      "IR2     21\n",
      "IR3      7\n",
      "Name: Lot Shape, dtype: int64\n",
      "-------------------------\n",
      "AllPub    878\n",
      "NoSewr      1\n",
      "Name: Utilities, dtype: int64\n",
      "-------------------------\n",
      "Gtl    836\n",
      "Mod     37\n",
      "Sev      6\n",
      "Name: Land Slope, dtype: int64\n",
      "-------------------------\n",
      "TA    552\n",
      "Gd    292\n",
      "Ex     26\n",
      "Fa      9\n",
      "Name: Exter Qual, dtype: int64\n",
      "-------------------------\n",
      "TA    771\n",
      "Gd     84\n",
      "Fa     18\n",
      "Ex      5\n",
      "Po      1\n",
      "Name: Exter Cond, dtype: int64\n",
      "-------------------------\n",
      "TA    421\n",
      "Gd    355\n",
      "Ex     74\n",
      "Fa     28\n",
      "Po      1\n",
      "Name: Bsmt Qual, dtype: int64\n",
      "-------------------------\n",
      "TA    807\n",
      "Fa     39\n",
      "Gd     33\n",
      "Name: Bsmt Cond, dtype: int64\n",
      "-------------------------\n",
      "No    592\n",
      "Av    130\n",
      "Gd     81\n",
      "Mn     76\n",
      "Name: Bsmt Exposure, dtype: int64\n",
      "-------------------------\n",
      "Unf    273\n",
      "GLQ    244\n",
      "ALQ    136\n",
      "Rec    105\n",
      "BLQ     69\n",
      "LwQ     52\n",
      "Name: BsmtFin Type 1, dtype: int64\n",
      "-------------------------\n",
      "Unf    775\n",
      "LwQ     29\n",
      "Rec     26\n",
      "BLQ     20\n",
      "ALQ     18\n",
      "GLQ     11\n",
      "Name: BsmtFin Type 2, dtype: int64\n",
      "-------------------------\n",
      "Ex    430\n",
      "TA    267\n",
      "Gd    157\n",
      "Fa     25\n",
      "Name: Heating QC, dtype: int64\n",
      "-------------------------\n",
      "SBrkr    815\n",
      "FuseA     48\n",
      "FuseF     15\n",
      "FuseP      1\n",
      "Name: Electrical, dtype: int64\n",
      "-------------------------\n",
      "TA    447\n",
      "Gd    354\n",
      "Ex     54\n",
      "Fa     23\n",
      "Po      1\n",
      "Name: Kitchen Qual, dtype: int64\n",
      "-------------------------\n",
      "Typ     813\n",
      "Min2     28\n",
      "Min1     23\n",
      "Maj1      7\n",
      "Mod       6\n",
      "Maj2      2\n",
      "Name: Functional, dtype: int64\n",
      "-------------------------\n",
      "Gd    643\n",
      "TA    193\n",
      "Fa     16\n",
      "Po     15\n",
      "Ex     12\n",
      "Name: Fireplace Qu, dtype: int64\n",
      "-------------------------\n",
      "Unf    382\n",
      "RFn    233\n",
      "Fin    219\n",
      "NA      45\n",
      "Name: Garage Finish, dtype: int64\n",
      "-------------------------\n",
      "TA    783\n",
      "NA     45\n",
      "Fa     42\n",
      "Gd      6\n",
      "Po      3\n",
      "Name: Garage Qual, dtype: int64\n",
      "-------------------------\n",
      "TA    797\n",
      "NA     45\n",
      "Fa     27\n",
      "Po      6\n",
      "Gd      3\n",
      "Ex      1\n",
      "Name: Garage Cond, dtype: int64\n",
      "-------------------------\n",
      "Y    791\n",
      "N     65\n",
      "P     23\n",
      "Name: Paved Drive, dtype: int64\n",
      "-------------------------\n",
      "NA    875\n",
      "Ex      3\n",
      "TA      1\n",
      "Name: Pool QC, dtype: int64\n",
      "-------------------------\n",
      "NA       707\n",
      "MnPrv    103\n",
      "GdPrv     35\n",
      "GdWo      32\n",
      "MnWw       2\n",
      "Name: Fence, dtype: int64\n",
      "-------------------------\n"
     ]
    }
   ],
   "source": [
    "len(ordinal_features) \n",
    "\n",
    "for feature in ordinal_features:\n",
    "    \n",
    "    print(housing[feature].value_counts())\n",
    "    print('-------------------------')"
   ]
  },
  {
   "cell_type": "code",
   "execution_count": 38,
   "metadata": {},
   "outputs": [
    {
     "data": {
      "text/plain": [
       "(879, 77)"
      ]
     },
     "execution_count": 38,
     "metadata": {},
     "output_type": "execute_result"
    }
   ],
   "source": [
    "housing.drop(columns = ['Utilities'], inplace = True)\n",
    "housing.shape"
   ]
  },
  {
   "cell_type": "code",
   "execution_count": 39,
   "metadata": {},
   "outputs": [
    {
     "data": {
      "text/plain": [
       "20"
      ]
     },
     "execution_count": 39,
     "metadata": {},
     "output_type": "execute_result"
    }
   ],
   "source": [
    "ordinal_features.remove('Utilities')\n",
    "len(ordinal_features)"
   ]
  },
  {
   "cell_type": "code",
   "execution_count": 40,
   "metadata": {},
   "outputs": [
    {
     "data": {
      "text/plain": [
       "['Bsmt Cond',\n",
       " 'Bsmt Exposure',\n",
       " 'Bsmt Qual',\n",
       " 'BsmtFin Type 1',\n",
       " 'BsmtFin Type 2',\n",
       " 'Electrical',\n",
       " 'Exter Cond',\n",
       " 'Exter Qual',\n",
       " 'Fence',\n",
       " 'Fireplace Qu',\n",
       " 'Functional',\n",
       " 'Garage Cond',\n",
       " 'Garage Finish',\n",
       " 'Garage Qual',\n",
       " 'Heating QC',\n",
       " 'Kitchen Qual',\n",
       " 'Land Slope',\n",
       " 'Lot Shape',\n",
       " 'Paved Drive',\n",
       " 'Pool QC']"
      ]
     },
     "execution_count": 40,
     "metadata": {},
     "output_type": "execute_result"
    }
   ],
   "source": [
    "ordinal_features.sort()\n",
    "ordinal_features"
   ]
  },
  {
   "cell_type": "code",
   "execution_count": 41,
   "metadata": {},
   "outputs": [],
   "source": [
    "housing.replace(to_replace = {\n",
    "    'Bsmt Cond': {'Ex': 5, 'Gd': 4, 'TA':3, 'Fa':2, 'Po': 1, 'NA': 0},\n",
    "    'Bsmt Exposure': {'Gd': 4, 'Av':3, 'Mn':2, 'No': 1, 'NA': 0},\n",
    "    'Bsmt Qual': {'Ex': 5, 'Gd': 4, 'TA':3, 'Fa':2, 'Po': 1, 'NA': 0},\n",
    "    'BsmtFin Type 1': {'GLQ': 6, 'ALQ': 5, 'BLQ': 4, 'Rec': 3, 'LwQ': 2, 'Unf': 1, 'NA': 0},\n",
    "    'BsmtFin Type 2': {'GLQ': 6, 'ALQ': 5, 'BLQ': 4, 'Rec': 3, 'LwQ': 2, 'Unf': 1, 'NA': 0},\n",
    "    'Electrical': {'SBrkr': 4, 'FuseA': 3, 'FuseF':2, 'FuseP':1, 'Mix': 0},\n",
    "    'Exter Cond': {'Ex': 4, 'Gd': 3, 'TA':2, 'Fa':1, 'Po': 0},\n",
    "    'Exter Qual': {'Ex': 4, 'Gd': 3, 'TA':2, 'Fa':1, 'Po': 0},\n",
    "    'Fence': {'GdPrv': 4, 'MnPrv': 3, 'GdWo': 2, 'MnWw': 1, 'NA': 0},\n",
    "    'Fireplace Qu': {'Ex': 5, 'Gd': 4, 'TA':3, 'Fa':2, 'Po': 1, 'NA': 0},\n",
    "    'Functional': {'Typ': 7, 'Min1': 6, 'Min2': 5, 'Mod': 4, 'Maj1': 3, 'Maj2': 2, 'Sev': 1, 'Sal': 0},\n",
    "    'Garage Cond': {'Ex': 5, 'Gd': 4, 'TA':3, 'Fa':2, 'Po': 1, 'NA': 0},\n",
    "    'Garage Finish': {'Fin':3, 'RFn':2, 'Unf': 1, 'NA': 0},\n",
    "    'Garage Qual': {'Ex': 5, 'Gd': 4, 'TA':3, 'Fa':2, 'Po': 1, 'NA': 0},\n",
    "    'Heating QC': {'Ex': 4, 'Gd': 3, 'TA':2, 'Fa':1, 'Po': 0},\n",
    "    'Kitchen Qual': {'Ex': 4, 'Gd': 3, 'TA':2, 'Fa':1, 'Po': 0},\n",
    "    'Land Slope': {'Gtl': 2, 'Mod':1, 'Sev': 0},\n",
    "    'Lot Shape': {'Reg':3, 'IR1':2, 'IR2': 1, 'IR3': 0},\n",
    "    'Paved Drive': {'Y': 2, 'P':1, 'N': 0},\n",
    "    'Pool QC': {'Ex': 4, 'Gd': 3, 'TA':2, 'Fa':1, 'NA': 0}\n",
    "}, inplace = True)"
   ]
  },
  {
   "cell_type": "code",
   "execution_count": 42,
   "metadata": {},
   "outputs": [
    {
     "name": "stdout",
     "output_type": "stream",
     "text": [
      "3    807\n",
      "2     39\n",
      "4     33\n",
      "Name: Bsmt Cond, dtype: int64\n",
      "--------------------------\n",
      "1    592\n",
      "3    130\n",
      "4     81\n",
      "2     76\n",
      "Name: Bsmt Exposure, dtype: int64\n",
      "--------------------------\n",
      "3    421\n",
      "4    355\n",
      "5     74\n",
      "2     28\n",
      "1      1\n",
      "Name: Bsmt Qual, dtype: int64\n",
      "--------------------------\n",
      "1    273\n",
      "6    244\n",
      "5    136\n",
      "3    105\n",
      "4     69\n",
      "2     52\n",
      "Name: BsmtFin Type 1, dtype: int64\n",
      "--------------------------\n",
      "1    775\n",
      "2     29\n",
      "3     26\n",
      "4     20\n",
      "5     18\n",
      "6     11\n",
      "Name: BsmtFin Type 2, dtype: int64\n",
      "--------------------------\n",
      "4    815\n",
      "3     48\n",
      "2     15\n",
      "1      1\n",
      "Name: Electrical, dtype: int64\n",
      "--------------------------\n",
      "2    771\n",
      "3     84\n",
      "1     18\n",
      "4      5\n",
      "0      1\n",
      "Name: Exter Cond, dtype: int64\n",
      "--------------------------\n",
      "2    552\n",
      "3    292\n",
      "4     26\n",
      "1      9\n",
      "Name: Exter Qual, dtype: int64\n",
      "--------------------------\n",
      "0    707\n",
      "3    103\n",
      "4     35\n",
      "2     32\n",
      "1      2\n",
      "Name: Fence, dtype: int64\n",
      "--------------------------\n",
      "4    643\n",
      "3    193\n",
      "2     16\n",
      "1     15\n",
      "5     12\n",
      "Name: Fireplace Qu, dtype: int64\n",
      "--------------------------\n",
      "7    813\n",
      "5     28\n",
      "6     23\n",
      "3      7\n",
      "4      6\n",
      "2      2\n",
      "Name: Functional, dtype: int64\n",
      "--------------------------\n",
      "3    797\n",
      "0     45\n",
      "2     27\n",
      "1      6\n",
      "4      3\n",
      "5      1\n",
      "Name: Garage Cond, dtype: int64\n",
      "--------------------------\n",
      "1    382\n",
      "2    233\n",
      "3    219\n",
      "0     45\n",
      "Name: Garage Finish, dtype: int64\n",
      "--------------------------\n",
      "3    783\n",
      "0     45\n",
      "2     42\n",
      "4      6\n",
      "1      3\n",
      "Name: Garage Qual, dtype: int64\n",
      "--------------------------\n",
      "4    430\n",
      "2    267\n",
      "3    157\n",
      "1     25\n",
      "Name: Heating QC, dtype: int64\n",
      "--------------------------\n",
      "2    447\n",
      "3    354\n",
      "4     54\n",
      "1     23\n",
      "0      1\n",
      "Name: Kitchen Qual, dtype: int64\n",
      "--------------------------\n",
      "2    836\n",
      "1     37\n",
      "0      6\n",
      "Name: Land Slope, dtype: int64\n",
      "--------------------------\n",
      "3    564\n",
      "2    287\n",
      "1     21\n",
      "0      7\n",
      "Name: Lot Shape, dtype: int64\n",
      "--------------------------\n",
      "2    791\n",
      "0     65\n",
      "1     23\n",
      "Name: Paved Drive, dtype: int64\n",
      "--------------------------\n",
      "0    875\n",
      "4      3\n",
      "2      1\n",
      "Name: Pool QC, dtype: int64\n",
      "--------------------------\n"
     ]
    }
   ],
   "source": [
    "for feature in ordinal_features:\n",
    "    \n",
    "    print(housing[feature].value_counts())\n",
    "    print('--------------------------')"
   ]
  },
  {
   "cell_type": "code",
   "execution_count": null,
   "metadata": {},
   "outputs": [],
   "source": []
  },
  {
   "cell_type": "code",
   "execution_count": 43,
   "metadata": {},
   "outputs": [
    {
     "data": {
      "text/html": [
       "<div>\n",
       "<style scoped>\n",
       "    .dataframe tbody tr th:only-of-type {\n",
       "        vertical-align: middle;\n",
       "    }\n",
       "\n",
       "    .dataframe tbody tr th {\n",
       "        vertical-align: top;\n",
       "    }\n",
       "\n",
       "    .dataframe thead th {\n",
       "        text-align: right;\n",
       "    }\n",
       "</style>\n",
       "<table border=\"1\" class=\"dataframe\">\n",
       "  <thead>\n",
       "    <tr style=\"text-align: right;\">\n",
       "      <th></th>\n",
       "      <th>Lot Frontage</th>\n",
       "      <th>Lot Area</th>\n",
       "      <th>Lot Shape</th>\n",
       "      <th>Land Slope</th>\n",
       "      <th>Overall Qual</th>\n",
       "      <th>Overall Cond</th>\n",
       "      <th>Mas Vnr Area</th>\n",
       "      <th>Exter Qual</th>\n",
       "      <th>Exter Cond</th>\n",
       "      <th>Bsmt Qual</th>\n",
       "      <th>...</th>\n",
       "      <th>Sale Type_COD</th>\n",
       "      <th>Sale Type_CWD</th>\n",
       "      <th>Sale Type_Con</th>\n",
       "      <th>Sale Type_ConLD</th>\n",
       "      <th>Sale Type_ConLI</th>\n",
       "      <th>Sale Type_ConLw</th>\n",
       "      <th>Sale Type_New</th>\n",
       "      <th>Sale Type_Oth</th>\n",
       "      <th>Sale Type_VWD</th>\n",
       "      <th>Sale Type_WD</th>\n",
       "    </tr>\n",
       "    <tr>\n",
       "      <th>Id</th>\n",
       "      <th></th>\n",
       "      <th></th>\n",
       "      <th></th>\n",
       "      <th></th>\n",
       "      <th></th>\n",
       "      <th></th>\n",
       "      <th></th>\n",
       "      <th></th>\n",
       "      <th></th>\n",
       "      <th></th>\n",
       "      <th></th>\n",
       "      <th></th>\n",
       "      <th></th>\n",
       "      <th></th>\n",
       "      <th></th>\n",
       "      <th></th>\n",
       "      <th></th>\n",
       "      <th></th>\n",
       "      <th></th>\n",
       "      <th></th>\n",
       "      <th></th>\n",
       "    </tr>\n",
       "  </thead>\n",
       "  <tbody>\n",
       "    <tr>\n",
       "      <th>2658</th>\n",
       "      <td>69.0</td>\n",
       "      <td>9142</td>\n",
       "      <td>3</td>\n",
       "      <td>2</td>\n",
       "      <td>6</td>\n",
       "      <td>8</td>\n",
       "      <td>0.0</td>\n",
       "      <td>2</td>\n",
       "      <td>1</td>\n",
       "      <td>2</td>\n",
       "      <td>...</td>\n",
       "      <td>0</td>\n",
       "      <td>0</td>\n",
       "      <td>0</td>\n",
       "      <td>0</td>\n",
       "      <td>0</td>\n",
       "      <td>0</td>\n",
       "      <td>0</td>\n",
       "      <td>0</td>\n",
       "      <td>0</td>\n",
       "      <td>1</td>\n",
       "    </tr>\n",
       "    <tr>\n",
       "      <th>2718</th>\n",
       "      <td>69.6</td>\n",
       "      <td>9662</td>\n",
       "      <td>2</td>\n",
       "      <td>2</td>\n",
       "      <td>5</td>\n",
       "      <td>4</td>\n",
       "      <td>0.0</td>\n",
       "      <td>2</td>\n",
       "      <td>2</td>\n",
       "      <td>4</td>\n",
       "      <td>...</td>\n",
       "      <td>0</td>\n",
       "      <td>0</td>\n",
       "      <td>0</td>\n",
       "      <td>0</td>\n",
       "      <td>0</td>\n",
       "      <td>0</td>\n",
       "      <td>0</td>\n",
       "      <td>0</td>\n",
       "      <td>0</td>\n",
       "      <td>1</td>\n",
       "    </tr>\n",
       "    <tr>\n",
       "      <th>2414</th>\n",
       "      <td>58.0</td>\n",
       "      <td>17104</td>\n",
       "      <td>2</td>\n",
       "      <td>2</td>\n",
       "      <td>7</td>\n",
       "      <td>5</td>\n",
       "      <td>0.0</td>\n",
       "      <td>3</td>\n",
       "      <td>2</td>\n",
       "      <td>4</td>\n",
       "      <td>...</td>\n",
       "      <td>0</td>\n",
       "      <td>0</td>\n",
       "      <td>0</td>\n",
       "      <td>0</td>\n",
       "      <td>0</td>\n",
       "      <td>0</td>\n",
       "      <td>1</td>\n",
       "      <td>0</td>\n",
       "      <td>0</td>\n",
       "      <td>0</td>\n",
       "    </tr>\n",
       "    <tr>\n",
       "      <th>1989</th>\n",
       "      <td>60.0</td>\n",
       "      <td>8520</td>\n",
       "      <td>3</td>\n",
       "      <td>2</td>\n",
       "      <td>5</td>\n",
       "      <td>6</td>\n",
       "      <td>0.0</td>\n",
       "      <td>3</td>\n",
       "      <td>2</td>\n",
       "      <td>3</td>\n",
       "      <td>...</td>\n",
       "      <td>0</td>\n",
       "      <td>0</td>\n",
       "      <td>0</td>\n",
       "      <td>0</td>\n",
       "      <td>0</td>\n",
       "      <td>0</td>\n",
       "      <td>0</td>\n",
       "      <td>0</td>\n",
       "      <td>0</td>\n",
       "      <td>1</td>\n",
       "    </tr>\n",
       "    <tr>\n",
       "      <th>625</th>\n",
       "      <td>69.6</td>\n",
       "      <td>9500</td>\n",
       "      <td>2</td>\n",
       "      <td>2</td>\n",
       "      <td>6</td>\n",
       "      <td>5</td>\n",
       "      <td>247.0</td>\n",
       "      <td>2</td>\n",
       "      <td>2</td>\n",
       "      <td>4</td>\n",
       "      <td>...</td>\n",
       "      <td>0</td>\n",
       "      <td>0</td>\n",
       "      <td>0</td>\n",
       "      <td>0</td>\n",
       "      <td>0</td>\n",
       "      <td>0</td>\n",
       "      <td>0</td>\n",
       "      <td>0</td>\n",
       "      <td>0</td>\n",
       "      <td>1</td>\n",
       "    </tr>\n",
       "    <tr>\n",
       "      <th>...</th>\n",
       "      <td>...</td>\n",
       "      <td>...</td>\n",
       "      <td>...</td>\n",
       "      <td>...</td>\n",
       "      <td>...</td>\n",
       "      <td>...</td>\n",
       "      <td>...</td>\n",
       "      <td>...</td>\n",
       "      <td>...</td>\n",
       "      <td>...</td>\n",
       "      <td>...</td>\n",
       "      <td>...</td>\n",
       "      <td>...</td>\n",
       "      <td>...</td>\n",
       "      <td>...</td>\n",
       "      <td>...</td>\n",
       "      <td>...</td>\n",
       "      <td>...</td>\n",
       "      <td>...</td>\n",
       "      <td>...</td>\n",
       "      <td>...</td>\n",
       "    </tr>\n",
       "    <tr>\n",
       "      <th>1662</th>\n",
       "      <td>80.0</td>\n",
       "      <td>8000</td>\n",
       "      <td>3</td>\n",
       "      <td>2</td>\n",
       "      <td>6</td>\n",
       "      <td>6</td>\n",
       "      <td>0.0</td>\n",
       "      <td>2</td>\n",
       "      <td>2</td>\n",
       "      <td>3</td>\n",
       "      <td>...</td>\n",
       "      <td>0</td>\n",
       "      <td>0</td>\n",
       "      <td>0</td>\n",
       "      <td>0</td>\n",
       "      <td>0</td>\n",
       "      <td>0</td>\n",
       "      <td>0</td>\n",
       "      <td>0</td>\n",
       "      <td>0</td>\n",
       "      <td>1</td>\n",
       "    </tr>\n",
       "    <tr>\n",
       "      <th>1234</th>\n",
       "      <td>90.0</td>\n",
       "      <td>14670</td>\n",
       "      <td>3</td>\n",
       "      <td>2</td>\n",
       "      <td>6</td>\n",
       "      <td>7</td>\n",
       "      <td>410.0</td>\n",
       "      <td>3</td>\n",
       "      <td>3</td>\n",
       "      <td>3</td>\n",
       "      <td>...</td>\n",
       "      <td>0</td>\n",
       "      <td>0</td>\n",
       "      <td>0</td>\n",
       "      <td>0</td>\n",
       "      <td>0</td>\n",
       "      <td>0</td>\n",
       "      <td>0</td>\n",
       "      <td>0</td>\n",
       "      <td>0</td>\n",
       "      <td>1</td>\n",
       "    </tr>\n",
       "    <tr>\n",
       "      <th>1373</th>\n",
       "      <td>55.0</td>\n",
       "      <td>8250</td>\n",
       "      <td>3</td>\n",
       "      <td>2</td>\n",
       "      <td>5</td>\n",
       "      <td>5</td>\n",
       "      <td>0.0</td>\n",
       "      <td>2</td>\n",
       "      <td>2</td>\n",
       "      <td>3</td>\n",
       "      <td>...</td>\n",
       "      <td>0</td>\n",
       "      <td>0</td>\n",
       "      <td>0</td>\n",
       "      <td>0</td>\n",
       "      <td>0</td>\n",
       "      <td>0</td>\n",
       "      <td>0</td>\n",
       "      <td>0</td>\n",
       "      <td>0</td>\n",
       "      <td>1</td>\n",
       "    </tr>\n",
       "    <tr>\n",
       "      <th>1672</th>\n",
       "      <td>60.0</td>\n",
       "      <td>9000</td>\n",
       "      <td>3</td>\n",
       "      <td>2</td>\n",
       "      <td>4</td>\n",
       "      <td>6</td>\n",
       "      <td>0.0</td>\n",
       "      <td>2</td>\n",
       "      <td>2</td>\n",
       "      <td>3</td>\n",
       "      <td>...</td>\n",
       "      <td>0</td>\n",
       "      <td>0</td>\n",
       "      <td>0</td>\n",
       "      <td>0</td>\n",
       "      <td>0</td>\n",
       "      <td>0</td>\n",
       "      <td>0</td>\n",
       "      <td>0</td>\n",
       "      <td>0</td>\n",
       "      <td>1</td>\n",
       "    </tr>\n",
       "    <tr>\n",
       "      <th>1939</th>\n",
       "      <td>70.0</td>\n",
       "      <td>8400</td>\n",
       "      <td>3</td>\n",
       "      <td>2</td>\n",
       "      <td>5</td>\n",
       "      <td>5</td>\n",
       "      <td>0.0</td>\n",
       "      <td>2</td>\n",
       "      <td>3</td>\n",
       "      <td>3</td>\n",
       "      <td>...</td>\n",
       "      <td>0</td>\n",
       "      <td>0</td>\n",
       "      <td>0</td>\n",
       "      <td>0</td>\n",
       "      <td>0</td>\n",
       "      <td>0</td>\n",
       "      <td>0</td>\n",
       "      <td>0</td>\n",
       "      <td>0</td>\n",
       "      <td>1</td>\n",
       "    </tr>\n",
       "  </tbody>\n",
       "</table>\n",
       "<p>879 rows × 221 columns</p>\n",
       "</div>"
      ],
      "text/plain": [
       "      Lot Frontage  Lot Area  Lot Shape  Land Slope  Overall Qual  \\\n",
       "Id                                                                  \n",
       "2658          69.0      9142          3           2             6   \n",
       "2718          69.6      9662          2           2             5   \n",
       "2414          58.0     17104          2           2             7   \n",
       "1989          60.0      8520          3           2             5   \n",
       "625           69.6      9500          2           2             6   \n",
       "...            ...       ...        ...         ...           ...   \n",
       "1662          80.0      8000          3           2             6   \n",
       "1234          90.0     14670          3           2             6   \n",
       "1373          55.0      8250          3           2             5   \n",
       "1672          60.0      9000          3           2             4   \n",
       "1939          70.0      8400          3           2             5   \n",
       "\n",
       "      Overall Cond  Mas Vnr Area  Exter Qual  Exter Cond  Bsmt Qual  ...  \\\n",
       "Id                                                                   ...   \n",
       "2658             8           0.0           2           1          2  ...   \n",
       "2718             4           0.0           2           2          4  ...   \n",
       "2414             5           0.0           3           2          4  ...   \n",
       "1989             6           0.0           3           2          3  ...   \n",
       "625              5         247.0           2           2          4  ...   \n",
       "...            ...           ...         ...         ...        ...  ...   \n",
       "1662             6           0.0           2           2          3  ...   \n",
       "1234             7         410.0           3           3          3  ...   \n",
       "1373             5           0.0           2           2          3  ...   \n",
       "1672             6           0.0           2           2          3  ...   \n",
       "1939             5           0.0           2           3          3  ...   \n",
       "\n",
       "      Sale Type_COD  Sale Type_CWD  Sale Type_Con  Sale Type_ConLD  \\\n",
       "Id                                                                   \n",
       "2658              0              0              0                0   \n",
       "2718              0              0              0                0   \n",
       "2414              0              0              0                0   \n",
       "1989              0              0              0                0   \n",
       "625               0              0              0                0   \n",
       "...             ...            ...            ...              ...   \n",
       "1662              0              0              0                0   \n",
       "1234              0              0              0                0   \n",
       "1373              0              0              0                0   \n",
       "1672              0              0              0                0   \n",
       "1939              0              0              0                0   \n",
       "\n",
       "      Sale Type_ConLI  Sale Type_ConLw  Sale Type_New  Sale Type_Oth  \\\n",
       "Id                                                                     \n",
       "2658                0                0              0              0   \n",
       "2718                0                0              0              0   \n",
       "2414                0                0              1              0   \n",
       "1989                0                0              0              0   \n",
       "625                 0                0              0              0   \n",
       "...               ...              ...            ...            ...   \n",
       "1662                0                0              0              0   \n",
       "1234                0                0              0              0   \n",
       "1373                0                0              0              0   \n",
       "1672                0                0              0              0   \n",
       "1939                0                0              0              0   \n",
       "\n",
       "      Sale Type_VWD  Sale Type_WD   \n",
       "Id                                  \n",
       "2658              0              1  \n",
       "2718              0              1  \n",
       "2414              0              0  \n",
       "1989              0              1  \n",
       "625               0              1  \n",
       "...             ...            ...  \n",
       "1662              0              1  \n",
       "1234              0              1  \n",
       "1373              0              1  \n",
       "1672              0              1  \n",
       "1939              0              1  \n",
       "\n",
       "[879 rows x 221 columns]"
      ]
     },
     "execution_count": 43,
     "metadata": {},
     "output_type": "execute_result"
    }
   ],
   "source": [
    "pd.get_dummies(housing)"
   ]
  },
  {
   "cell_type": "code",
   "execution_count": 44,
   "metadata": {},
   "outputs": [],
   "source": [
    "test_baseline = pd.get_dummies(housing)"
   ]
  },
  {
   "cell_type": "code",
   "execution_count": 45,
   "metadata": {},
   "outputs": [
    {
     "data": {
      "text/plain": [
       "(879, 221)"
      ]
     },
     "execution_count": 45,
     "metadata": {},
     "output_type": "execute_result"
    }
   ],
   "source": [
    "test_baseline.shape"
   ]
  },
  {
   "cell_type": "code",
   "execution_count": 46,
   "metadata": {},
   "outputs": [
    {
     "data": {
      "text/plain": [
       "['Alley_NA', 'Neighborhood_NAmes', 'Garage Type_NA', 'Misc Feature_NA']"
      ]
     },
     "execution_count": 46,
     "metadata": {},
     "output_type": "execute_result"
    }
   ],
   "source": [
    "dummy_NA = [col for col in test_baseline.columns if 'NA' in col]\n",
    "dummy_NA"
   ]
  },
  {
   "cell_type": "code",
   "execution_count": 47,
   "metadata": {},
   "outputs": [],
   "source": [
    "dummy_NA.remove('Neighborhood_NAmes')  #this is not an 'NA' value"
   ]
  },
  {
   "cell_type": "code",
   "execution_count": 48,
   "metadata": {},
   "outputs": [
    {
     "data": {
      "text/plain": [
       "(879, 218)"
      ]
     },
     "execution_count": 48,
     "metadata": {},
     "output_type": "execute_result"
    }
   ],
   "source": [
    "test_baseline.drop(columns = dummy_NA, inplace = True)\n",
    "test_baseline.shape"
   ]
  },
  {
   "cell_type": "code",
   "execution_count": 49,
   "metadata": {},
   "outputs": [
    {
     "data": {
      "text/plain": [
       "['Neighborhood_NAmes']"
      ]
     },
     "execution_count": 49,
     "metadata": {},
     "output_type": "execute_result"
    }
   ],
   "source": [
    "dummy_columns = [col for col in test_baseline.columns if 'NA' in col]\n",
    "dummy_columns"
   ]
  },
  {
   "cell_type": "code",
   "execution_count": 50,
   "metadata": {},
   "outputs": [],
   "source": [
    "test_baseline.to_csv('datasets/test_baseline.csv')"
   ]
  },
  {
   "cell_type": "code",
   "execution_count": null,
   "metadata": {},
   "outputs": [],
   "source": []
  },
  {
   "cell_type": "code",
   "execution_count": null,
   "metadata": {},
   "outputs": [],
   "source": []
  },
  {
   "cell_type": "code",
   "execution_count": 51,
   "metadata": {},
   "outputs": [
    {
     "data": {
      "text/plain": [
       "(879, 76)"
      ]
     },
     "execution_count": 51,
     "metadata": {},
     "output_type": "execute_result"
    }
   ],
   "source": [
    "housing.drop(columns = ['Low Qual Fin SF'], inplace = True)\n",
    "housing.shape"
   ]
  },
  {
   "cell_type": "code",
   "execution_count": 52,
   "metadata": {},
   "outputs": [
    {
     "data": {
      "text/plain": [
       "(879, 77)"
      ]
     },
     "execution_count": 52,
     "metadata": {},
     "output_type": "execute_result"
    }
   ],
   "source": [
    "housing['Gr * 2nd Flr SF'] = housing['2nd Flr SF'] * housing['Gr Liv Area']\n",
    "housing['Gr * 2nd Flr SF'] = housing['Gr * 2nd Flr SF'].astype('float64')\n",
    "\n",
    "housing.shape"
   ]
  },
  {
   "cell_type": "code",
   "execution_count": 53,
   "metadata": {},
   "outputs": [
    {
     "data": {
      "text/plain": [
       "(879, 76)"
      ]
     },
     "execution_count": 53,
     "metadata": {},
     "output_type": "execute_result"
    }
   ],
   "source": [
    "housing.drop(columns = ['BsmtFin SF 2'], inplace = True)\n",
    "housing.shape"
   ]
  },
  {
   "cell_type": "code",
   "execution_count": 54,
   "metadata": {},
   "outputs": [
    {
     "data": {
      "text/plain": [
       "(879, 75)"
      ]
     },
     "execution_count": 54,
     "metadata": {},
     "output_type": "execute_result"
    }
   ],
   "source": [
    "housing.drop(columns = ['3Ssn Porch'], inplace = True)\n",
    "housing.shape"
   ]
  },
  {
   "cell_type": "code",
   "execution_count": 55,
   "metadata": {},
   "outputs": [
    {
     "data": {
      "text/plain": [
       "(879, 73)"
      ]
     },
     "execution_count": 55,
     "metadata": {},
     "output_type": "execute_result"
    }
   ],
   "source": [
    "housing.drop(columns = ['Pool Area', 'Misc Val'], inplace = True)\n",
    "housing.shape"
   ]
  },
  {
   "cell_type": "code",
   "execution_count": 56,
   "metadata": {},
   "outputs": [
    {
     "data": {
      "text/plain": [
       "(879, 71)"
      ]
     },
     "execution_count": 56,
     "metadata": {},
     "output_type": "execute_result"
    }
   ],
   "source": [
    "housing.drop(columns = ['Mo Sold', 'Yr Sold'], inplace = True)\n",
    "housing.shape"
   ]
  },
  {
   "cell_type": "code",
   "execution_count": 57,
   "metadata": {},
   "outputs": [
    {
     "data": {
      "text/plain": [
       "(879, 72)"
      ]
     },
     "execution_count": 57,
     "metadata": {},
     "output_type": "execute_result"
    }
   ],
   "source": [
    "housing['House Age/Remod'] = housing[['House Remod Yrs', 'House Age']].sum(axis = 1)\n",
    "housing.shape"
   ]
  },
  {
   "cell_type": "code",
   "execution_count": 58,
   "metadata": {},
   "outputs": [
    {
     "data": {
      "text/plain": [
       "(879, 71)"
      ]
     },
     "execution_count": 58,
     "metadata": {},
     "output_type": "execute_result"
    }
   ],
   "source": [
    "housing.drop(columns = ['BsmtFin Type 2'], inplace = True) #skewed distribution, no clear linear relationship\n",
    "housing.shape"
   ]
  },
  {
   "cell_type": "code",
   "execution_count": 59,
   "metadata": {},
   "outputs": [
    {
     "data": {
      "text/plain": [
       "(879, 70)"
      ]
     },
     "execution_count": 59,
     "metadata": {},
     "output_type": "execute_result"
    }
   ],
   "source": [
    "housing.drop(columns = ['Bsmt Half Bath'], inplace = True)\n",
    "housing.shape"
   ]
  },
  {
   "cell_type": "code",
   "execution_count": 60,
   "metadata": {},
   "outputs": [
    {
     "data": {
      "text/plain": [
       "(879, 72)"
      ]
     },
     "execution_count": 60,
     "metadata": {},
     "output_type": "execute_result"
    }
   ],
   "source": [
    "housing['Garage Qual/Cond'] = housing['Garage Cond'] * housing['Garage Qual']\n",
    "housing['Garage Age * Cars'] = housing['Garage Age'] * housing['Garage Cars']\n",
    "\n",
    "housing.shape"
   ]
  },
  {
   "cell_type": "code",
   "execution_count": null,
   "metadata": {},
   "outputs": [],
   "source": []
  },
  {
   "cell_type": "code",
   "execution_count": 61,
   "metadata": {},
   "outputs": [],
   "source": [
    "housing.drop(columns = ['Condition 2', 'Roof Matl', 'Street'], inplace = True)"
   ]
  },
  {
   "cell_type": "code",
   "execution_count": 62,
   "metadata": {},
   "outputs": [
    {
     "data": {
      "text/plain": [
       "(879, 69)"
      ]
     },
     "execution_count": 62,
     "metadata": {},
     "output_type": "execute_result"
    }
   ],
   "source": [
    "housing.shape"
   ]
  },
  {
   "cell_type": "code",
   "execution_count": 63,
   "metadata": {},
   "outputs": [],
   "source": [
    "nominal_filtered = housing.select_dtypes(include = 'object').columns.to_list()"
   ]
  },
  {
   "cell_type": "code",
   "execution_count": 64,
   "metadata": {},
   "outputs": [
    {
     "data": {
      "text/plain": [
       "['Alley',\n",
       " 'Bldg Type',\n",
       " 'Central Air',\n",
       " 'Condition 1',\n",
       " 'Exterior 1st',\n",
       " 'Exterior 2nd',\n",
       " 'Foundation',\n",
       " 'Garage Type',\n",
       " 'Heating',\n",
       " 'House Style',\n",
       " 'Land Contour',\n",
       " 'Lot Config',\n",
       " 'MS SubClass',\n",
       " 'MS Zoning',\n",
       " 'Mas Vnr Type',\n",
       " 'Misc Feature',\n",
       " 'Neighborhood',\n",
       " 'Roof Style',\n",
       " 'Sale Type']"
      ]
     },
     "execution_count": 64,
     "metadata": {},
     "output_type": "execute_result"
    }
   ],
   "source": [
    "nominal_filtered.sort()\n",
    "nominal_filtered"
   ]
  },
  {
   "cell_type": "code",
   "execution_count": 65,
   "metadata": {},
   "outputs": [
    {
     "data": {
      "text/plain": [
       "19"
      ]
     },
     "execution_count": 65,
     "metadata": {},
     "output_type": "execute_result"
    }
   ],
   "source": [
    "len(nominal_filtered)"
   ]
  },
  {
   "cell_type": "code",
   "execution_count": 66,
   "metadata": {},
   "outputs": [],
   "source": [
    "housing_dummied = pd.get_dummies(data = housing, columns = nominal_filtered)"
   ]
  },
  {
   "cell_type": "code",
   "execution_count": 67,
   "metadata": {},
   "outputs": [
    {
     "data": {
      "text/plain": [
       "(879, 204)"
      ]
     },
     "execution_count": 67,
     "metadata": {},
     "output_type": "execute_result"
    }
   ],
   "source": [
    "housing_dummied.shape"
   ]
  },
  {
   "cell_type": "code",
   "execution_count": 68,
   "metadata": {},
   "outputs": [
    {
     "data": {
      "text/plain": [
       "['Alley_NA', 'Garage Type_NA', 'Misc Feature_NA', 'Neighborhood_NAmes']"
      ]
     },
     "execution_count": 68,
     "metadata": {},
     "output_type": "execute_result"
    }
   ],
   "source": [
    "dummy_NA = [col for col in housing_dummied.columns if 'NA' in col]\n",
    "dummy_NA"
   ]
  },
  {
   "cell_type": "code",
   "execution_count": 69,
   "metadata": {},
   "outputs": [],
   "source": [
    "dummy_NA.remove('Neighborhood_NAmes')  #this is not an 'NA' value"
   ]
  },
  {
   "cell_type": "code",
   "execution_count": 70,
   "metadata": {},
   "outputs": [
    {
     "data": {
      "text/plain": [
       "(879, 201)"
      ]
     },
     "execution_count": 70,
     "metadata": {},
     "output_type": "execute_result"
    }
   ],
   "source": [
    "housing_dummied.drop(columns = dummy_NA, inplace = True)\n",
    "housing_dummied.shape"
   ]
  },
  {
   "cell_type": "code",
   "execution_count": 71,
   "metadata": {},
   "outputs": [
    {
     "data": {
      "text/plain": [
       "['Neighborhood_NAmes']"
      ]
     },
     "execution_count": 71,
     "metadata": {},
     "output_type": "execute_result"
    }
   ],
   "source": [
    "dummy_NA = [col for col in housing_dummied.columns if 'NA' in col]\n",
    "dummy_NA"
   ]
  },
  {
   "cell_type": "code",
   "execution_count": 72,
   "metadata": {},
   "outputs": [],
   "source": [
    "housing_dummied.to_csv('datasets/Test_cleaned.csv')"
   ]
  },
  {
   "cell_type": "code",
   "execution_count": 73,
   "metadata": {},
   "outputs": [
    {
     "data": {
      "text/html": [
       "<div>\n",
       "<style scoped>\n",
       "    .dataframe tbody tr th:only-of-type {\n",
       "        vertical-align: middle;\n",
       "    }\n",
       "\n",
       "    .dataframe tbody tr th {\n",
       "        vertical-align: top;\n",
       "    }\n",
       "\n",
       "    .dataframe thead th {\n",
       "        text-align: right;\n",
       "    }\n",
       "</style>\n",
       "<table border=\"1\" class=\"dataframe\">\n",
       "  <thead>\n",
       "    <tr style=\"text-align: right;\">\n",
       "      <th></th>\n",
       "      <th>Lot Frontage</th>\n",
       "      <th>Lot Area</th>\n",
       "      <th>Lot Shape</th>\n",
       "      <th>Land Slope</th>\n",
       "      <th>Overall Qual</th>\n",
       "      <th>Overall Cond</th>\n",
       "      <th>Mas Vnr Area</th>\n",
       "      <th>Exter Qual</th>\n",
       "      <th>Exter Cond</th>\n",
       "      <th>Bsmt Qual</th>\n",
       "      <th>...</th>\n",
       "      <th>Sale Type_COD</th>\n",
       "      <th>Sale Type_CWD</th>\n",
       "      <th>Sale Type_Con</th>\n",
       "      <th>Sale Type_ConLD</th>\n",
       "      <th>Sale Type_ConLI</th>\n",
       "      <th>Sale Type_ConLw</th>\n",
       "      <th>Sale Type_New</th>\n",
       "      <th>Sale Type_Oth</th>\n",
       "      <th>Sale Type_VWD</th>\n",
       "      <th>Sale Type_WD</th>\n",
       "    </tr>\n",
       "    <tr>\n",
       "      <th>Id</th>\n",
       "      <th></th>\n",
       "      <th></th>\n",
       "      <th></th>\n",
       "      <th></th>\n",
       "      <th></th>\n",
       "      <th></th>\n",
       "      <th></th>\n",
       "      <th></th>\n",
       "      <th></th>\n",
       "      <th></th>\n",
       "      <th></th>\n",
       "      <th></th>\n",
       "      <th></th>\n",
       "      <th></th>\n",
       "      <th></th>\n",
       "      <th></th>\n",
       "      <th></th>\n",
       "      <th></th>\n",
       "      <th></th>\n",
       "      <th></th>\n",
       "      <th></th>\n",
       "    </tr>\n",
       "  </thead>\n",
       "  <tbody>\n",
       "    <tr>\n",
       "      <th>2658</th>\n",
       "      <td>69.0</td>\n",
       "      <td>9142</td>\n",
       "      <td>3</td>\n",
       "      <td>2</td>\n",
       "      <td>6</td>\n",
       "      <td>8</td>\n",
       "      <td>0.0</td>\n",
       "      <td>2</td>\n",
       "      <td>1</td>\n",
       "      <td>2</td>\n",
       "      <td>...</td>\n",
       "      <td>0</td>\n",
       "      <td>0</td>\n",
       "      <td>0</td>\n",
       "      <td>0</td>\n",
       "      <td>0</td>\n",
       "      <td>0</td>\n",
       "      <td>0</td>\n",
       "      <td>0</td>\n",
       "      <td>0</td>\n",
       "      <td>1</td>\n",
       "    </tr>\n",
       "    <tr>\n",
       "      <th>2718</th>\n",
       "      <td>69.6</td>\n",
       "      <td>9662</td>\n",
       "      <td>2</td>\n",
       "      <td>2</td>\n",
       "      <td>5</td>\n",
       "      <td>4</td>\n",
       "      <td>0.0</td>\n",
       "      <td>2</td>\n",
       "      <td>2</td>\n",
       "      <td>4</td>\n",
       "      <td>...</td>\n",
       "      <td>0</td>\n",
       "      <td>0</td>\n",
       "      <td>0</td>\n",
       "      <td>0</td>\n",
       "      <td>0</td>\n",
       "      <td>0</td>\n",
       "      <td>0</td>\n",
       "      <td>0</td>\n",
       "      <td>0</td>\n",
       "      <td>1</td>\n",
       "    </tr>\n",
       "    <tr>\n",
       "      <th>2414</th>\n",
       "      <td>58.0</td>\n",
       "      <td>17104</td>\n",
       "      <td>2</td>\n",
       "      <td>2</td>\n",
       "      <td>7</td>\n",
       "      <td>5</td>\n",
       "      <td>0.0</td>\n",
       "      <td>3</td>\n",
       "      <td>2</td>\n",
       "      <td>4</td>\n",
       "      <td>...</td>\n",
       "      <td>0</td>\n",
       "      <td>0</td>\n",
       "      <td>0</td>\n",
       "      <td>0</td>\n",
       "      <td>0</td>\n",
       "      <td>0</td>\n",
       "      <td>1</td>\n",
       "      <td>0</td>\n",
       "      <td>0</td>\n",
       "      <td>0</td>\n",
       "    </tr>\n",
       "    <tr>\n",
       "      <th>1989</th>\n",
       "      <td>60.0</td>\n",
       "      <td>8520</td>\n",
       "      <td>3</td>\n",
       "      <td>2</td>\n",
       "      <td>5</td>\n",
       "      <td>6</td>\n",
       "      <td>0.0</td>\n",
       "      <td>3</td>\n",
       "      <td>2</td>\n",
       "      <td>3</td>\n",
       "      <td>...</td>\n",
       "      <td>0</td>\n",
       "      <td>0</td>\n",
       "      <td>0</td>\n",
       "      <td>0</td>\n",
       "      <td>0</td>\n",
       "      <td>0</td>\n",
       "      <td>0</td>\n",
       "      <td>0</td>\n",
       "      <td>0</td>\n",
       "      <td>1</td>\n",
       "    </tr>\n",
       "    <tr>\n",
       "      <th>625</th>\n",
       "      <td>69.6</td>\n",
       "      <td>9500</td>\n",
       "      <td>2</td>\n",
       "      <td>2</td>\n",
       "      <td>6</td>\n",
       "      <td>5</td>\n",
       "      <td>247.0</td>\n",
       "      <td>2</td>\n",
       "      <td>2</td>\n",
       "      <td>4</td>\n",
       "      <td>...</td>\n",
       "      <td>0</td>\n",
       "      <td>0</td>\n",
       "      <td>0</td>\n",
       "      <td>0</td>\n",
       "      <td>0</td>\n",
       "      <td>0</td>\n",
       "      <td>0</td>\n",
       "      <td>0</td>\n",
       "      <td>0</td>\n",
       "      <td>1</td>\n",
       "    </tr>\n",
       "  </tbody>\n",
       "</table>\n",
       "<p>5 rows × 201 columns</p>\n",
       "</div>"
      ],
      "text/plain": [
       "      Lot Frontage  Lot Area  Lot Shape  Land Slope  Overall Qual  \\\n",
       "Id                                                                  \n",
       "2658          69.0      9142          3           2             6   \n",
       "2718          69.6      9662          2           2             5   \n",
       "2414          58.0     17104          2           2             7   \n",
       "1989          60.0      8520          3           2             5   \n",
       "625           69.6      9500          2           2             6   \n",
       "\n",
       "      Overall Cond  Mas Vnr Area  Exter Qual  Exter Cond  Bsmt Qual  ...  \\\n",
       "Id                                                                   ...   \n",
       "2658             8           0.0           2           1          2  ...   \n",
       "2718             4           0.0           2           2          4  ...   \n",
       "2414             5           0.0           3           2          4  ...   \n",
       "1989             6           0.0           3           2          3  ...   \n",
       "625              5         247.0           2           2          4  ...   \n",
       "\n",
       "      Sale Type_COD  Sale Type_CWD  Sale Type_Con  Sale Type_ConLD  \\\n",
       "Id                                                                   \n",
       "2658              0              0              0                0   \n",
       "2718              0              0              0                0   \n",
       "2414              0              0              0                0   \n",
       "1989              0              0              0                0   \n",
       "625               0              0              0                0   \n",
       "\n",
       "      Sale Type_ConLI  Sale Type_ConLw  Sale Type_New  Sale Type_Oth  \\\n",
       "Id                                                                     \n",
       "2658                0                0              0              0   \n",
       "2718                0                0              0              0   \n",
       "2414                0                0              1              0   \n",
       "1989                0                0              0              0   \n",
       "625                 0                0              0              0   \n",
       "\n",
       "      Sale Type_VWD  Sale Type_WD   \n",
       "Id                                  \n",
       "2658              0              1  \n",
       "2718              0              1  \n",
       "2414              0              0  \n",
       "1989              0              1  \n",
       "625               0              1  \n",
       "\n",
       "[5 rows x 201 columns]"
      ]
     },
     "execution_count": 73,
     "metadata": {},
     "output_type": "execute_result"
    }
   ],
   "source": [
    "housing_dummied.head()"
   ]
  }
 ],
 "metadata": {
  "kernelspec": {
   "display_name": "Python 3",
   "language": "python",
   "name": "python3"
  },
  "language_info": {
   "codemirror_mode": {
    "name": "ipython",
    "version": 3
   },
   "file_extension": ".py",
   "mimetype": "text/x-python",
   "name": "python",
   "nbconvert_exporter": "python",
   "pygments_lexer": "ipython3",
   "version": "3.7.9"
  }
 },
 "nbformat": 4,
 "nbformat_minor": 4
}
