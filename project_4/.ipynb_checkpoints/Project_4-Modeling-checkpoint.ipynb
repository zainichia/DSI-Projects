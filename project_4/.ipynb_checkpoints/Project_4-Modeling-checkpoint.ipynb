{
 "cells": [
  {
   "cell_type": "code",
   "execution_count": 1,
   "metadata": {},
   "outputs": [],
   "source": [
    "import pandas as pd\n",
    "import numpy as np\n",
    "import matplotlib.pyplot as plt\n",
    "import seaborn as sns\n",
    "\n",
    "# Preprocessing\n",
    "from sklearn.model_selection import train_test_split, GridSearchCV\n",
    "from sklearn.preprocessing import StandardScaler\n",
    "from imblearn.over_sampling import SMOTE\n",
    "\n",
    "# Models used\n",
    "from xgboost import XGBClassifier\n",
    "from sklearn.linear_model import LogisticRegression, SGDClassifier\n",
    "from sklearn.neighbors import KNeighborsClassifier\n",
    "from sklearn.ensemble import RandomForestClassifier\n",
    "from sklearn.ensemble import GradientBoostingClassifier, AdaBoostClassifier, BaggingClassifier\n",
    "from sklearn.tree import DecisionTreeClassifier\n",
    "from sklearn.svm import SVC\n",
    "\n",
    "# Scoring\n",
    "from sklearn.metrics import roc_auc_score, confusion_matrix"
   ]
  },
  {
   "cell_type": "markdown",
   "metadata": {},
   "source": [
    "### Contents\n",
    "\n",
    "- <a href = \"Project_4-Data-Cleaning-and-EDA.ipynb\">EDA and Data Cleaning</a><br>\n",
    "<br>\n",
    "- Modeling<br>\n",
    "    - [Importing Dataset](#Importing-Dataset)\n",
    "    - [Train Test Split and Preprocessing](#Train-Test-Split-and-Preprocessing)\n",
    "    - [Model Testing](#Model-Testing)\n",
    "    - [Optimizing Chosen Models](#Optimizing-Chosen-Models)\n",
    "    - [Exploring Feature Weights for Logistic Regression](#Exploring-Feature-Weights-for-Logistic-Regression)\n",
    "    - [Exploring Feature Weights for SGDClassifier](#Exploring-Feature-Weights-for-SGDClassifier)\n",
    "    - [Exporting Dataset for Kaggle Submission](#Exporting-Dataset-for-Kaggle-Submission)\n",
    "    - [Discussion, Recommendations and Further Study](#Discussion,-Recommendations-and-Further-Study)"
   ]
  },
  {
   "cell_type": "markdown",
   "metadata": {},
   "source": [
    "## Importing Dataset\n",
    "[top](#Contents)"
   ]
  },
  {
   "cell_type": "code",
   "execution_count": 3,
   "metadata": {},
   "outputs": [],
   "source": [
    "# importing both dataset\n",
    "\n",
    "combined_df = pd.read_csv('./Data/traindf.csv')\n",
    "to_predict = pd.read_csv('./Data/topredict.csv')"
   ]
  },
  {
   "cell_type": "code",
   "execution_count": 4,
   "metadata": {},
   "outputs": [
    {
     "data": {
      "text/plain": [
       "0    0.946077\n",
       "1    0.053923\n",
       "Name: WnvPresent, dtype: float64"
      ]
     },
     "execution_count": 4,
     "metadata": {},
     "output_type": "execute_result"
    }
   ],
   "source": [
    "# checking value counts\n",
    "\n",
    "combined_df['WnvPresent'].value_counts(normalize=True)"
   ]
  },
  {
   "cell_type": "code",
   "execution_count": 5,
   "metadata": {},
   "outputs": [],
   "source": [
    "# seperating target variable from features\n",
    "\n",
    "X = combined_df.drop(columns = ['WnvPresent'])\n",
    "y = combined_df['WnvPresent']"
   ]
  },
  {
   "cell_type": "code",
   "execution_count": 6,
   "metadata": {},
   "outputs": [
    {
     "data": {
      "text/html": [
       "<div>\n",
       "<style scoped>\n",
       "    .dataframe tbody tr th:only-of-type {\n",
       "        vertical-align: middle;\n",
       "    }\n",
       "\n",
       "    .dataframe tbody tr th {\n",
       "        vertical-align: top;\n",
       "    }\n",
       "\n",
       "    .dataframe thead th {\n",
       "        text-align: right;\n",
       "    }\n",
       "</style>\n",
       "<table border=\"1\" class=\"dataframe\">\n",
       "  <thead>\n",
       "    <tr style=\"text-align: right;\">\n",
       "      <th></th>\n",
       "      <th>Latitude</th>\n",
       "      <th>Longitude</th>\n",
       "      <th>Tmax</th>\n",
       "      <th>Tmin</th>\n",
       "      <th>Tavg</th>\n",
       "      <th>Depart</th>\n",
       "      <th>DewPoint</th>\n",
       "      <th>WetBulb</th>\n",
       "      <th>Heat</th>\n",
       "      <th>Cool</th>\n",
       "      <th>...</th>\n",
       "      <th>Daylight_Mins_14</th>\n",
       "      <th>Species_CULEX PIPIENS</th>\n",
       "      <th>Species_CULEX PIPIENS/RESTUANS</th>\n",
       "      <th>Species_CULEX RESTUANS</th>\n",
       "      <th>month_5</th>\n",
       "      <th>month_6</th>\n",
       "      <th>month_7</th>\n",
       "      <th>month_8</th>\n",
       "      <th>month_9</th>\n",
       "      <th>month_10</th>\n",
       "    </tr>\n",
       "  </thead>\n",
       "  <tbody>\n",
       "    <tr>\n",
       "      <th>0</th>\n",
       "      <td>41.954690</td>\n",
       "      <td>-87.800991</td>\n",
       "      <td>88</td>\n",
       "      <td>60</td>\n",
       "      <td>74.0</td>\n",
       "      <td>10.0</td>\n",
       "      <td>58</td>\n",
       "      <td>65.0</td>\n",
       "      <td>0.0</td>\n",
       "      <td>9.0</td>\n",
       "      <td>...</td>\n",
       "      <td>886.071429</td>\n",
       "      <td>0</td>\n",
       "      <td>1</td>\n",
       "      <td>0</td>\n",
       "      <td>1</td>\n",
       "      <td>0</td>\n",
       "      <td>0</td>\n",
       "      <td>0</td>\n",
       "      <td>0</td>\n",
       "      <td>0</td>\n",
       "    </tr>\n",
       "    <tr>\n",
       "      <th>1</th>\n",
       "      <td>41.954690</td>\n",
       "      <td>-87.800991</td>\n",
       "      <td>88</td>\n",
       "      <td>60</td>\n",
       "      <td>74.0</td>\n",
       "      <td>10.0</td>\n",
       "      <td>58</td>\n",
       "      <td>65.0</td>\n",
       "      <td>0.0</td>\n",
       "      <td>9.0</td>\n",
       "      <td>...</td>\n",
       "      <td>886.071429</td>\n",
       "      <td>0</td>\n",
       "      <td>0</td>\n",
       "      <td>1</td>\n",
       "      <td>1</td>\n",
       "      <td>0</td>\n",
       "      <td>0</td>\n",
       "      <td>0</td>\n",
       "      <td>0</td>\n",
       "      <td>0</td>\n",
       "    </tr>\n",
       "    <tr>\n",
       "      <th>2</th>\n",
       "      <td>41.994991</td>\n",
       "      <td>-87.769279</td>\n",
       "      <td>88</td>\n",
       "      <td>60</td>\n",
       "      <td>74.0</td>\n",
       "      <td>10.0</td>\n",
       "      <td>58</td>\n",
       "      <td>65.0</td>\n",
       "      <td>0.0</td>\n",
       "      <td>9.0</td>\n",
       "      <td>...</td>\n",
       "      <td>886.071429</td>\n",
       "      <td>0</td>\n",
       "      <td>0</td>\n",
       "      <td>1</td>\n",
       "      <td>1</td>\n",
       "      <td>0</td>\n",
       "      <td>0</td>\n",
       "      <td>0</td>\n",
       "      <td>0</td>\n",
       "      <td>0</td>\n",
       "    </tr>\n",
       "    <tr>\n",
       "      <th>3</th>\n",
       "      <td>41.974089</td>\n",
       "      <td>-87.824812</td>\n",
       "      <td>88</td>\n",
       "      <td>60</td>\n",
       "      <td>74.0</td>\n",
       "      <td>10.0</td>\n",
       "      <td>58</td>\n",
       "      <td>65.0</td>\n",
       "      <td>0.0</td>\n",
       "      <td>9.0</td>\n",
       "      <td>...</td>\n",
       "      <td>886.071429</td>\n",
       "      <td>0</td>\n",
       "      <td>1</td>\n",
       "      <td>0</td>\n",
       "      <td>1</td>\n",
       "      <td>0</td>\n",
       "      <td>0</td>\n",
       "      <td>0</td>\n",
       "      <td>0</td>\n",
       "      <td>0</td>\n",
       "    </tr>\n",
       "    <tr>\n",
       "      <th>4</th>\n",
       "      <td>41.974089</td>\n",
       "      <td>-87.824812</td>\n",
       "      <td>88</td>\n",
       "      <td>60</td>\n",
       "      <td>74.0</td>\n",
       "      <td>10.0</td>\n",
       "      <td>58</td>\n",
       "      <td>65.0</td>\n",
       "      <td>0.0</td>\n",
       "      <td>9.0</td>\n",
       "      <td>...</td>\n",
       "      <td>886.071429</td>\n",
       "      <td>0</td>\n",
       "      <td>0</td>\n",
       "      <td>1</td>\n",
       "      <td>1</td>\n",
       "      <td>0</td>\n",
       "      <td>0</td>\n",
       "      <td>0</td>\n",
       "      <td>0</td>\n",
       "      <td>0</td>\n",
       "    </tr>\n",
       "  </tbody>\n",
       "</table>\n",
       "<p>5 rows × 95 columns</p>\n",
       "</div>"
      ],
      "text/plain": [
       "    Latitude  Longitude  Tmax  Tmin  Tavg  Depart  DewPoint  WetBulb  Heat  \\\n",
       "0  41.954690 -87.800991    88    60  74.0    10.0        58     65.0   0.0   \n",
       "1  41.954690 -87.800991    88    60  74.0    10.0        58     65.0   0.0   \n",
       "2  41.994991 -87.769279    88    60  74.0    10.0        58     65.0   0.0   \n",
       "3  41.974089 -87.824812    88    60  74.0    10.0        58     65.0   0.0   \n",
       "4  41.974089 -87.824812    88    60  74.0    10.0        58     65.0   0.0   \n",
       "\n",
       "   Cool  ...  Daylight_Mins_14  Species_CULEX PIPIENS  \\\n",
       "0   9.0  ...        886.071429                      0   \n",
       "1   9.0  ...        886.071429                      0   \n",
       "2   9.0  ...        886.071429                      0   \n",
       "3   9.0  ...        886.071429                      0   \n",
       "4   9.0  ...        886.071429                      0   \n",
       "\n",
       "   Species_CULEX PIPIENS/RESTUANS  Species_CULEX RESTUANS  month_5  month_6  \\\n",
       "0                               1                       0        1        0   \n",
       "1                               0                       1        1        0   \n",
       "2                               0                       1        1        0   \n",
       "3                               1                       0        1        0   \n",
       "4                               0                       1        1        0   \n",
       "\n",
       "   month_7  month_8  month_9  month_10  \n",
       "0        0        0        0         0  \n",
       "1        0        0        0         0  \n",
       "2        0        0        0         0  \n",
       "3        0        0        0         0  \n",
       "4        0        0        0         0  \n",
       "\n",
       "[5 rows x 95 columns]"
      ]
     },
     "execution_count": 6,
     "metadata": {},
     "output_type": "execute_result"
    }
   ],
   "source": [
    "# Sense check\n",
    "\n",
    "X.head()"
   ]
  },
  {
   "cell_type": "code",
   "execution_count": 7,
   "metadata": {
    "scrolled": true
   },
   "outputs": [
    {
     "data": {
      "text/plain": [
       "Index(['Latitude', 'Longitude', 'Tmax', 'Tmin', 'Tavg', 'Depart', 'DewPoint',\n",
       "       'WetBulb', 'Heat', 'Cool', 'PrecipTotal', 'StnPressure', 'SeaLevel',\n",
       "       'ResultSpeed', 'ResultDir', 'AvgSpeed', 'BCFG', 'BR', 'DZ', 'FG', 'FU',\n",
       "       'HZ', 'MIFG', 'RA', 'SN', 'SQ', 'TS', 'TSRA', 'VCTS', 'Daylight_Mins',\n",
       "       'Tmax_7', 'Tmin_7', 'Tavg_7', 'Depart_7', 'DewPoint_7', 'WetBulb_7',\n",
       "       'Heat_7', 'Cool_7', 'PrecipTotal_7', 'StnPressure_7', 'SeaLevel_7',\n",
       "       'ResultSpeed_7', 'ResultDir_7', 'AvgSpeed_7', 'BCFG_7', 'BR_7', 'DZ_7',\n",
       "       'FG_7', 'FU_7', 'HZ_7', 'MIFG_7', 'RA_7', 'SN_7', 'SQ_7', 'TS_7',\n",
       "       'TSRA_7', 'VCTS_7', 'Daylight_Mins_7', 'Tmax_14', 'Tmin_14', 'Tavg_14',\n",
       "       'Depart_14', 'DewPoint_14', 'WetBulb_14', 'Heat_14', 'Cool_14',\n",
       "       'PrecipTotal_14', 'StnPressure_14', 'SeaLevel_14', 'ResultSpeed_14',\n",
       "       'ResultDir_14', 'AvgSpeed_14', 'BCFG_14', 'BR_14', 'DZ_14', 'FG_14',\n",
       "       'FU_14', 'HZ_14', 'MIFG_14', 'RA_14', 'SN_14', 'SQ_14', 'TS_14',\n",
       "       'TSRA_14', 'VCTS_14', 'Daylight_Mins_14', 'Species_CULEX PIPIENS',\n",
       "       'Species_CULEX PIPIENS/RESTUANS', 'Species_CULEX RESTUANS', 'month_5',\n",
       "       'month_6', 'month_7', 'month_8', 'month_9', 'month_10'],\n",
       "      dtype='object')"
      ]
     },
     "execution_count": 7,
     "metadata": {},
     "output_type": "execute_result"
    }
   ],
   "source": [
    "# Checking features list\n",
    "\n",
    "X.columns"
   ]
  },
  {
   "cell_type": "markdown",
   "metadata": {},
   "source": [
    "## Train Test Split and Preprocessing\n",
    "[top](#Contents)"
   ]
  },
  {
   "cell_type": "markdown",
   "metadata": {},
   "source": [
    "- Before any form of modeling, a train test split was performed to create a training dataset and a test dataset.\n",
    "- A standard scaler was also run to scale the data\n",
    "- As the classes are unevenly sized, a SMOTE transformation was run on both the train and test datasets "
   ]
  },
  {
   "cell_type": "code",
   "execution_count": 8,
   "metadata": {},
   "outputs": [],
   "source": [
    "# train test split\n",
    "\n",
    "X_train, X_test, y_train, y_test = train_test_split(X, y, stratify = y, test_size = 0.3, random_state = 42)"
   ]
  },
  {
   "cell_type": "code",
   "execution_count": 9,
   "metadata": {},
   "outputs": [],
   "source": [
    "#scaling features\n",
    "\n",
    "ss = StandardScaler()\n",
    "\n",
    "# X_ss = ss.fit_transform(X)\n",
    "\n",
    "X_train_ss = ss.fit_transform(X_train)\n",
    "X_test_ss = ss.transform(X_test)"
   ]
  },
  {
   "cell_type": "code",
   "execution_count": 10,
   "metadata": {},
   "outputs": [],
   "source": [
    "# SMOTEing features and target variables\n",
    "\n",
    "sm = SMOTE(random_state=42)\n",
    "\n",
    "X_train_sm, y_train_sm = sm.fit_sample(X_train_ss, y_train)"
   ]
  },
  {
   "cell_type": "code",
   "execution_count": 11,
   "metadata": {},
   "outputs": [
    {
     "data": {
      "text/plain": [
       "1    0.5\n",
       "0    0.5\n",
       "Name: WnvPresent, dtype: float64"
      ]
     },
     "execution_count": 11,
     "metadata": {},
     "output_type": "execute_result"
    }
   ],
   "source": [
    "# quick examination of value counts\n",
    "\n",
    "y_train_sm.value_counts(normalize = True)"
   ]
  },
  {
   "cell_type": "code",
   "execution_count": 12,
   "metadata": {},
   "outputs": [
    {
     "data": {
      "text/plain": [
       "(11224,)"
      ]
     },
     "execution_count": 12,
     "metadata": {},
     "output_type": "execute_result"
    }
   ],
   "source": [
    "y_train_sm.shape"
   ]
  },
  {
   "cell_type": "code",
   "execution_count": 13,
   "metadata": {},
   "outputs": [
    {
     "data": {
      "text/plain": [
       "(11224, 95)"
      ]
     },
     "execution_count": 13,
     "metadata": {},
     "output_type": "execute_result"
    }
   ],
   "source": [
    "X_train_sm.shape"
   ]
  },
  {
   "cell_type": "markdown",
   "metadata": {},
   "source": [
    "## Model Testing\n",
    "[top](#Contents)"
   ]
  },
  {
   "cell_type": "markdown",
   "metadata": {},
   "source": [
    "- To determine the best model and parameters, a list of models and associated parameters were created\n",
    "- A function was then created to run a Gridsearch on the models, optimizing for roc_auc\n",
    "- The results were then aggregated into a dataframe for easier intepretation"
   ]
  },
  {
   "cell_type": "code",
   "execution_count": 14,
   "metadata": {},
   "outputs": [],
   "source": [
    "# setting number of cvs\n",
    "\n",
    "cv_no = 5\n",
    "\n",
    "# setting random state\n",
    "\n",
    "random_state = 42"
   ]
  },
  {
   "cell_type": "code",
   "execution_count": 15,
   "metadata": {},
   "outputs": [],
   "source": [
    "# creating a dictionary of models to test\n",
    "\n",
    "clas_dict = {\n",
    "             \"lr\": LogisticRegression(),\n",
    "             \"rf\": RandomForestClassifier(),\n",
    "             \"sgd\": SGDClassifier(),\n",
    "             \"ada\": AdaBoostClassifier(),\n",
    "             \"bag\": BaggingClassifier(),\n",
    "             \"xgb\": XGBClassifier(),\n",
    "             \"svc\": SVC(),\n",
    "            }"
   ]
  },
  {
   "cell_type": "code",
   "execution_count": 16,
   "metadata": {},
   "outputs": [],
   "source": [
    "# creating parameters for a GridSearch to search through\n",
    "\n",
    "clas_param = {    \n",
    "    \n",
    "            \"lr\" :{\n",
    "                'penalty' : ['l2'],\n",
    "                'C' : [.001,.01,.1],\n",
    "                'max_iter' : [1000],\n",
    "                'random_state':[random_state]\n",
    "                 },\n",
    "\n",
    "            \"rf\": {\n",
    "                'class_weight': [\"balanced\"],\n",
    "                'n_estimators': [100,150,200],\n",
    "                'max_depth': [None, 1, 2],\n",
    "                'random_state': [random_state]\n",
    "                 },\n",
    "    \n",
    "            \"sgd\": {\n",
    "                'loss': [\"log\"],\n",
    "                'max_iter': [1000],\n",
    "                'penalty': ['l2'],\n",
    "                'alpha': [0.01,.01,.1],\n",
    "                'random_state': [random_state]\n",
    "                 },\n",
    "\n",
    "            \"ada\": {\n",
    "                'learning_rate': [0.8,0.9,1],\n",
    "                'n_estimators': [50,100, 150],\n",
    "                'random_state': [random_state],\n",
    "                  },\n",
    "    \n",
    "            \"bag\": {\n",
    "                'n_estimators': [50, 100, 150],\n",
    "                'random_state': [random_state],\n",
    "                 },\n",
    "    \n",
    "            \"xgb\": {    \n",
    "                'eval_metric' : ['auc'],\n",
    "                'use_label_encoder' : [False],\n",
    "                'subsample' : [0.5], # Randomly sample 0.5 of the data to prevent overfitting\n",
    "                'colsample_bytree' : [0.5], \n",
    "                'learning_rate' : [0.1],\n",
    "                'max_depth' : [None, 2, 3],\n",
    "                'n_estimators' : [50, 100, 150], #500\n",
    "                'reg_alpha' : [0, 50,100], # L1 regularization term on weight #0, 1, 50, 75\n",
    "                'reg_lambda' : [0, 50,100], # L2 regularization term on weights #0, 1, 2, 50,75\n",
    "                'gamma' : [0.1], # Gamma specifies the minimum loss reduction required to make a split #.2\n",
    "                'objective' : ['binary:logistic'],\n",
    "                'random_state': [random_state],\n",
    "                 },\n",
    "    \n",
    "            \"svc\" :{\n",
    "                'max_iter' : [1000],\n",
    "                'random_state':[random_state]\n",
    "                 },\n",
    "            }"
   ]
  },
  {
   "cell_type": "code",
   "execution_count": 16,
   "metadata": {
    "scrolled": false
   },
   "outputs": [],
   "source": [
    "# function to loop through dictionaries and return roc_auc scores\n",
    "\n",
    "def model_looper(clas_dict, clas_param, score):\n",
    "    \n",
    "    # creating an empty results dataframe\n",
    "    \n",
    "    result = pd.DataFrame()\n",
    "    \n",
    "    # for loop to iterate through dictionary of models for testing\n",
    "\n",
    "    for clas_name, clas_item in clas_dict.items():   \n",
    "\n",
    "            # runs a gridsearch on the selected model using the associated parameters\n",
    "\n",
    "            gs = GridSearchCV(clas_item, clas_param[clas_name] , cv=cv_no, n_jobs=-1, verbose=2, scoring = score)\n",
    "            gs.fit(X_train_sm, y_train_sm)\n",
    "\n",
    "            # uses optimized model to fit\n",
    "\n",
    "            optimised = gs.best_estimator_\n",
    "\n",
    "            optimised.fit(X_train_sm, y_train_sm)\n",
    "            \n",
    "            # declaring results as variables\n",
    "\n",
    "            predictions = optimised.predict(X_test_ss)\n",
    "            \n",
    "            model_score = roc_auc_score(y_test, predictions)\n",
    "            \n",
    "            tn, fp, fn, tp = confusion_matrix(y_test, predictions).ravel()\n",
    "            \n",
    "            sensitivity = tp/(tp+fn)\n",
    "            \n",
    "            specificity = tn/(tn+fp)\n",
    "            \n",
    "            accuracy = (tn+tp)/(tn+tp+fn+fp)\n",
    "            \n",
    "            # creating a dataframe row and concantanating it to the results dataframe\n",
    "            \n",
    "            df = pd.DataFrame([clas_name, model_score, tn, fp, fn, tp, sensitivity, specificity, accuracy]).T\n",
    "            \n",
    "            result = pd.concat([result, df], ignore_index = True)\n",
    "    \n",
    "    # renaming columns for the results dataframe and correcting formating\n",
    "\n",
    "    result.rename(columns = {1:\"Score\", 2:\"tn\", 3:\"fp\", 4:\"fn\", 5:\"tp\", 6:\"Sensitivity\",7:\"Specificity\", 8: \"Accuracy\"}, inplace = True)   \n",
    "    \n",
    "    result.set_index(0, inplace = True)\n",
    "    \n",
    "    result.index.name = None\n",
    "    \n",
    "    # returns the final results dataframe\n",
    "    \n",
    "    return result"
   ]
  },
  {
   "cell_type": "code",
   "execution_count": 17,
   "metadata": {
    "scrolled": false
   },
   "outputs": [
    {
     "name": "stdout",
     "output_type": "stream",
     "text": [
      "Fitting 5 folds for each of 3 candidates, totalling 15 fits\n"
     ]
    },
    {
     "name": "stderr",
     "output_type": "stream",
     "text": [
      "[Parallel(n_jobs=-1)]: Using backend LokyBackend with 4 concurrent workers.\n",
      "[Parallel(n_jobs=-1)]: Done  15 out of  15 | elapsed:    3.9s finished\n"
     ]
    },
    {
     "name": "stdout",
     "output_type": "stream",
     "text": [
      "Fitting 5 folds for each of 9 candidates, totalling 45 fits\n"
     ]
    },
    {
     "name": "stderr",
     "output_type": "stream",
     "text": [
      "[Parallel(n_jobs=-1)]: Using backend LokyBackend with 4 concurrent workers.\n",
      "[Parallel(n_jobs=-1)]: Done  33 tasks      | elapsed:   17.8s\n",
      "[Parallel(n_jobs=-1)]: Done  45 out of  45 | elapsed:   21.9s finished\n"
     ]
    },
    {
     "name": "stdout",
     "output_type": "stream",
     "text": [
      "Fitting 5 folds for each of 3 candidates, totalling 15 fits\n"
     ]
    },
    {
     "name": "stderr",
     "output_type": "stream",
     "text": [
      "[Parallel(n_jobs=-1)]: Using backend LokyBackend with 4 concurrent workers.\n",
      "[Parallel(n_jobs=-1)]: Done  15 out of  15 | elapsed:    0.3s finished\n"
     ]
    },
    {
     "name": "stdout",
     "output_type": "stream",
     "text": [
      "Fitting 5 folds for each of 9 candidates, totalling 45 fits\n"
     ]
    },
    {
     "name": "stderr",
     "output_type": "stream",
     "text": [
      "[Parallel(n_jobs=-1)]: Using backend LokyBackend with 4 concurrent workers.\n",
      "[Parallel(n_jobs=-1)]: Done  33 tasks      | elapsed:   35.6s\n",
      "[Parallel(n_jobs=-1)]: Done  45 out of  45 | elapsed:   50.6s finished\n"
     ]
    },
    {
     "name": "stdout",
     "output_type": "stream",
     "text": [
      "Fitting 5 folds for each of 3 candidates, totalling 15 fits\n"
     ]
    },
    {
     "name": "stderr",
     "output_type": "stream",
     "text": [
      "[Parallel(n_jobs=-1)]: Using backend LokyBackend with 4 concurrent workers.\n",
      "[Parallel(n_jobs=-1)]: Done  15 out of  15 | elapsed:  1.2min finished\n"
     ]
    },
    {
     "name": "stdout",
     "output_type": "stream",
     "text": [
      "Fitting 5 folds for each of 81 candidates, totalling 405 fits\n"
     ]
    },
    {
     "name": "stderr",
     "output_type": "stream",
     "text": [
      "[Parallel(n_jobs=-1)]: Using backend LokyBackend with 4 concurrent workers.\n",
      "[Parallel(n_jobs=-1)]: Done  33 tasks      | elapsed:   24.9s\n",
      "[Parallel(n_jobs=-1)]: Done 154 tasks      | elapsed:  2.4min\n",
      "[Parallel(n_jobs=-1)]: Done 357 tasks      | elapsed:  4.2min\n",
      "[Parallel(n_jobs=-1)]: Done 405 out of 405 | elapsed:  4.9min finished\n"
     ]
    },
    {
     "name": "stdout",
     "output_type": "stream",
     "text": [
      "Fitting 5 folds for each of 1 candidates, totalling 5 fits\n"
     ]
    },
    {
     "name": "stderr",
     "output_type": "stream",
     "text": [
      "[Parallel(n_jobs=-1)]: Using backend LokyBackend with 4 concurrent workers.\n",
      "[Parallel(n_jobs=-1)]: Done   5 out of   5 | elapsed:    5.9s finished\n",
      "/Users/Home/Applications/anaconda3/lib/python3.8/site-packages/sklearn/svm/_base.py:246: ConvergenceWarning: Solver terminated early (max_iter=1000).  Consider pre-processing your data with StandardScaler or MinMaxScaler.\n",
      "  warnings.warn('Solver terminated early (max_iter=%i).'\n",
      "/Users/Home/Applications/anaconda3/lib/python3.8/site-packages/sklearn/svm/_base.py:246: ConvergenceWarning: Solver terminated early (max_iter=1000).  Consider pre-processing your data with StandardScaler or MinMaxScaler.\n",
      "  warnings.warn('Solver terminated early (max_iter=%i).'\n"
     ]
    }
   ],
   "source": [
    "results_df = model_looper(clas_dict, clas_param, \"roc_auc\")"
   ]
  },
  {
   "cell_type": "code",
   "execution_count": 18,
   "metadata": {},
   "outputs": [
    {
     "data": {
      "text/html": [
       "<div>\n",
       "<style scoped>\n",
       "    .dataframe tbody tr th:only-of-type {\n",
       "        vertical-align: middle;\n",
       "    }\n",
       "\n",
       "    .dataframe tbody tr th {\n",
       "        vertical-align: top;\n",
       "    }\n",
       "\n",
       "    .dataframe thead th {\n",
       "        text-align: right;\n",
       "    }\n",
       "</style>\n",
       "<table border=\"1\" class=\"dataframe\">\n",
       "  <thead>\n",
       "    <tr style=\"text-align: right;\">\n",
       "      <th></th>\n",
       "      <th>Score</th>\n",
       "      <th>tn</th>\n",
       "      <th>fp</th>\n",
       "      <th>fn</th>\n",
       "      <th>tp</th>\n",
       "      <th>Sensitivity</th>\n",
       "      <th>Specificity</th>\n",
       "      <th>Accuracy</th>\n",
       "    </tr>\n",
       "  </thead>\n",
       "  <tbody>\n",
       "    <tr>\n",
       "      <th>lr</th>\n",
       "      <td>0.775758</td>\n",
       "      <td>1766</td>\n",
       "      <td>640</td>\n",
       "      <td>25</td>\n",
       "      <td>112</td>\n",
       "      <td>0.817518</td>\n",
       "      <td>0.733998</td>\n",
       "      <td>0.738498</td>\n",
       "    </tr>\n",
       "    <tr>\n",
       "      <th>rf</th>\n",
       "      <td>0.655959</td>\n",
       "      <td>2173</td>\n",
       "      <td>233</td>\n",
       "      <td>81</td>\n",
       "      <td>56</td>\n",
       "      <td>0.408759</td>\n",
       "      <td>0.903159</td>\n",
       "      <td>0.876524</td>\n",
       "    </tr>\n",
       "    <tr>\n",
       "      <th>sgd</th>\n",
       "      <td>0.768459</td>\n",
       "      <td>1766</td>\n",
       "      <td>640</td>\n",
       "      <td>27</td>\n",
       "      <td>110</td>\n",
       "      <td>0.80292</td>\n",
       "      <td>0.733998</td>\n",
       "      <td>0.737711</td>\n",
       "    </tr>\n",
       "    <tr>\n",
       "      <th>ada</th>\n",
       "      <td>0.770175</td>\n",
       "      <td>1985</td>\n",
       "      <td>421</td>\n",
       "      <td>39</td>\n",
       "      <td>98</td>\n",
       "      <td>0.715328</td>\n",
       "      <td>0.825021</td>\n",
       "      <td>0.819111</td>\n",
       "    </tr>\n",
       "    <tr>\n",
       "      <th>bag</th>\n",
       "      <td>0.654478</td>\n",
       "      <td>2201</td>\n",
       "      <td>205</td>\n",
       "      <td>83</td>\n",
       "      <td>54</td>\n",
       "      <td>0.394161</td>\n",
       "      <td>0.914796</td>\n",
       "      <td>0.886748</td>\n",
       "    </tr>\n",
       "    <tr>\n",
       "      <th>xgb</th>\n",
       "      <td>0.702989</td>\n",
       "      <td>2171</td>\n",
       "      <td>235</td>\n",
       "      <td>68</td>\n",
       "      <td>69</td>\n",
       "      <td>0.50365</td>\n",
       "      <td>0.902328</td>\n",
       "      <td>0.880849</td>\n",
       "    </tr>\n",
       "    <tr>\n",
       "      <th>svc</th>\n",
       "      <td>0.661606</td>\n",
       "      <td>1726</td>\n",
       "      <td>680</td>\n",
       "      <td>54</td>\n",
       "      <td>83</td>\n",
       "      <td>0.605839</td>\n",
       "      <td>0.717373</td>\n",
       "      <td>0.711365</td>\n",
       "    </tr>\n",
       "  </tbody>\n",
       "</table>\n",
       "</div>"
      ],
      "text/plain": [
       "        Score    tn   fp  fn   tp Sensitivity Specificity  Accuracy\n",
       "lr   0.775758  1766  640  25  112    0.817518    0.733998  0.738498\n",
       "rf   0.655959  2173  233  81   56    0.408759    0.903159  0.876524\n",
       "sgd  0.768459  1766  640  27  110     0.80292    0.733998  0.737711\n",
       "ada  0.770175  1985  421  39   98    0.715328    0.825021  0.819111\n",
       "bag  0.654478  2201  205  83   54    0.394161    0.914796  0.886748\n",
       "xgb  0.702989  2171  235  68   69     0.50365    0.902328  0.880849\n",
       "svc  0.661606  1726  680  54   83    0.605839    0.717373  0.711365"
      ]
     },
     "execution_count": 18,
     "metadata": {},
     "output_type": "execute_result"
    }
   ],
   "source": [
    "results_df"
   ]
  },
  {
   "cell_type": "markdown",
   "metadata": {},
   "source": [
    "# Optimizing Chosen Models\n",
    "[top](#Contents)"
   ]
  },
  {
   "cell_type": "markdown",
   "metadata": {},
   "source": [
    "- As shown by the above table, the best performing models were Logistic Regression and the SGDClassifier\n",
    "    - ADA boost was not selected due to the much higher false negative rate, as we felt that for this use case the impact of NOT detecting the presence of WNV was a significant factor\n",
    "- Further optimization was then done on these models"
   ]
  },
  {
   "cell_type": "code",
   "execution_count": null,
   "metadata": {},
   "outputs": [],
   "source": [
    "np.logspace(-1, 1)"
   ]
  },
  {
   "cell_type": "code",
   "execution_count": 72,
   "metadata": {},
   "outputs": [
    {
     "name": "stdout",
     "output_type": "stream",
     "text": [
      "Fitting 5 folds for each of 101 candidates, totalling 505 fits\n"
     ]
    },
    {
     "name": "stderr",
     "output_type": "stream",
     "text": [
      "[Parallel(n_jobs=-1)]: Using backend LokyBackend with 4 concurrent workers.\n",
      "[Parallel(n_jobs=-1)]: Done  33 tasks      | elapsed:    9.8s\n",
      "[Parallel(n_jobs=-1)]: Done 154 tasks      | elapsed:  1.1min\n",
      "[Parallel(n_jobs=-1)]: Done 357 tasks      | elapsed:  3.6min\n",
      "[Parallel(n_jobs=-1)]: Done 505 out of 505 | elapsed:  6.6min finished\n"
     ]
    },
    {
     "data": {
      "text/plain": [
       "GridSearchCV(cv=5, estimator=LogisticRegression(), n_jobs=-1,\n",
       "             param_grid=({'C': array([ 0.1  ,  0.199,  0.298,  0.397,  0.496,  0.595,  0.694,  0.793,\n",
       "        0.892,  0.991,  1.09 ,  1.189,  1.288,  1.387,  1.486,  1.585,\n",
       "        1.684,  1.783,  1.882,  1.981,  2.08 ,  2.179,  2.278,  2.377,\n",
       "        2.476,  2.575,  2.674,  2.773,  2.872,  2.971,  3.07 ,  3.169,\n",
       "        3.268,  3.367,  3.466,  3.565,  3.664,  3.763,  3.862,  3.961,\n",
       "        4.06 ,  4.159,  4.258,  4.357,  4.456,  4.5...\n",
       "        5.644,  5.743,  5.842,  5.941,  6.04 ,  6.139,  6.238,  6.337,\n",
       "        6.436,  6.535,  6.634,  6.733,  6.832,  6.931,  7.03 ,  7.129,\n",
       "        7.228,  7.327,  7.426,  7.525,  7.624,  7.723,  7.822,  7.921,\n",
       "        8.02 ,  8.119,  8.218,  8.317,  8.416,  8.515,  8.614,  8.713,\n",
       "        8.812,  8.911,  9.01 ,  9.109,  9.208,  9.307,  9.406,  9.505,\n",
       "        9.604,  9.703,  9.802,  9.901, 10.   ]),\n",
       "                          'max_iter': [1000], 'penalty': ['l2'],\n",
       "                          'random_state': [42]},),\n",
       "             scoring='roc_auc', verbose=2)"
      ]
     },
     "execution_count": 72,
     "metadata": {},
     "output_type": "execute_result"
    }
   ],
   "source": [
    "# creating parameters for a GridSearch to search through for LogisticRegression model\n",
    "\n",
    "best_model = LogisticRegression()\n",
    "\n",
    "C_list = np.linspace(0.1,10,100)\n",
    "\n",
    "best_parameters = {\n",
    "                'penalty' : ['l2'],\n",
    "                'C' : C_list,\n",
    "                'max_iter' : [1000],\n",
    "                'random_state':[random_state]\n",
    "                 },\n",
    "\n",
    "# initiating gridsearch\n",
    "\n",
    "lr_gs = GridSearchCV(best_model, best_parameters, cv=cv_no, n_jobs=-1, verbose=2, scoring = \"roc_auc\")\n",
    "    \n",
    "# fitting gridsearch    \n",
    "\n",
    "lr_gs.fit(X_train_sm, y_train_sm)"
   ]
  },
  {
   "cell_type": "code",
   "execution_count": 73,
   "metadata": {},
   "outputs": [],
   "source": [
    "# extracting 'C' values and results for graph\n",
    "\n",
    "x_val = C_list\n",
    "\n",
    "y_val = lr_gs.cv_results_[\"mean_test_score\"]"
   ]
  },
  {
   "cell_type": "code",
   "execution_count": 74,
   "metadata": {},
   "outputs": [
    {
     "data": {
      "text/plain": [
       "<AxesSubplot:>"
      ]
     },
     "execution_count": 74,
     "metadata": {},
     "output_type": "execute_result"
    },
    {
     "data": {
      "image/png": "[encoded data removed]",
      "text/plain": [
       "<Figure size 1080x720 with 1 Axes>"
      ]
     },
     "metadata": {
      "needs_background": "light"
     },
     "output_type": "display_data"
    }
   ],
   "source": [
    "plt.figure(figsize = (15,10))\n",
    "sns.lineplot(x = x_val, y = y_val)"
   ]
  },
  {
   "cell_type": "code",
   "execution_count": 75,
   "metadata": {},
   "outputs": [
    {
     "data": {
      "text/plain": [
       "LogisticRegression(C=9.703, max_iter=1000, random_state=42)"
      ]
     },
     "execution_count": 75,
     "metadata": {},
     "output_type": "execute_result"
    }
   ],
   "source": [
    "lr_gs.best_estimator_"
   ]
  },
  {
   "cell_type": "code",
   "execution_count": 40,
   "metadata": {},
   "outputs": [
    {
     "name": "stdout",
     "output_type": "stream",
     "text": [
      "Fitting 5 folds for each of 10 candidates, totalling 50 fits\n"
     ]
    },
    {
     "name": "stderr",
     "output_type": "stream",
     "text": [
      "[Parallel(n_jobs=-1)]: Using backend LokyBackend with 4 concurrent workers.\n"
     ]
    },
    {
     "ename": "KeyboardInterrupt",
     "evalue": "",
     "output_type": "error",
     "traceback": [
      "\u001b[0;31m---------------------------------------------------------------------------\u001b[0m",
      "\u001b[0;31mKeyboardInterrupt\u001b[0m                         Traceback (most recent call last)",
      "\u001b[0;32m<ipython-input-40-4896521e5c4f>\u001b[0m in \u001b[0;36m<module>\u001b[0;34m\u001b[0m\n\u001b[1;32m     19\u001b[0m \u001b[0;31m# fitting gridsearch\u001b[0m\u001b[0;34m\u001b[0m\u001b[0;34m\u001b[0m\u001b[0;34m\u001b[0m\u001b[0m\n\u001b[1;32m     20\u001b[0m \u001b[0;34m\u001b[0m\u001b[0m\n\u001b[0;32m---> 21\u001b[0;31m \u001b[0msgd_gs\u001b[0m\u001b[0;34m.\u001b[0m\u001b[0mfit\u001b[0m\u001b[0;34m(\u001b[0m\u001b[0mX_train_sm\u001b[0m\u001b[0;34m,\u001b[0m \u001b[0my_train_sm\u001b[0m\u001b[0;34m)\u001b[0m\u001b[0;34m\u001b[0m\u001b[0;34m\u001b[0m\u001b[0m\n\u001b[0m",
      "\u001b[0;32m~/opt/anaconda3/lib/python3.8/site-packages/sklearn/utils/validation.py\u001b[0m in \u001b[0;36minner_f\u001b[0;34m(*args, **kwargs)\u001b[0m\n\u001b[1;32m     70\u001b[0m                           FutureWarning)\n\u001b[1;32m     71\u001b[0m         \u001b[0mkwargs\u001b[0m\u001b[0;34m.\u001b[0m\u001b[0mupdate\u001b[0m\u001b[0;34m(\u001b[0m\u001b[0;34m{\u001b[0m\u001b[0mk\u001b[0m\u001b[0;34m:\u001b[0m \u001b[0marg\u001b[0m \u001b[0;32mfor\u001b[0m \u001b[0mk\u001b[0m\u001b[0;34m,\u001b[0m \u001b[0marg\u001b[0m \u001b[0;32min\u001b[0m \u001b[0mzip\u001b[0m\u001b[0;34m(\u001b[0m\u001b[0msig\u001b[0m\u001b[0;34m.\u001b[0m\u001b[0mparameters\u001b[0m\u001b[0;34m,\u001b[0m \u001b[0margs\u001b[0m\u001b[0;34m)\u001b[0m\u001b[0;34m}\u001b[0m\u001b[0;34m)\u001b[0m\u001b[0;34m\u001b[0m\u001b[0;34m\u001b[0m\u001b[0m\n\u001b[0;32m---> 72\u001b[0;31m         \u001b[0;32mreturn\u001b[0m \u001b[0mf\u001b[0m\u001b[0;34m(\u001b[0m\u001b[0;34m**\u001b[0m\u001b[0mkwargs\u001b[0m\u001b[0;34m)\u001b[0m\u001b[0;34m\u001b[0m\u001b[0;34m\u001b[0m\u001b[0m\n\u001b[0m\u001b[1;32m     73\u001b[0m     \u001b[0;32mreturn\u001b[0m \u001b[0minner_f\u001b[0m\u001b[0;34m\u001b[0m\u001b[0;34m\u001b[0m\u001b[0m\n\u001b[1;32m     74\u001b[0m \u001b[0;34m\u001b[0m\u001b[0m\n",
      "\u001b[0;32m~/opt/anaconda3/lib/python3.8/site-packages/sklearn/model_selection/_search.py\u001b[0m in \u001b[0;36mfit\u001b[0;34m(self, X, y, groups, **fit_params)\u001b[0m\n\u001b[1;32m    734\u001b[0m                 \u001b[0;32mreturn\u001b[0m \u001b[0mresults\u001b[0m\u001b[0;34m\u001b[0m\u001b[0;34m\u001b[0m\u001b[0m\n\u001b[1;32m    735\u001b[0m \u001b[0;34m\u001b[0m\u001b[0m\n\u001b[0;32m--> 736\u001b[0;31m             \u001b[0mself\u001b[0m\u001b[0;34m.\u001b[0m\u001b[0m_run_search\u001b[0m\u001b[0;34m(\u001b[0m\u001b[0mevaluate_candidates\u001b[0m\u001b[0;34m)\u001b[0m\u001b[0;34m\u001b[0m\u001b[0;34m\u001b[0m\u001b[0m\n\u001b[0m\u001b[1;32m    737\u001b[0m \u001b[0;34m\u001b[0m\u001b[0m\n\u001b[1;32m    738\u001b[0m         \u001b[0;31m# For multi-metric evaluation, store the best_index_, best_params_ and\u001b[0m\u001b[0;34m\u001b[0m\u001b[0;34m\u001b[0m\u001b[0;34m\u001b[0m\u001b[0m\n",
      "\u001b[0;32m~/opt/anaconda3/lib/python3.8/site-packages/sklearn/model_selection/_search.py\u001b[0m in \u001b[0;36m_run_search\u001b[0;34m(self, evaluate_candidates)\u001b[0m\n\u001b[1;32m   1186\u001b[0m     \u001b[0;32mdef\u001b[0m \u001b[0m_run_search\u001b[0m\u001b[0;34m(\u001b[0m\u001b[0mself\u001b[0m\u001b[0;34m,\u001b[0m \u001b[0mevaluate_candidates\u001b[0m\u001b[0;34m)\u001b[0m\u001b[0;34m:\u001b[0m\u001b[0;34m\u001b[0m\u001b[0;34m\u001b[0m\u001b[0m\n\u001b[1;32m   1187\u001b[0m         \u001b[0;34m\"\"\"Search all candidates in param_grid\"\"\"\u001b[0m\u001b[0;34m\u001b[0m\u001b[0;34m\u001b[0m\u001b[0m\n\u001b[0;32m-> 1188\u001b[0;31m         \u001b[0mevaluate_candidates\u001b[0m\u001b[0;34m(\u001b[0m\u001b[0mParameterGrid\u001b[0m\u001b[0;34m(\u001b[0m\u001b[0mself\u001b[0m\u001b[0;34m.\u001b[0m\u001b[0mparam_grid\u001b[0m\u001b[0;34m)\u001b[0m\u001b[0;34m)\u001b[0m\u001b[0;34m\u001b[0m\u001b[0;34m\u001b[0m\u001b[0m\n\u001b[0m\u001b[1;32m   1189\u001b[0m \u001b[0;34m\u001b[0m\u001b[0m\n\u001b[1;32m   1190\u001b[0m \u001b[0;34m\u001b[0m\u001b[0m\n",
      "\u001b[0;32m~/opt/anaconda3/lib/python3.8/site-packages/sklearn/model_selection/_search.py\u001b[0m in \u001b[0;36mevaluate_candidates\u001b[0;34m(candidate_params)\u001b[0m\n\u001b[1;32m    706\u001b[0m                               n_splits, n_candidates, n_candidates * n_splits))\n\u001b[1;32m    707\u001b[0m \u001b[0;34m\u001b[0m\u001b[0m\n\u001b[0;32m--> 708\u001b[0;31m                 out = parallel(delayed(_fit_and_score)(clone(base_estimator),\n\u001b[0m\u001b[1;32m    709\u001b[0m                                                        \u001b[0mX\u001b[0m\u001b[0;34m,\u001b[0m \u001b[0my\u001b[0m\u001b[0;34m,\u001b[0m\u001b[0;34m\u001b[0m\u001b[0;34m\u001b[0m\u001b[0m\n\u001b[1;32m    710\u001b[0m                                                        \u001b[0mtrain\u001b[0m\u001b[0;34m=\u001b[0m\u001b[0mtrain\u001b[0m\u001b[0;34m,\u001b[0m \u001b[0mtest\u001b[0m\u001b[0;34m=\u001b[0m\u001b[0mtest\u001b[0m\u001b[0;34m,\u001b[0m\u001b[0;34m\u001b[0m\u001b[0;34m\u001b[0m\u001b[0m\n",
      "\u001b[0;32m~/opt/anaconda3/lib/python3.8/site-packages/joblib/parallel.py\u001b[0m in \u001b[0;36m__call__\u001b[0;34m(self, iterable)\u001b[0m\n\u001b[1;32m   1059\u001b[0m \u001b[0;34m\u001b[0m\u001b[0m\n\u001b[1;32m   1060\u001b[0m             \u001b[0;32mwith\u001b[0m \u001b[0mself\u001b[0m\u001b[0;34m.\u001b[0m\u001b[0m_backend\u001b[0m\u001b[0;34m.\u001b[0m\u001b[0mretrieval_context\u001b[0m\u001b[0;34m(\u001b[0m\u001b[0;34m)\u001b[0m\u001b[0;34m:\u001b[0m\u001b[0;34m\u001b[0m\u001b[0;34m\u001b[0m\u001b[0m\n\u001b[0;32m-> 1061\u001b[0;31m                 \u001b[0mself\u001b[0m\u001b[0;34m.\u001b[0m\u001b[0mretrieve\u001b[0m\u001b[0;34m(\u001b[0m\u001b[0;34m)\u001b[0m\u001b[0;34m\u001b[0m\u001b[0;34m\u001b[0m\u001b[0m\n\u001b[0m\u001b[1;32m   1062\u001b[0m             \u001b[0;31m# Make sure that we get a last message telling us we are done\u001b[0m\u001b[0;34m\u001b[0m\u001b[0;34m\u001b[0m\u001b[0;34m\u001b[0m\u001b[0m\n\u001b[1;32m   1063\u001b[0m             \u001b[0melapsed_time\u001b[0m \u001b[0;34m=\u001b[0m \u001b[0mtime\u001b[0m\u001b[0;34m.\u001b[0m\u001b[0mtime\u001b[0m\u001b[0;34m(\u001b[0m\u001b[0;34m)\u001b[0m \u001b[0;34m-\u001b[0m \u001b[0mself\u001b[0m\u001b[0;34m.\u001b[0m\u001b[0m_start_time\u001b[0m\u001b[0;34m\u001b[0m\u001b[0;34m\u001b[0m\u001b[0m\n",
      "\u001b[0;32m~/opt/anaconda3/lib/python3.8/site-packages/joblib/parallel.py\u001b[0m in \u001b[0;36mretrieve\u001b[0;34m(self)\u001b[0m\n\u001b[1;32m    938\u001b[0m             \u001b[0;32mtry\u001b[0m\u001b[0;34m:\u001b[0m\u001b[0;34m\u001b[0m\u001b[0;34m\u001b[0m\u001b[0m\n\u001b[1;32m    939\u001b[0m                 \u001b[0;32mif\u001b[0m \u001b[0mgetattr\u001b[0m\u001b[0;34m(\u001b[0m\u001b[0mself\u001b[0m\u001b[0;34m.\u001b[0m\u001b[0m_backend\u001b[0m\u001b[0;34m,\u001b[0m \u001b[0;34m'supports_timeout'\u001b[0m\u001b[0;34m,\u001b[0m \u001b[0;32mFalse\u001b[0m\u001b[0;34m)\u001b[0m\u001b[0;34m:\u001b[0m\u001b[0;34m\u001b[0m\u001b[0;34m\u001b[0m\u001b[0m\n\u001b[0;32m--> 940\u001b[0;31m                     \u001b[0mself\u001b[0m\u001b[0;34m.\u001b[0m\u001b[0m_output\u001b[0m\u001b[0;34m.\u001b[0m\u001b[0mextend\u001b[0m\u001b[0;34m(\u001b[0m\u001b[0mjob\u001b[0m\u001b[0;34m.\u001b[0m\u001b[0mget\u001b[0m\u001b[0;34m(\u001b[0m\u001b[0mtimeout\u001b[0m\u001b[0;34m=\u001b[0m\u001b[0mself\u001b[0m\u001b[0;34m.\u001b[0m\u001b[0mtimeout\u001b[0m\u001b[0;34m)\u001b[0m\u001b[0;34m)\u001b[0m\u001b[0;34m\u001b[0m\u001b[0;34m\u001b[0m\u001b[0m\n\u001b[0m\u001b[1;32m    941\u001b[0m                 \u001b[0;32melse\u001b[0m\u001b[0;34m:\u001b[0m\u001b[0;34m\u001b[0m\u001b[0;34m\u001b[0m\u001b[0m\n\u001b[1;32m    942\u001b[0m                     \u001b[0mself\u001b[0m\u001b[0;34m.\u001b[0m\u001b[0m_output\u001b[0m\u001b[0;34m.\u001b[0m\u001b[0mextend\u001b[0m\u001b[0;34m(\u001b[0m\u001b[0mjob\u001b[0m\u001b[0;34m.\u001b[0m\u001b[0mget\u001b[0m\u001b[0;34m(\u001b[0m\u001b[0;34m)\u001b[0m\u001b[0;34m)\u001b[0m\u001b[0;34m\u001b[0m\u001b[0;34m\u001b[0m\u001b[0m\n",
      "\u001b[0;32m~/opt/anaconda3/lib/python3.8/site-packages/joblib/_parallel_backends.py\u001b[0m in \u001b[0;36mwrap_future_result\u001b[0;34m(future, timeout)\u001b[0m\n\u001b[1;32m    540\u001b[0m         AsyncResults.get from multiprocessing.\"\"\"\n\u001b[1;32m    541\u001b[0m         \u001b[0;32mtry\u001b[0m\u001b[0;34m:\u001b[0m\u001b[0;34m\u001b[0m\u001b[0;34m\u001b[0m\u001b[0m\n\u001b[0;32m--> 542\u001b[0;31m             \u001b[0;32mreturn\u001b[0m \u001b[0mfuture\u001b[0m\u001b[0;34m.\u001b[0m\u001b[0mresult\u001b[0m\u001b[0;34m(\u001b[0m\u001b[0mtimeout\u001b[0m\u001b[0;34m=\u001b[0m\u001b[0mtimeout\u001b[0m\u001b[0;34m)\u001b[0m\u001b[0;34m\u001b[0m\u001b[0;34m\u001b[0m\u001b[0m\n\u001b[0m\u001b[1;32m    543\u001b[0m         \u001b[0;32mexcept\u001b[0m \u001b[0mCfTimeoutError\u001b[0m \u001b[0;32mas\u001b[0m \u001b[0me\u001b[0m\u001b[0;34m:\u001b[0m\u001b[0;34m\u001b[0m\u001b[0;34m\u001b[0m\u001b[0m\n\u001b[1;32m    544\u001b[0m             \u001b[0;32mraise\u001b[0m \u001b[0mTimeoutError\u001b[0m \u001b[0;32mfrom\u001b[0m \u001b[0me\u001b[0m\u001b[0;34m\u001b[0m\u001b[0;34m\u001b[0m\u001b[0m\n",
      "\u001b[0;32m~/opt/anaconda3/lib/python3.8/concurrent/futures/_base.py\u001b[0m in \u001b[0;36mresult\u001b[0;34m(self, timeout)\u001b[0m\n\u001b[1;32m    432\u001b[0m                 \u001b[0;32mreturn\u001b[0m \u001b[0mself\u001b[0m\u001b[0;34m.\u001b[0m\u001b[0m__get_result\u001b[0m\u001b[0;34m(\u001b[0m\u001b[0;34m)\u001b[0m\u001b[0;34m\u001b[0m\u001b[0;34m\u001b[0m\u001b[0m\n\u001b[1;32m    433\u001b[0m \u001b[0;34m\u001b[0m\u001b[0m\n\u001b[0;32m--> 434\u001b[0;31m             \u001b[0mself\u001b[0m\u001b[0;34m.\u001b[0m\u001b[0m_condition\u001b[0m\u001b[0;34m.\u001b[0m\u001b[0mwait\u001b[0m\u001b[0;34m(\u001b[0m\u001b[0mtimeout\u001b[0m\u001b[0;34m)\u001b[0m\u001b[0;34m\u001b[0m\u001b[0;34m\u001b[0m\u001b[0m\n\u001b[0m\u001b[1;32m    435\u001b[0m \u001b[0;34m\u001b[0m\u001b[0m\n\u001b[1;32m    436\u001b[0m             \u001b[0;32mif\u001b[0m \u001b[0mself\u001b[0m\u001b[0;34m.\u001b[0m\u001b[0m_state\u001b[0m \u001b[0;32min\u001b[0m \u001b[0;34m[\u001b[0m\u001b[0mCANCELLED\u001b[0m\u001b[0;34m,\u001b[0m \u001b[0mCANCELLED_AND_NOTIFIED\u001b[0m\u001b[0;34m]\u001b[0m\u001b[0;34m:\u001b[0m\u001b[0;34m\u001b[0m\u001b[0;34m\u001b[0m\u001b[0m\n",
      "\u001b[0;32m~/opt/anaconda3/lib/python3.8/threading.py\u001b[0m in \u001b[0;36mwait\u001b[0;34m(self, timeout)\u001b[0m\n\u001b[1;32m    300\u001b[0m         \u001b[0;32mtry\u001b[0m\u001b[0;34m:\u001b[0m    \u001b[0;31m# restore state no matter what (e.g., KeyboardInterrupt)\u001b[0m\u001b[0;34m\u001b[0m\u001b[0;34m\u001b[0m\u001b[0m\n\u001b[1;32m    301\u001b[0m             \u001b[0;32mif\u001b[0m \u001b[0mtimeout\u001b[0m \u001b[0;32mis\u001b[0m \u001b[0;32mNone\u001b[0m\u001b[0;34m:\u001b[0m\u001b[0;34m\u001b[0m\u001b[0;34m\u001b[0m\u001b[0m\n\u001b[0;32m--> 302\u001b[0;31m                 \u001b[0mwaiter\u001b[0m\u001b[0;34m.\u001b[0m\u001b[0macquire\u001b[0m\u001b[0;34m(\u001b[0m\u001b[0;34m)\u001b[0m\u001b[0;34m\u001b[0m\u001b[0;34m\u001b[0m\u001b[0m\n\u001b[0m\u001b[1;32m    303\u001b[0m                 \u001b[0mgotit\u001b[0m \u001b[0;34m=\u001b[0m \u001b[0;32mTrue\u001b[0m\u001b[0;34m\u001b[0m\u001b[0;34m\u001b[0m\u001b[0m\n\u001b[1;32m    304\u001b[0m             \u001b[0;32melse\u001b[0m\u001b[0;34m:\u001b[0m\u001b[0;34m\u001b[0m\u001b[0;34m\u001b[0m\u001b[0m\n",
      "\u001b[0;31mKeyboardInterrupt\u001b[0m: "
     ]
    }
   ],
   "source": [
    "# alternative model\n",
    "\n",
    "alp_list = np.linspace(0.001,0.01,10)\n",
    "\n",
    "best_model = SGDClassifier()\n",
    "\n",
    "best_parameters = {\n",
    "                'loss': [\"log\"],\n",
    "                'max_iter': [1000],\n",
    "                'penalty': ['l2'],\n",
    "                'alpha': alp_list,\n",
    "                'random_state': [random_state]\n",
    "                 },\n",
    "\n",
    "# initiating gridsearch\n",
    "\n",
    "sgd_gs = GridSearchCV(best_model, best_parameters, cv=cv_no, n_jobs=-1, verbose=2, scoring = \"roc_auc\")\n",
    "    \n",
    "# fitting gridsearch    \n",
    "\n",
    "sgd_gs.fit(X_train_sm, y_train_sm)"
   ]
  },
  {
   "cell_type": "code",
   "execution_count": 31,
   "metadata": {},
   "outputs": [],
   "source": [
    "# extracting 'C' values and results for graph\n",
    "\n",
    "x_val = alp_list\n",
    "\n",
    "y_val = sgd_gs.cv_results_[\"mean_test_score\"]"
   ]
  },
  {
   "cell_type": "code",
   "execution_count": 32,
   "metadata": {},
   "outputs": [
    {
     "data": {
      "text/plain": [
       "<AxesSubplot:>"
      ]
     },
     "execution_count": 32,
     "metadata": {},
     "output_type": "execute_result"
    },
    {
     "data": {
      "image/png": "[encoded data removed]",
      "text/plain": [
       "<Figure size 1080x720 with 1 Axes>"
      ]
     },
     "metadata": {
      "needs_background": "light"
     },
     "output_type": "display_data"
    }
   ],
   "source": [
    "plt.figure(figsize = (15,10))\n",
    "sns.lineplot(x = x_val, y = y_val)"
   ]
  },
  {
   "cell_type": "code",
   "execution_count": 33,
   "metadata": {},
   "outputs": [
    {
     "data": {
      "text/plain": [
       "SGDClassifier(alpha=0.003, loss='log', random_state=42)"
      ]
     },
     "execution_count": 33,
     "metadata": {},
     "output_type": "execute_result"
    }
   ],
   "source": [
    " sgd_gs.best_estimator_"
   ]
  },
  {
   "cell_type": "markdown",
   "metadata": {},
   "source": [
    "## Exploring Feature Weights for Logistic Regression \n",
    "[top](#Contents)"
   ]
  },
  {
   "cell_type": "markdown",
   "metadata": {},
   "source": [
    "- As the Logistic Regression Model returns the log weights of the coefficients, an np.exp function was ran to transform the coeffieicents appropriately\n",
    "- Most predictors give an emphasis on humidity\n",
    "- Rainy weather also seems to be an important predictor\n",
    "- Warm temperatures are a factor, but not as strong as initially thought\n",
    "- August and September seem to be prime months for WNV propagation\n"
   ]
  },
  {
   "cell_type": "code",
   "execution_count": 79,
   "metadata": {},
   "outputs": [],
   "source": [
    "lr_model = lr_gs.best_estimator_"
   ]
  },
  {
   "cell_type": "code",
   "execution_count": 80,
   "metadata": {},
   "outputs": [],
   "source": [
    "preds = lr_model.predict(X_test_ss)"
   ]
  },
  {
   "cell_type": "code",
   "execution_count": 81,
   "metadata": {},
   "outputs": [
    {
     "data": {
      "text/plain": [
       "array([[1761,  645],\n",
       "       [  21,  116]])"
      ]
     },
     "execution_count": 81,
     "metadata": {},
     "output_type": "execute_result"
    }
   ],
   "source": [
    "confusion_matrix(y_test, preds)"
   ]
  },
  {
   "cell_type": "code",
   "execution_count": 82,
   "metadata": {},
   "outputs": [
    {
     "data": {
      "text/plain": [
       "array([[-0.09972072, -0.67142796,  0.37375693,  3.01452553, -0.25236027,\n",
       "         1.78816266, -4.69497757,  0.10636962,  0.42008278, -0.11781772,\n",
       "        -1.24437644,  4.22855419, -3.5491129 ,  0.41998702, -0.4052286 ,\n",
       "         0.33285217,  0.        ,  0.72091144, -2.43132377,  0.94987894,\n",
       "         0.        , -1.37638254,  0.        , -0.02908855,  0.        ,\n",
       "         0.        ,  0.81711972, -0.22974578,  1.02296219, -3.05483268,\n",
       "         0.85442447, -3.49791872, -1.10387906, -0.55529503,  6.73468089,\n",
       "         0.61814618,  1.69292126, -0.76299147,  0.08166156,  0.56135333,\n",
       "        -2.29226989, -0.50948172, -0.07700914, -2.41002596,  2.63737145,\n",
       "         0.58078969,  0.81127453, -1.6570307 ,  0.84704033,  0.64556943,\n",
       "         1.8251181 ,  1.12464362,  0.        , -0.02928551, -1.43029518,\n",
       "         0.08371025,  0.55648909, -2.86294046, -0.17362128,  1.86251322,\n",
       "         0.48312163, -3.51925736,  2.70159305,  1.17242311, -2.4036923 ,\n",
       "        -0.29039096, -2.64288097,  0.92898252,  1.27841584, -2.04886196,\n",
       "         0.81324701,  2.99660736, -0.60146083, -0.73424282, -0.30338296,\n",
       "        -0.36713568, -2.61086606,  0.60467966, -1.82371957, -1.3038547 ,\n",
       "         0.        , -0.05262019,  0.72524674,  0.53978657,  1.27262837,\n",
       "        -2.68442019,  2.76364901,  3.194447  ,  2.47662425, -0.02880235,\n",
       "        -0.3800252 ,  1.67977059,  0.11748665, -1.2980393 , -0.51827439]])"
      ]
     },
     "execution_count": 82,
     "metadata": {},
     "output_type": "execute_result"
    }
   ],
   "source": [
    "lr_model.coef_"
   ]
  },
  {
   "cell_type": "code",
   "execution_count": 83,
   "metadata": {},
   "outputs": [],
   "source": [
    "odds = np.exp(lr_model.coef_).round(3).ravel().tolist()"
   ]
  },
  {
   "cell_type": "code",
   "execution_count": 84,
   "metadata": {
    "scrolled": true
   },
   "outputs": [],
   "source": [
    "feature_weights = pd.DataFrame(data = odds, \n",
    "                               index = X_train.columns, \n",
    "                               columns = ['Weight'])"
   ]
  },
  {
   "cell_type": "code",
   "execution_count": 85,
   "metadata": {},
   "outputs": [
    {
     "data": {
      "text/html": [
       "<div>\n",
       "<style scoped>\n",
       "    .dataframe tbody tr th:only-of-type {\n",
       "        vertical-align: middle;\n",
       "    }\n",
       "\n",
       "    .dataframe tbody tr th {\n",
       "        vertical-align: top;\n",
       "    }\n",
       "\n",
       "    .dataframe thead th {\n",
       "        text-align: right;\n",
       "    }\n",
       "</style>\n",
       "<table border=\"1\" class=\"dataframe\">\n",
       "  <thead>\n",
       "    <tr style=\"text-align: right;\">\n",
       "      <th></th>\n",
       "      <th>Weight</th>\n",
       "    </tr>\n",
       "  </thead>\n",
       "  <tbody>\n",
       "    <tr>\n",
       "      <th>DewPoint_7</th>\n",
       "      <td>841.075</td>\n",
       "    </tr>\n",
       "    <tr>\n",
       "      <th>StnPressure</th>\n",
       "      <td>68.618</td>\n",
       "    </tr>\n",
       "    <tr>\n",
       "      <th>Species_CULEX PIPIENS/RESTUANS</th>\n",
       "      <td>24.397</td>\n",
       "    </tr>\n",
       "    <tr>\n",
       "      <th>Tmin</th>\n",
       "      <td>20.379</td>\n",
       "    </tr>\n",
       "    <tr>\n",
       "      <th>AvgSpeed_14</th>\n",
       "      <td>20.018</td>\n",
       "    </tr>\n",
       "    <tr>\n",
       "      <th>Species_CULEX PIPIENS</th>\n",
       "      <td>15.858</td>\n",
       "    </tr>\n",
       "    <tr>\n",
       "      <th>DewPoint_14</th>\n",
       "      <td>14.903</td>\n",
       "    </tr>\n",
       "    <tr>\n",
       "      <th>BCFG_7</th>\n",
       "      <td>13.976</td>\n",
       "    </tr>\n",
       "    <tr>\n",
       "      <th>Species_CULEX RESTUANS</th>\n",
       "      <td>11.901</td>\n",
       "    </tr>\n",
       "    <tr>\n",
       "      <th>Tmin_14</th>\n",
       "      <td>6.440</td>\n",
       "    </tr>\n",
       "    <tr>\n",
       "      <th>MIFG_7</th>\n",
       "      <td>6.204</td>\n",
       "    </tr>\n",
       "    <tr>\n",
       "      <th>Depart</th>\n",
       "      <td>5.978</td>\n",
       "    </tr>\n",
       "    <tr>\n",
       "      <th>Heat_7</th>\n",
       "      <td>5.435</td>\n",
       "    </tr>\n",
       "    <tr>\n",
       "      <th>month_7</th>\n",
       "      <td>5.364</td>\n",
       "    </tr>\n",
       "    <tr>\n",
       "      <th>SeaLevel_14</th>\n",
       "      <td>3.591</td>\n",
       "    </tr>\n",
       "    <tr>\n",
       "      <th>VCTS_14</th>\n",
       "      <td>3.570</td>\n",
       "    </tr>\n",
       "    <tr>\n",
       "      <th>WetBulb_14</th>\n",
       "      <td>3.230</td>\n",
       "    </tr>\n",
       "    <tr>\n",
       "      <th>RA_7</th>\n",
       "      <td>3.079</td>\n",
       "    </tr>\n",
       "    <tr>\n",
       "      <th>VCTS</th>\n",
       "      <td>2.781</td>\n",
       "    </tr>\n",
       "    <tr>\n",
       "      <th>FG</th>\n",
       "      <td>2.585</td>\n",
       "    </tr>\n",
       "  </tbody>\n",
       "</table>\n",
       "</div>"
      ],
      "text/plain": [
       "                                 Weight\n",
       "DewPoint_7                      841.075\n",
       "StnPressure                      68.618\n",
       "Species_CULEX PIPIENS/RESTUANS   24.397\n",
       "Tmin                             20.379\n",
       "AvgSpeed_14                      20.018\n",
       "Species_CULEX PIPIENS            15.858\n",
       "DewPoint_14                      14.903\n",
       "BCFG_7                           13.976\n",
       "Species_CULEX RESTUANS           11.901\n",
       "Tmin_14                           6.440\n",
       "MIFG_7                            6.204\n",
       "Depart                            5.978\n",
       "Heat_7                            5.435\n",
       "month_7                           5.364\n",
       "SeaLevel_14                       3.591\n",
       "VCTS_14                           3.570\n",
       "WetBulb_14                        3.230\n",
       "RA_7                              3.079\n",
       "VCTS                              2.781\n",
       "FG                                2.585"
      ]
     },
     "execution_count": 85,
     "metadata": {},
     "output_type": "execute_result"
    }
   ],
   "source": [
    "feature_weights.sort_values(by = \"Weight\", ascending = False).head(20)"
   ]
  },
  {
   "cell_type": "markdown",
   "metadata": {},
   "source": [
    "## Exploring Feature Weights for SGDClassifier\n",
    "[top](#Contents)"
   ]
  },
  {
   "cell_type": "markdown",
   "metadata": {},
   "source": [
    "- The conclusions largely coincided with the feature importances of the Logistic Regression model"
   ]
  },
  {
   "cell_type": "code",
   "execution_count": 32,
   "metadata": {},
   "outputs": [],
   "source": [
    "sgd_model = sgd_gs.best_estimator_"
   ]
  },
  {
   "cell_type": "code",
   "execution_count": 33,
   "metadata": {},
   "outputs": [
    {
     "data": {
      "text/plain": [
       "array([[-1.45821604e-01, -5.71644803e-01,  2.82704484e-01,\n",
       "        -8.76703723e-02,  1.00592006e-01,  1.30947347e-01,\n",
       "        -2.79742527e-01, -8.57195728e-02, -1.73710341e-02,\n",
       "         1.26485127e-01, -4.08423655e-01,  3.39882969e-01,\n",
       "        -3.03411618e-02,  1.12432477e-01, -6.71422506e-02,\n",
       "         1.99813467e-01,  0.00000000e+00,  1.77615048e-01,\n",
       "        -9.17306689e-01,  3.45939658e-01,  0.00000000e+00,\n",
       "        -2.03065808e-01,  0.00000000e+00, -8.80642822e-04,\n",
       "         0.00000000e+00,  0.00000000e+00,  2.22124185e-01,\n",
       "         6.02283245e-02,  3.17946048e-01, -4.73231168e-01,\n",
       "         7.59372497e-03, -2.75425997e-02, -1.92098740e-02,\n",
       "        -1.69869530e-01,  7.37796716e-01,  4.06244695e-01,\n",
       "        -5.47268490e-02, -4.48576444e-02, -3.38461771e-01,\n",
       "        -1.45618976e-01, -1.67342764e-01, -1.32830538e-01,\n",
       "         3.32409172e-01, -3.32192832e-01,  3.87544686e-01,\n",
       "         1.05320952e-01,  9.07754130e-02, -6.72273477e-01,\n",
       "        -9.45493607e-02, -4.51820296e-04,  2.06186392e-01,\n",
       "         2.95549136e-01,  0.00000000e+00, -7.46384061e-02,\n",
       "        -1.04539624e-01,  5.07978136e-01, -1.56634930e-01,\n",
       "        -4.65427307e-01, -2.71510526e-01,  1.24103665e-01,\n",
       "        -8.47480782e-02, -5.70637571e-01,  9.36868266e-01,\n",
       "         5.45243720e-01, -3.19144883e-01, -2.30916996e-01,\n",
       "        -6.26450281e-01,  3.57377389e-01,  4.75822600e-01,\n",
       "         2.86398636e-01, -9.15537178e-02, -1.95351962e-01,\n",
       "        -5.71024223e-02, -1.68202278e-01,  3.35140983e-01,\n",
       "         1.65825669e-01, -1.97586841e-01, -7.58955887e-03,\n",
       "        -5.67722229e-01,  2.23614225e-01,  0.00000000e+00,\n",
       "        -1.07100249e-01,  3.30224897e-01, -1.22145098e-02,\n",
       "         2.66275622e-01, -4.40243585e-01,  6.88376674e-01,\n",
       "         7.61871380e-01,  2.42902533e-01, -6.28731349e-02,\n",
       "        -5.82854712e-01, -1.22775419e-01,  3.76304820e-01,\n",
       "         2.82832160e-01, -1.34311457e-01]])"
      ]
     },
     "execution_count": 33,
     "metadata": {},
     "output_type": "execute_result"
    }
   ],
   "source": [
    "sgd_model.coef_"
   ]
  },
  {
   "cell_type": "code",
   "execution_count": 34,
   "metadata": {},
   "outputs": [],
   "source": [
    "odds = np.exp(sgd_model.coef_).round(3).ravel().tolist()"
   ]
  },
  {
   "cell_type": "code",
   "execution_count": 35,
   "metadata": {},
   "outputs": [],
   "source": [
    "feature_weights = pd.DataFrame(data = odds, \n",
    "                               index = X_train.columns, \n",
    "                               columns = ['Weight'])"
   ]
  },
  {
   "cell_type": "code",
   "execution_count": 36,
   "metadata": {},
   "outputs": [
    {
     "data": {
      "text/html": [
       "<div>\n",
       "<style scoped>\n",
       "    .dataframe tbody tr th:only-of-type {\n",
       "        vertical-align: middle;\n",
       "    }\n",
       "\n",
       "    .dataframe tbody tr th {\n",
       "        vertical-align: top;\n",
       "    }\n",
       "\n",
       "    .dataframe thead th {\n",
       "        text-align: right;\n",
       "    }\n",
       "</style>\n",
       "<table border=\"1\" class=\"dataframe\">\n",
       "  <thead>\n",
       "    <tr style=\"text-align: right;\">\n",
       "      <th></th>\n",
       "      <th>Weight</th>\n",
       "    </tr>\n",
       "  </thead>\n",
       "  <tbody>\n",
       "    <tr>\n",
       "      <th>DewPoint_14</th>\n",
       "      <td>2.552</td>\n",
       "    </tr>\n",
       "    <tr>\n",
       "      <th>Species_CULEX PIPIENS/RESTUANS</th>\n",
       "      <td>2.142</td>\n",
       "    </tr>\n",
       "    <tr>\n",
       "      <th>DewPoint_7</th>\n",
       "      <td>2.091</td>\n",
       "    </tr>\n",
       "    <tr>\n",
       "      <th>Species_CULEX PIPIENS</th>\n",
       "      <td>1.990</td>\n",
       "    </tr>\n",
       "    <tr>\n",
       "      <th>WetBulb_14</th>\n",
       "      <td>1.725</td>\n",
       "    </tr>\n",
       "    <tr>\n",
       "      <th>TSRA_7</th>\n",
       "      <td>1.662</td>\n",
       "    </tr>\n",
       "    <tr>\n",
       "      <th>SeaLevel_14</th>\n",
       "      <td>1.609</td>\n",
       "    </tr>\n",
       "    <tr>\n",
       "      <th>WetBulb_7</th>\n",
       "      <td>1.501</td>\n",
       "    </tr>\n",
       "    <tr>\n",
       "      <th>BCFG_7</th>\n",
       "      <td>1.473</td>\n",
       "    </tr>\n",
       "    <tr>\n",
       "      <th>month_8</th>\n",
       "      <td>1.457</td>\n",
       "    </tr>\n",
       "    <tr>\n",
       "      <th>StnPressure_14</th>\n",
       "      <td>1.430</td>\n",
       "    </tr>\n",
       "    <tr>\n",
       "      <th>FG</th>\n",
       "      <td>1.413</td>\n",
       "    </tr>\n",
       "    <tr>\n",
       "      <th>StnPressure</th>\n",
       "      <td>1.405</td>\n",
       "    </tr>\n",
       "    <tr>\n",
       "      <th>DZ_14</th>\n",
       "      <td>1.398</td>\n",
       "    </tr>\n",
       "    <tr>\n",
       "      <th>ResultDir_7</th>\n",
       "      <td>1.394</td>\n",
       "    </tr>\n",
       "    <tr>\n",
       "      <th>TS_14</th>\n",
       "      <td>1.391</td>\n",
       "    </tr>\n",
       "    <tr>\n",
       "      <th>VCTS</th>\n",
       "      <td>1.374</td>\n",
       "    </tr>\n",
       "    <tr>\n",
       "      <th>RA_7</th>\n",
       "      <td>1.344</td>\n",
       "    </tr>\n",
       "    <tr>\n",
       "      <th>ResultSpeed_14</th>\n",
       "      <td>1.332</td>\n",
       "    </tr>\n",
       "    <tr>\n",
       "      <th>Tmax</th>\n",
       "      <td>1.327</td>\n",
       "    </tr>\n",
       "  </tbody>\n",
       "</table>\n",
       "</div>"
      ],
      "text/plain": [
       "                                Weight\n",
       "DewPoint_14                      2.552\n",
       "Species_CULEX PIPIENS/RESTUANS   2.142\n",
       "DewPoint_7                       2.091\n",
       "Species_CULEX PIPIENS            1.990\n",
       "WetBulb_14                       1.725\n",
       "TSRA_7                           1.662\n",
       "SeaLevel_14                      1.609\n",
       "WetBulb_7                        1.501\n",
       "BCFG_7                           1.473\n",
       "month_8                          1.457\n",
       "StnPressure_14                   1.430\n",
       "FG                               1.413\n",
       "StnPressure                      1.405\n",
       "DZ_14                            1.398\n",
       "ResultDir_7                      1.394\n",
       "TS_14                            1.391\n",
       "VCTS                             1.374\n",
       "RA_7                             1.344\n",
       "ResultSpeed_14                   1.332\n",
       "Tmax                             1.327"
      ]
     },
     "execution_count": 36,
     "metadata": {},
     "output_type": "execute_result"
    }
   ],
   "source": [
    "feature_weights.sort_values(by = \"Weight\", ascending = False).head(20)"
   ]
  },
  {
   "cell_type": "markdown",
   "metadata": {},
   "source": [
    "## Exporting Dataset for Kaggle Submission\n",
    "[top](#Contents)"
   ]
  },
  {
   "cell_type": "markdown",
   "metadata": {},
   "source": [
    "- Logistic Regression was chosen as our final model based on the ROC_AUC scores (lr = 0.88, SGD = 0.87)\n",
    "- we fitted the model to the full original dataset, imported the full validation dataset and used our model to generate a list of predictions\n",
    "- The template provided by kaggle was then used to create a final csv file for submission"
   ]
  },
  {
   "cell_type": "code",
   "execution_count": 37,
   "metadata": {},
   "outputs": [],
   "source": [
    "sample = pd.read_csv('data/samplesubmission.csv')"
   ]
  },
  {
   "cell_type": "code",
   "execution_count": 38,
   "metadata": {},
   "outputs": [
    {
     "name": "stdout",
     "output_type": "stream",
     "text": [
      "(116293, 95)\n",
      "(116293, 2)\n"
     ]
    }
   ],
   "source": [
    "# cross check for matching no of rows\n",
    "\n",
    "print(to_predict.shape)\n",
    "print(sample.shape)"
   ]
  },
  {
   "cell_type": "code",
   "execution_count": 39,
   "metadata": {},
   "outputs": [],
   "source": [
    "# using model to predict results\n",
    "\n",
    "X_predict = ss.fit_transform(to_predict)\n",
    "preds = sgd_model.predict(X_predict)"
   ]
  },
  {
   "cell_type": "code",
   "execution_count": 40,
   "metadata": {},
   "outputs": [
    {
     "data": {
      "text/plain": [
       "0    83362\n",
       "1    32931\n",
       "Name: WnvPresent, dtype: int64"
      ]
     },
     "execution_count": 40,
     "metadata": {},
     "output_type": "execute_result"
    }
   ],
   "source": [
    "# attaching predictions to the sample df\n",
    "\n",
    "sample['WnvPresent'] = preds\n",
    "sample['WnvPresent'].value_counts()"
   ]
  },
  {
   "cell_type": "code",
   "execution_count": 41,
   "metadata": {},
   "outputs": [],
   "source": [
    "# exporting to csv file\n",
    "\n",
    "sample.to_csv('results/submission.csv', index = False)"
   ]
  },
  {
   "cell_type": "markdown",
   "metadata": {},
   "source": [
    "## Discussion, Recommendations and Further Study\n",
    "[top](#Contents)"
   ]
  },
  {
   "cell_type": "markdown",
   "metadata": {},
   "source": [
    "#### Discussion\n",
    "\n",
    "As mentioned earlier, most predictors give an emphasis on humidity and rains. \n",
    "\n",
    "It can be reasonably concluded that a higher humidity, coupled with rainy weather, would lead to a larger number of bodies of stagnant water. This, in turn, gives mosquitos favorable conditions for breeding and thus increase the chance that the WNV would be transmitted. \n",
    "\n",
    "Surprisingly, warmer temperatures were not as great a factor as initially believed. Indeed, further research showed that the temperature range was well within the tolerances of mosquitos.\n",
    "\n",
    "Further research also showed that August and September is considered the end of the thunderstorm season for Chicago (something our data also verified), and again returns back to the earlier discussion of higher humidity.\n",
    "\n",
    "#### Recommendation\n",
    "\n",
    "Our data showed that spraying, as it had been conducted, did not seem to be very effective. \n",
    "\n",
    "In our <a href = \"presentation.pdf\">final presentation</a> We instead recommend a combination onsider oil treatment of stagnant water bodies to kill off larvae, coupled with an education and awareness campaign as well as an emphasis on smart engineering for water infrastructure projects.\n",
    "\n",
    "#### Further Study\n",
    "\n",
    "Our Logistic Regression model obtained a score of 0.62 on Kaggle. Interestingly, when we submitted predictions based on the SGDClassifier model as a quick cross-validation, we obtained a higher score of 0.66, an inversion of what our modeling showed earlier. \n",
    "\n",
    "As our training dataset contained a much smaller amount of data as compared with the number of predictions we had to make, we believe that the training data might contain some bias that makes it misrepresentative of the actual conditions. \n",
    "\n",
    "A futher study would include a larger dataset, for a clearer examination of feature importance."
   ]
  },
  {
   "cell_type": "code",
   "execution_count": null,
   "metadata": {},
   "outputs": [],
   "source": []
  }
 ],
 "metadata": {
  "kernelspec": {
   "display_name": "Python 3",
   "language": "python",
   "name": "python3"
  },
  "language_info": {
   "codemirror_mode": {
    "name": "ipython",
    "version": 3
   },
   "file_extension": ".py",
   "mimetype": "text/x-python",
   "name": "python",
   "nbconvert_exporter": "python",
   "pygments_lexer": "ipython3",
   "version": "3.8.5"
  }
 },
 "nbformat": 4,
 "nbformat_minor": 4
}
