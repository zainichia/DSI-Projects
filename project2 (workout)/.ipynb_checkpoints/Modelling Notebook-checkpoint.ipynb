{
 "cells": [
  {
   "cell_type": "code",
   "execution_count": 1,
   "metadata": {},
   "outputs": [],
   "source": [
    "#Import basic EDA and Visualisation libraries\n",
    "\n",
    "import pandas as pd\n",
    "import numpy as np\n",
    "import seaborn as sns\n",
    "import matplotlib.pyplot as plt\n",
    "\n",
    "from sklearn.linear_model import LinearRegression, LassoCV, RidgeCV, ElasticNetCV\n",
    "from sklearn.model_selection import train_test_split, cross_val_score\n",
    "from sklearn.preprocessing import StandardScaler\n",
    "from sklearn.metrics import mean_squared_error, r2_score"
   ]
  },
  {
   "cell_type": "code",
   "execution_count": 2,
   "metadata": {},
   "outputs": [],
   "source": [
    "housing_train = pd.read_csv('datasets/Train_Cleaned.csv')"
   ]
  },
  {
   "cell_type": "code",
   "execution_count": 3,
   "metadata": {},
   "outputs": [
    {
     "data": {
      "text/html": [
       "<div>\n",
       "<style scoped>\n",
       "    .dataframe tbody tr th:only-of-type {\n",
       "        vertical-align: middle;\n",
       "    }\n",
       "\n",
       "    .dataframe tbody tr th {\n",
       "        vertical-align: top;\n",
       "    }\n",
       "\n",
       "    .dataframe thead th {\n",
       "        text-align: right;\n",
       "    }\n",
       "</style>\n",
       "<table border=\"1\" class=\"dataframe\">\n",
       "  <thead>\n",
       "    <tr style=\"text-align: right;\">\n",
       "      <th></th>\n",
       "      <th>Id</th>\n",
       "      <th>Lot Frontage</th>\n",
       "      <th>Lot Area</th>\n",
       "      <th>Lot Shape</th>\n",
       "      <th>Overall Qual</th>\n",
       "      <th>Mas Vnr Area</th>\n",
       "      <th>Exter Qual</th>\n",
       "      <th>Bsmt Qual</th>\n",
       "      <th>Bsmt Exposure</th>\n",
       "      <th>BsmtFin Type 1</th>\n",
       "      <th>...</th>\n",
       "      <th>Exterior 1st_Stucco</th>\n",
       "      <th>Exterior 1st_VinylSd</th>\n",
       "      <th>Exterior 1st_Wd Sdng</th>\n",
       "      <th>Exterior 1st_WdShing</th>\n",
       "      <th>Roof Style_Flat</th>\n",
       "      <th>Roof Style_Gable</th>\n",
       "      <th>Roof Style_Gambrel</th>\n",
       "      <th>Roof Style_Hip</th>\n",
       "      <th>Roof Style_Mansard</th>\n",
       "      <th>Roof Style_Shed</th>\n",
       "    </tr>\n",
       "  </thead>\n",
       "  <tbody>\n",
       "    <tr>\n",
       "      <th>0</th>\n",
       "      <td>109</td>\n",
       "      <td>68.0</td>\n",
       "      <td>13517</td>\n",
       "      <td>2</td>\n",
       "      <td>6</td>\n",
       "      <td>289.0</td>\n",
       "      <td>3</td>\n",
       "      <td>3</td>\n",
       "      <td>1</td>\n",
       "      <td>6</td>\n",
       "      <td>...</td>\n",
       "      <td>0</td>\n",
       "      <td>0</td>\n",
       "      <td>0</td>\n",
       "      <td>0</td>\n",
       "      <td>0</td>\n",
       "      <td>1</td>\n",
       "      <td>0</td>\n",
       "      <td>0</td>\n",
       "      <td>0</td>\n",
       "      <td>0</td>\n",
       "    </tr>\n",
       "    <tr>\n",
       "      <th>1</th>\n",
       "      <td>544</td>\n",
       "      <td>43.0</td>\n",
       "      <td>11492</td>\n",
       "      <td>2</td>\n",
       "      <td>7</td>\n",
       "      <td>132.0</td>\n",
       "      <td>3</td>\n",
       "      <td>4</td>\n",
       "      <td>1</td>\n",
       "      <td>6</td>\n",
       "      <td>...</td>\n",
       "      <td>0</td>\n",
       "      <td>1</td>\n",
       "      <td>0</td>\n",
       "      <td>0</td>\n",
       "      <td>0</td>\n",
       "      <td>1</td>\n",
       "      <td>0</td>\n",
       "      <td>0</td>\n",
       "      <td>0</td>\n",
       "      <td>0</td>\n",
       "    </tr>\n",
       "    <tr>\n",
       "      <th>2</th>\n",
       "      <td>153</td>\n",
       "      <td>68.0</td>\n",
       "      <td>7922</td>\n",
       "      <td>3</td>\n",
       "      <td>5</td>\n",
       "      <td>0.0</td>\n",
       "      <td>2</td>\n",
       "      <td>3</td>\n",
       "      <td>1</td>\n",
       "      <td>6</td>\n",
       "      <td>...</td>\n",
       "      <td>0</td>\n",
       "      <td>1</td>\n",
       "      <td>0</td>\n",
       "      <td>0</td>\n",
       "      <td>0</td>\n",
       "      <td>1</td>\n",
       "      <td>0</td>\n",
       "      <td>0</td>\n",
       "      <td>0</td>\n",
       "      <td>0</td>\n",
       "    </tr>\n",
       "    <tr>\n",
       "      <th>3</th>\n",
       "      <td>318</td>\n",
       "      <td>73.0</td>\n",
       "      <td>9802</td>\n",
       "      <td>3</td>\n",
       "      <td>5</td>\n",
       "      <td>0.0</td>\n",
       "      <td>2</td>\n",
       "      <td>4</td>\n",
       "      <td>1</td>\n",
       "      <td>1</td>\n",
       "      <td>...</td>\n",
       "      <td>0</td>\n",
       "      <td>1</td>\n",
       "      <td>0</td>\n",
       "      <td>0</td>\n",
       "      <td>0</td>\n",
       "      <td>1</td>\n",
       "      <td>0</td>\n",
       "      <td>0</td>\n",
       "      <td>0</td>\n",
       "      <td>0</td>\n",
       "    </tr>\n",
       "    <tr>\n",
       "      <th>4</th>\n",
       "      <td>255</td>\n",
       "      <td>82.0</td>\n",
       "      <td>14235</td>\n",
       "      <td>2</td>\n",
       "      <td>6</td>\n",
       "      <td>0.0</td>\n",
       "      <td>2</td>\n",
       "      <td>2</td>\n",
       "      <td>1</td>\n",
       "      <td>1</td>\n",
       "      <td>...</td>\n",
       "      <td>0</td>\n",
       "      <td>0</td>\n",
       "      <td>1</td>\n",
       "      <td>0</td>\n",
       "      <td>0</td>\n",
       "      <td>1</td>\n",
       "      <td>0</td>\n",
       "      <td>0</td>\n",
       "      <td>0</td>\n",
       "      <td>0</td>\n",
       "    </tr>\n",
       "  </tbody>\n",
       "</table>\n",
       "<p>5 rows × 179 columns</p>\n",
       "</div>"
      ],
      "text/plain": [
       "    Id  Lot Frontage  Lot Area  Lot Shape  Overall Qual  Mas Vnr Area  \\\n",
       "0  109          68.0     13517          2             6         289.0   \n",
       "1  544          43.0     11492          2             7         132.0   \n",
       "2  153          68.0      7922          3             5           0.0   \n",
       "3  318          73.0      9802          3             5           0.0   \n",
       "4  255          82.0     14235          2             6           0.0   \n",
       "\n",
       "   Exter Qual  Bsmt Qual  Bsmt Exposure  BsmtFin Type 1  ...  \\\n",
       "0           3          3              1               6  ...   \n",
       "1           3          4              1               6  ...   \n",
       "2           2          3              1               6  ...   \n",
       "3           2          4              1               1  ...   \n",
       "4           2          2              1               1  ...   \n",
       "\n",
       "   Exterior 1st_Stucco  Exterior 1st_VinylSd  Exterior 1st_Wd Sdng  \\\n",
       "0                    0                     0                     0   \n",
       "1                    0                     1                     0   \n",
       "2                    0                     1                     0   \n",
       "3                    0                     1                     0   \n",
       "4                    0                     0                     1   \n",
       "\n",
       "   Exterior 1st_WdShing  Roof Style_Flat  Roof Style_Gable  \\\n",
       "0                     0                0                 1   \n",
       "1                     0                0                 1   \n",
       "2                     0                0                 1   \n",
       "3                     0                0                 1   \n",
       "4                     0                0                 1   \n",
       "\n",
       "   Roof Style_Gambrel  Roof Style_Hip  Roof Style_Mansard  Roof Style_Shed  \n",
       "0                   0               0                   0                0  \n",
       "1                   0               0                   0                0  \n",
       "2                   0               0                   0                0  \n",
       "3                   0               0                   0                0  \n",
       "4                   0               0                   0                0  \n",
       "\n",
       "[5 rows x 179 columns]"
      ]
     },
     "execution_count": 3,
     "metadata": {},
     "output_type": "execute_result"
    }
   ],
   "source": [
    "housing_train.head()"
   ]
  },
  {
   "cell_type": "code",
   "execution_count": 4,
   "metadata": {},
   "outputs": [],
   "source": [
    "housing_train.set_index('Id', inplace = True)"
   ]
  },
  {
   "cell_type": "code",
   "execution_count": 5,
   "metadata": {},
   "outputs": [
    {
     "data": {
      "text/plain": [
       "(1969, 178)"
      ]
     },
     "execution_count": 5,
     "metadata": {},
     "output_type": "execute_result"
    }
   ],
   "source": [
    "housing_train.shape"
   ]
  },
  {
   "cell_type": "code",
   "execution_count": 6,
   "metadata": {},
   "outputs": [
    {
     "data": {
      "text/html": [
       "<div>\n",
       "<style scoped>\n",
       "    .dataframe tbody tr th:only-of-type {\n",
       "        vertical-align: middle;\n",
       "    }\n",
       "\n",
       "    .dataframe tbody tr th {\n",
       "        vertical-align: top;\n",
       "    }\n",
       "\n",
       "    .dataframe thead th {\n",
       "        text-align: right;\n",
       "    }\n",
       "</style>\n",
       "<table border=\"1\" class=\"dataframe\">\n",
       "  <thead>\n",
       "    <tr style=\"text-align: right;\">\n",
       "      <th></th>\n",
       "      <th>Id</th>\n",
       "      <th>Lot Frontage</th>\n",
       "      <th>Lot Area</th>\n",
       "      <th>Lot Shape</th>\n",
       "      <th>Overall Qual</th>\n",
       "      <th>Mas Vnr Area</th>\n",
       "      <th>Exter Qual</th>\n",
       "      <th>Bsmt Qual</th>\n",
       "      <th>Bsmt Exposure</th>\n",
       "      <th>BsmtFin Type 1</th>\n",
       "      <th>...</th>\n",
       "      <th>Sale Type_COD</th>\n",
       "      <th>Sale Type_CWD</th>\n",
       "      <th>Sale Type_Con</th>\n",
       "      <th>Sale Type_ConLD</th>\n",
       "      <th>Sale Type_ConLI</th>\n",
       "      <th>Sale Type_ConLw</th>\n",
       "      <th>Sale Type_New</th>\n",
       "      <th>Sale Type_Oth</th>\n",
       "      <th>Sale Type_VWD</th>\n",
       "      <th>Sale Type_WD</th>\n",
       "    </tr>\n",
       "  </thead>\n",
       "  <tbody>\n",
       "    <tr>\n",
       "      <th>0</th>\n",
       "      <td>2658</td>\n",
       "      <td>69.0</td>\n",
       "      <td>9142</td>\n",
       "      <td>3</td>\n",
       "      <td>6</td>\n",
       "      <td>0.0</td>\n",
       "      <td>2</td>\n",
       "      <td>2</td>\n",
       "      <td>1</td>\n",
       "      <td>1</td>\n",
       "      <td>...</td>\n",
       "      <td>0</td>\n",
       "      <td>0</td>\n",
       "      <td>0</td>\n",
       "      <td>0</td>\n",
       "      <td>0</td>\n",
       "      <td>0</td>\n",
       "      <td>0</td>\n",
       "      <td>0</td>\n",
       "      <td>0</td>\n",
       "      <td>1</td>\n",
       "    </tr>\n",
       "    <tr>\n",
       "      <th>1</th>\n",
       "      <td>2718</td>\n",
       "      <td>69.6</td>\n",
       "      <td>9662</td>\n",
       "      <td>2</td>\n",
       "      <td>5</td>\n",
       "      <td>0.0</td>\n",
       "      <td>2</td>\n",
       "      <td>4</td>\n",
       "      <td>1</td>\n",
       "      <td>1</td>\n",
       "      <td>...</td>\n",
       "      <td>0</td>\n",
       "      <td>0</td>\n",
       "      <td>0</td>\n",
       "      <td>0</td>\n",
       "      <td>0</td>\n",
       "      <td>0</td>\n",
       "      <td>0</td>\n",
       "      <td>0</td>\n",
       "      <td>0</td>\n",
       "      <td>1</td>\n",
       "    </tr>\n",
       "    <tr>\n",
       "      <th>2</th>\n",
       "      <td>2414</td>\n",
       "      <td>58.0</td>\n",
       "      <td>17104</td>\n",
       "      <td>2</td>\n",
       "      <td>7</td>\n",
       "      <td>0.0</td>\n",
       "      <td>3</td>\n",
       "      <td>4</td>\n",
       "      <td>3</td>\n",
       "      <td>6</td>\n",
       "      <td>...</td>\n",
       "      <td>0</td>\n",
       "      <td>0</td>\n",
       "      <td>0</td>\n",
       "      <td>0</td>\n",
       "      <td>0</td>\n",
       "      <td>0</td>\n",
       "      <td>1</td>\n",
       "      <td>0</td>\n",
       "      <td>0</td>\n",
       "      <td>0</td>\n",
       "    </tr>\n",
       "    <tr>\n",
       "      <th>3</th>\n",
       "      <td>1989</td>\n",
       "      <td>60.0</td>\n",
       "      <td>8520</td>\n",
       "      <td>3</td>\n",
       "      <td>5</td>\n",
       "      <td>0.0</td>\n",
       "      <td>3</td>\n",
       "      <td>3</td>\n",
       "      <td>1</td>\n",
       "      <td>1</td>\n",
       "      <td>...</td>\n",
       "      <td>0</td>\n",
       "      <td>0</td>\n",
       "      <td>0</td>\n",
       "      <td>0</td>\n",
       "      <td>0</td>\n",
       "      <td>0</td>\n",
       "      <td>0</td>\n",
       "      <td>0</td>\n",
       "      <td>0</td>\n",
       "      <td>1</td>\n",
       "    </tr>\n",
       "    <tr>\n",
       "      <th>4</th>\n",
       "      <td>625</td>\n",
       "      <td>69.6</td>\n",
       "      <td>9500</td>\n",
       "      <td>2</td>\n",
       "      <td>6</td>\n",
       "      <td>247.0</td>\n",
       "      <td>2</td>\n",
       "      <td>4</td>\n",
       "      <td>1</td>\n",
       "      <td>4</td>\n",
       "      <td>...</td>\n",
       "      <td>0</td>\n",
       "      <td>0</td>\n",
       "      <td>0</td>\n",
       "      <td>0</td>\n",
       "      <td>0</td>\n",
       "      <td>0</td>\n",
       "      <td>0</td>\n",
       "      <td>0</td>\n",
       "      <td>0</td>\n",
       "      <td>1</td>\n",
       "    </tr>\n",
       "  </tbody>\n",
       "</table>\n",
       "<p>5 rows × 178 columns</p>\n",
       "</div>"
      ],
      "text/plain": [
       "     Id  Lot Frontage  Lot Area  Lot Shape  Overall Qual  Mas Vnr Area  \\\n",
       "0  2658          69.0      9142          3             6           0.0   \n",
       "1  2718          69.6      9662          2             5           0.0   \n",
       "2  2414          58.0     17104          2             7           0.0   \n",
       "3  1989          60.0      8520          3             5           0.0   \n",
       "4   625          69.6      9500          2             6         247.0   \n",
       "\n",
       "   Exter Qual  Bsmt Qual  Bsmt Exposure  BsmtFin Type 1  ...  Sale Type_COD  \\\n",
       "0           2          2              1               1  ...              0   \n",
       "1           2          4              1               1  ...              0   \n",
       "2           3          4              3               6  ...              0   \n",
       "3           3          3              1               1  ...              0   \n",
       "4           2          4              1               4  ...              0   \n",
       "\n",
       "   Sale Type_CWD  Sale Type_Con  Sale Type_ConLD  Sale Type_ConLI  \\\n",
       "0              0              0                0                0   \n",
       "1              0              0                0                0   \n",
       "2              0              0                0                0   \n",
       "3              0              0                0                0   \n",
       "4              0              0                0                0   \n",
       "\n",
       "   Sale Type_ConLw  Sale Type_New  Sale Type_Oth  Sale Type_VWD  Sale Type_WD   \n",
       "0                0              0              0              0              1  \n",
       "1                0              0              0              0              1  \n",
       "2                0              1              0              0              0  \n",
       "3                0              0              0              0              1  \n",
       "4                0              0              0              0              1  \n",
       "\n",
       "[5 rows x 178 columns]"
      ]
     },
     "execution_count": 6,
     "metadata": {},
     "output_type": "execute_result"
    }
   ],
   "source": [
    "housing_test = pd.read_csv('datasets/Test_Cleaned.csv')\n",
    "housing_test.head()"
   ]
  },
  {
   "cell_type": "code",
   "execution_count": 7,
   "metadata": {},
   "outputs": [
    {
     "data": {
      "text/plain": [
       "(879, 177)"
      ]
     },
     "execution_count": 7,
     "metadata": {},
     "output_type": "execute_result"
    }
   ],
   "source": [
    "housing_test.set_index('Id', inplace = True)\n",
    "housing_test.shape"
   ]
  },
  {
   "cell_type": "code",
   "execution_count": 8,
   "metadata": {},
   "outputs": [
    {
     "data": {
      "text/plain": [
       "['Lot Frontage',\n",
       " 'Lot Area',\n",
       " 'Lot Shape',\n",
       " 'Overall Qual',\n",
       " 'Mas Vnr Area',\n",
       " 'Exter Qual',\n",
       " 'Bsmt Qual',\n",
       " 'Bsmt Exposure',\n",
       " 'BsmtFin Type 1',\n",
       " 'BsmtFin SF 1',\n",
       " 'Total Bsmt SF',\n",
       " 'Heating QC',\n",
       " '1st Flr SF',\n",
       " 'Gr Liv Area',\n",
       " 'Bsmt Full Bath',\n",
       " 'Bsmt Half Bath',\n",
       " 'Full Bath',\n",
       " 'Half Bath',\n",
       " 'Bedroom AbvGr',\n",
       " 'Kitchen AbvGr',\n",
       " 'Kitchen Qual',\n",
       " 'TotRms AbvGrd',\n",
       " 'Fireplaces',\n",
       " 'Fireplace Qu',\n",
       " 'Garage Finish',\n",
       " 'Garage Cars',\n",
       " 'Garage Area',\n",
       " 'Garage Qual',\n",
       " 'Wood Deck SF',\n",
       " 'Open Porch SF',\n",
       " 'Enclosed Porch',\n",
       " 'Screen Porch',\n",
       " 'Fence',\n",
       " 'Mo Sold',\n",
       " 'Garage Age',\n",
       " 'House Age',\n",
       " 'House Remod Yrs',\n",
       " 'Bldg Type_1Fam',\n",
       " 'Bldg Type_2fmCon',\n",
       " 'Bldg Type_Duplex',\n",
       " 'Bldg Type_Twnhs',\n",
       " 'Bldg Type_TwnhsE',\n",
       " 'Condition 1_Artery',\n",
       " 'Condition 1_Feedr',\n",
       " 'Condition 1_Norm',\n",
       " 'Condition 1_PosA',\n",
       " 'Condition 1_PosN',\n",
       " 'Condition 1_RRAe',\n",
       " 'Condition 1_RRAn',\n",
       " 'Condition 1_RRNe',\n",
       " 'Condition 1_RRNn',\n",
       " 'Exterior 1st_AsbShng',\n",
       " 'Exterior 1st_AsphShn',\n",
       " 'Exterior 1st_BrkComm',\n",
       " 'Exterior 1st_BrkFace',\n",
       " 'Exterior 1st_CemntBd',\n",
       " 'Exterior 1st_HdBoard',\n",
       " 'Exterior 1st_MetalSd',\n",
       " 'Exterior 1st_Plywood',\n",
       " 'Exterior 1st_PreCast',\n",
       " 'Exterior 1st_Stucco',\n",
       " 'Exterior 1st_VinylSd',\n",
       " 'Exterior 1st_Wd Sdng',\n",
       " 'Exterior 1st_WdShing',\n",
       " 'Exterior 2nd_AsbShng',\n",
       " 'Exterior 2nd_AsphShn',\n",
       " 'Exterior 2nd_Brk Cmn',\n",
       " 'Exterior 2nd_BrkFace',\n",
       " 'Exterior 2nd_CBlock',\n",
       " 'Exterior 2nd_CmentBd',\n",
       " 'Exterior 2nd_HdBoard',\n",
       " 'Exterior 2nd_ImStucc',\n",
       " 'Exterior 2nd_MetalSd',\n",
       " 'Exterior 2nd_Other',\n",
       " 'Exterior 2nd_Plywood',\n",
       " 'Exterior 2nd_PreCast',\n",
       " 'Exterior 2nd_Stucco',\n",
       " 'Exterior 2nd_VinylSd',\n",
       " 'Exterior 2nd_Wd Sdng',\n",
       " 'Exterior 2nd_Wd Shng',\n",
       " 'Foundation_BrkTil',\n",
       " 'Foundation_CBlock',\n",
       " 'Foundation_PConc',\n",
       " 'Foundation_Slab',\n",
       " 'Foundation_Stone',\n",
       " 'Foundation_Wood',\n",
       " 'Garage Type_2Types',\n",
       " 'Garage Type_Attchd',\n",
       " 'Garage Type_Basment',\n",
       " 'Garage Type_BuiltIn',\n",
       " 'Garage Type_CarPort',\n",
       " 'Garage Type_Detchd',\n",
       " 'House Style_1.5Fin',\n",
       " 'House Style_1.5Unf',\n",
       " 'House Style_1Story',\n",
       " 'House Style_2.5Fin',\n",
       " 'House Style_2.5Unf',\n",
       " 'House Style_2Story',\n",
       " 'House Style_SFoyer',\n",
       " 'House Style_SLvl',\n",
       " 'Land Contour_Bnk',\n",
       " 'Land Contour_HLS',\n",
       " 'Land Contour_Low',\n",
       " 'Land Contour_Lvl',\n",
       " 'Lot Config_Corner',\n",
       " 'Lot Config_CulDSac',\n",
       " 'Lot Config_FR2',\n",
       " 'Lot Config_FR3',\n",
       " 'Lot Config_Inside',\n",
       " 'MS SubClass_20',\n",
       " 'MS SubClass_30',\n",
       " 'MS SubClass_40',\n",
       " 'MS SubClass_45',\n",
       " 'MS SubClass_50',\n",
       " 'MS SubClass_60',\n",
       " 'MS SubClass_70',\n",
       " 'MS SubClass_75',\n",
       " 'MS SubClass_80',\n",
       " 'MS SubClass_85',\n",
       " 'MS SubClass_90',\n",
       " 'MS SubClass_120',\n",
       " 'MS SubClass_160',\n",
       " 'MS SubClass_180',\n",
       " 'MS SubClass_190',\n",
       " 'MS Zoning_C (all)',\n",
       " 'MS Zoning_FV',\n",
       " 'MS Zoning_I (all)',\n",
       " 'MS Zoning_RH',\n",
       " 'MS Zoning_RL',\n",
       " 'MS Zoning_RM',\n",
       " 'Mas Vnr Type_BrkCmn',\n",
       " 'Mas Vnr Type_BrkFace',\n",
       " 'Mas Vnr Type_CBlock',\n",
       " 'Mas Vnr Type_None',\n",
       " 'Mas Vnr Type_Stone',\n",
       " 'Neighborhood_Blmngtn',\n",
       " 'Neighborhood_Blueste',\n",
       " 'Neighborhood_BrDale',\n",
       " 'Neighborhood_BrkSide',\n",
       " 'Neighborhood_ClearCr',\n",
       " 'Neighborhood_CollgCr',\n",
       " 'Neighborhood_Crawfor',\n",
       " 'Neighborhood_Edwards',\n",
       " 'Neighborhood_Gilbert',\n",
       " 'Neighborhood_Greens',\n",
       " 'Neighborhood_IDOTRR',\n",
       " 'Neighborhood_MeadowV',\n",
       " 'Neighborhood_Mitchel',\n",
       " 'Neighborhood_NAmes',\n",
       " 'Neighborhood_NPkVill',\n",
       " 'Neighborhood_NWAmes',\n",
       " 'Neighborhood_NoRidge',\n",
       " 'Neighborhood_NridgHt',\n",
       " 'Neighborhood_OldTown',\n",
       " 'Neighborhood_SWISU',\n",
       " 'Neighborhood_Sawyer',\n",
       " 'Neighborhood_SawyerW',\n",
       " 'Neighborhood_Somerst',\n",
       " 'Neighborhood_StoneBr',\n",
       " 'Neighborhood_Timber',\n",
       " 'Neighborhood_Veenker',\n",
       " 'Roof Style_Flat',\n",
       " 'Roof Style_Gable',\n",
       " 'Roof Style_Gambrel',\n",
       " 'Roof Style_Hip',\n",
       " 'Roof Style_Mansard',\n",
       " 'Roof Style_Shed',\n",
       " 'Sale Type_COD',\n",
       " 'Sale Type_CWD',\n",
       " 'Sale Type_Con',\n",
       " 'Sale Type_ConLD',\n",
       " 'Sale Type_ConLI',\n",
       " 'Sale Type_ConLw',\n",
       " 'Sale Type_New',\n",
       " 'Sale Type_Oth',\n",
       " 'Sale Type_VWD',\n",
       " 'Sale Type_WD ']"
      ]
     },
     "execution_count": 8,
     "metadata": {},
     "output_type": "execute_result"
    }
   ],
   "source": [
    "test_features = housing_test.columns.to_list()\n",
    "test_features"
   ]
  },
  {
   "cell_type": "code",
   "execution_count": 9,
   "metadata": {},
   "outputs": [
    {
     "data": {
      "text/plain": [
       "['Lot Frontage',\n",
       " 'Lot Area',\n",
       " 'Lot Shape',\n",
       " 'Overall Qual',\n",
       " 'Mas Vnr Area',\n",
       " 'Exter Qual',\n",
       " 'Bsmt Qual',\n",
       " 'Bsmt Exposure',\n",
       " 'BsmtFin Type 1',\n",
       " 'BsmtFin SF 1',\n",
       " 'Total Bsmt SF',\n",
       " 'Heating QC',\n",
       " '1st Flr SF',\n",
       " 'Gr Liv Area',\n",
       " 'Bsmt Full Bath',\n",
       " 'Bsmt Half Bath',\n",
       " 'Full Bath',\n",
       " 'Half Bath',\n",
       " 'Bedroom AbvGr',\n",
       " 'Kitchen AbvGr',\n",
       " 'Kitchen Qual',\n",
       " 'TotRms AbvGrd',\n",
       " 'Fireplaces',\n",
       " 'Fireplace Qu',\n",
       " 'Garage Finish',\n",
       " 'Garage Cars',\n",
       " 'Garage Area',\n",
       " 'Garage Qual',\n",
       " 'Wood Deck SF',\n",
       " 'Open Porch SF',\n",
       " 'Enclosed Porch',\n",
       " 'Screen Porch',\n",
       " 'Fence',\n",
       " 'Mo Sold',\n",
       " 'SalePrice',\n",
       " 'Garage Age',\n",
       " 'House Age',\n",
       " 'House Remod Yrs',\n",
       " 'Bldg Type_1Fam',\n",
       " 'Bldg Type_2fmCon',\n",
       " 'Bldg Type_Duplex',\n",
       " 'Bldg Type_Twnhs',\n",
       " 'Bldg Type_TwnhsE',\n",
       " 'Neighborhood_Blmngtn',\n",
       " 'Neighborhood_Blueste',\n",
       " 'Neighborhood_BrDale',\n",
       " 'Neighborhood_BrkSide',\n",
       " 'Neighborhood_ClearCr',\n",
       " 'Neighborhood_CollgCr',\n",
       " 'Neighborhood_Crawfor',\n",
       " 'Neighborhood_Edwards',\n",
       " 'Neighborhood_Gilbert',\n",
       " 'Neighborhood_Greens',\n",
       " 'Neighborhood_GrnHill',\n",
       " 'Neighborhood_IDOTRR',\n",
       " 'Neighborhood_Landmrk',\n",
       " 'Neighborhood_MeadowV',\n",
       " 'Neighborhood_Mitchel',\n",
       " 'Neighborhood_NAmes',\n",
       " 'Neighborhood_NPkVill',\n",
       " 'Neighborhood_NWAmes',\n",
       " 'Neighborhood_NoRidge',\n",
       " 'Neighborhood_NridgHt',\n",
       " 'Neighborhood_OldTown',\n",
       " 'Neighborhood_SWISU',\n",
       " 'Neighborhood_Sawyer',\n",
       " 'Neighborhood_SawyerW',\n",
       " 'Neighborhood_Somerst',\n",
       " 'Neighborhood_StoneBr',\n",
       " 'Neighborhood_Timber',\n",
       " 'Neighborhood_Veenker',\n",
       " 'MS Zoning_C (all)',\n",
       " 'MS Zoning_FV',\n",
       " 'MS Zoning_RH',\n",
       " 'MS Zoning_RL',\n",
       " 'MS Zoning_RM',\n",
       " 'MS SubClass_20',\n",
       " 'MS SubClass_30',\n",
       " 'MS SubClass_40',\n",
       " 'MS SubClass_45',\n",
       " 'MS SubClass_50',\n",
       " 'MS SubClass_60',\n",
       " 'MS SubClass_70',\n",
       " 'MS SubClass_75',\n",
       " 'MS SubClass_80',\n",
       " 'MS SubClass_85',\n",
       " 'MS SubClass_90',\n",
       " 'MS SubClass_120',\n",
       " 'MS SubClass_150',\n",
       " 'MS SubClass_160',\n",
       " 'MS SubClass_180',\n",
       " 'MS SubClass_190',\n",
       " 'Mas Vnr Type_BrkCmn',\n",
       " 'Mas Vnr Type_BrkFace',\n",
       " 'Mas Vnr Type_None',\n",
       " 'Mas Vnr Type_Stone',\n",
       " 'Condition 1_Artery',\n",
       " 'Condition 1_Feedr',\n",
       " 'Condition 1_Norm',\n",
       " 'Condition 1_PosA',\n",
       " 'Condition 1_PosN',\n",
       " 'Condition 1_RRAe',\n",
       " 'Condition 1_RRAn',\n",
       " 'Condition 1_RRNe',\n",
       " 'Condition 1_RRNn',\n",
       " 'Garage Type_2Types',\n",
       " 'Garage Type_Attchd',\n",
       " 'Garage Type_Basment',\n",
       " 'Garage Type_BuiltIn',\n",
       " 'Garage Type_CarPort',\n",
       " 'Garage Type_Detchd',\n",
       " 'Lot Config_Corner',\n",
       " 'Lot Config_CulDSac',\n",
       " 'Lot Config_FR2',\n",
       " 'Lot Config_FR3',\n",
       " 'Lot Config_Inside',\n",
       " 'Sale Type_COD',\n",
       " 'Sale Type_CWD',\n",
       " 'Sale Type_Con',\n",
       " 'Sale Type_ConLD',\n",
       " 'Sale Type_ConLI',\n",
       " 'Sale Type_ConLw',\n",
       " 'Sale Type_New',\n",
       " 'Sale Type_Oth',\n",
       " 'Sale Type_WD ',\n",
       " 'Land Contour_Bnk',\n",
       " 'Land Contour_HLS',\n",
       " 'Land Contour_Low',\n",
       " 'Land Contour_Lvl',\n",
       " 'Exterior 2nd_AsbShng',\n",
       " 'Exterior 2nd_AsphShn',\n",
       " 'Exterior 2nd_Brk Cmn',\n",
       " 'Exterior 2nd_BrkFace',\n",
       " 'Exterior 2nd_CBlock',\n",
       " 'Exterior 2nd_CmentBd',\n",
       " 'Exterior 2nd_HdBoard',\n",
       " 'Exterior 2nd_ImStucc',\n",
       " 'Exterior 2nd_MetalSd',\n",
       " 'Exterior 2nd_Plywood',\n",
       " 'Exterior 2nd_Stone',\n",
       " 'Exterior 2nd_Stucco',\n",
       " 'Exterior 2nd_VinylSd',\n",
       " 'Exterior 2nd_Wd Sdng',\n",
       " 'Exterior 2nd_Wd Shng',\n",
       " 'Foundation_BrkTil',\n",
       " 'Foundation_CBlock',\n",
       " 'Foundation_PConc',\n",
       " 'Foundation_Stone',\n",
       " 'Foundation_Wood',\n",
       " 'House Style_1.5Fin',\n",
       " 'House Style_1.5Unf',\n",
       " 'House Style_1Story',\n",
       " 'House Style_2.5Fin',\n",
       " 'House Style_2.5Unf',\n",
       " 'House Style_2Story',\n",
       " 'House Style_SFoyer',\n",
       " 'House Style_SLvl',\n",
       " 'Exterior 1st_AsbShng',\n",
       " 'Exterior 1st_AsphShn',\n",
       " 'Exterior 1st_BrkComm',\n",
       " 'Exterior 1st_BrkFace',\n",
       " 'Exterior 1st_CBlock',\n",
       " 'Exterior 1st_CemntBd',\n",
       " 'Exterior 1st_HdBoard',\n",
       " 'Exterior 1st_ImStucc',\n",
       " 'Exterior 1st_MetalSd',\n",
       " 'Exterior 1st_Plywood',\n",
       " 'Exterior 1st_Stone',\n",
       " 'Exterior 1st_Stucco',\n",
       " 'Exterior 1st_VinylSd',\n",
       " 'Exterior 1st_Wd Sdng',\n",
       " 'Exterior 1st_WdShing',\n",
       " 'Roof Style_Flat',\n",
       " 'Roof Style_Gable',\n",
       " 'Roof Style_Gambrel',\n",
       " 'Roof Style_Hip',\n",
       " 'Roof Style_Mansard',\n",
       " 'Roof Style_Shed']"
      ]
     },
     "execution_count": 9,
     "metadata": {},
     "output_type": "execute_result"
    }
   ],
   "source": [
    "train_features = housing_train.columns.to_list()\n",
    "train_features"
   ]
  },
  {
   "cell_type": "code",
   "execution_count": 10,
   "metadata": {},
   "outputs": [
    {
     "data": {
      "text/plain": [
       "178"
      ]
     },
     "execution_count": 10,
     "metadata": {},
     "output_type": "execute_result"
    }
   ],
   "source": [
    "len(train_features)"
   ]
  },
  {
   "cell_type": "code",
   "execution_count": 11,
   "metadata": {},
   "outputs": [
    {
     "data": {
      "text/plain": [
       "177"
      ]
     },
     "execution_count": 11,
     "metadata": {},
     "output_type": "execute_result"
    }
   ],
   "source": [
    "len(test_features)"
   ]
  },
  {
   "cell_type": "code",
   "execution_count": 12,
   "metadata": {},
   "outputs": [
    {
     "data": {
      "text/plain": [
       "{'1st Flr SF',\n",
       " 'Bedroom AbvGr',\n",
       " 'Bldg Type_1Fam',\n",
       " 'Bldg Type_2fmCon',\n",
       " 'Bldg Type_Duplex',\n",
       " 'Bldg Type_Twnhs',\n",
       " 'Bldg Type_TwnhsE',\n",
       " 'Bsmt Exposure',\n",
       " 'Bsmt Full Bath',\n",
       " 'Bsmt Half Bath',\n",
       " 'Bsmt Qual',\n",
       " 'BsmtFin SF 1',\n",
       " 'BsmtFin Type 1',\n",
       " 'Condition 1_Artery',\n",
       " 'Condition 1_Feedr',\n",
       " 'Condition 1_Norm',\n",
       " 'Condition 1_PosA',\n",
       " 'Condition 1_PosN',\n",
       " 'Condition 1_RRAe',\n",
       " 'Condition 1_RRAn',\n",
       " 'Condition 1_RRNe',\n",
       " 'Condition 1_RRNn',\n",
       " 'Enclosed Porch',\n",
       " 'Exter Qual',\n",
       " 'Exterior 1st_AsbShng',\n",
       " 'Exterior 1st_AsphShn',\n",
       " 'Exterior 1st_BrkComm',\n",
       " 'Exterior 1st_BrkFace',\n",
       " 'Exterior 1st_CemntBd',\n",
       " 'Exterior 1st_HdBoard',\n",
       " 'Exterior 1st_MetalSd',\n",
       " 'Exterior 1st_Plywood',\n",
       " 'Exterior 1st_Stucco',\n",
       " 'Exterior 1st_VinylSd',\n",
       " 'Exterior 1st_Wd Sdng',\n",
       " 'Exterior 1st_WdShing',\n",
       " 'Exterior 2nd_AsbShng',\n",
       " 'Exterior 2nd_AsphShn',\n",
       " 'Exterior 2nd_Brk Cmn',\n",
       " 'Exterior 2nd_BrkFace',\n",
       " 'Exterior 2nd_CBlock',\n",
       " 'Exterior 2nd_CmentBd',\n",
       " 'Exterior 2nd_HdBoard',\n",
       " 'Exterior 2nd_ImStucc',\n",
       " 'Exterior 2nd_MetalSd',\n",
       " 'Exterior 2nd_Plywood',\n",
       " 'Exterior 2nd_Stucco',\n",
       " 'Exterior 2nd_VinylSd',\n",
       " 'Exterior 2nd_Wd Sdng',\n",
       " 'Exterior 2nd_Wd Shng',\n",
       " 'Fence',\n",
       " 'Fireplace Qu',\n",
       " 'Fireplaces',\n",
       " 'Foundation_BrkTil',\n",
       " 'Foundation_CBlock',\n",
       " 'Foundation_PConc',\n",
       " 'Foundation_Stone',\n",
       " 'Foundation_Wood',\n",
       " 'Full Bath',\n",
       " 'Garage Age',\n",
       " 'Garage Area',\n",
       " 'Garage Cars',\n",
       " 'Garage Finish',\n",
       " 'Garage Qual',\n",
       " 'Garage Type_2Types',\n",
       " 'Garage Type_Attchd',\n",
       " 'Garage Type_Basment',\n",
       " 'Garage Type_BuiltIn',\n",
       " 'Garage Type_CarPort',\n",
       " 'Garage Type_Detchd',\n",
       " 'Gr Liv Area',\n",
       " 'Half Bath',\n",
       " 'Heating QC',\n",
       " 'House Age',\n",
       " 'House Remod Yrs',\n",
       " 'House Style_1.5Fin',\n",
       " 'House Style_1.5Unf',\n",
       " 'House Style_1Story',\n",
       " 'House Style_2.5Fin',\n",
       " 'House Style_2.5Unf',\n",
       " 'House Style_2Story',\n",
       " 'House Style_SFoyer',\n",
       " 'House Style_SLvl',\n",
       " 'Kitchen AbvGr',\n",
       " 'Kitchen Qual',\n",
       " 'Land Contour_Bnk',\n",
       " 'Land Contour_HLS',\n",
       " 'Land Contour_Low',\n",
       " 'Land Contour_Lvl',\n",
       " 'Lot Area',\n",
       " 'Lot Config_Corner',\n",
       " 'Lot Config_CulDSac',\n",
       " 'Lot Config_FR2',\n",
       " 'Lot Config_FR3',\n",
       " 'Lot Config_Inside',\n",
       " 'Lot Frontage',\n",
       " 'Lot Shape',\n",
       " 'MS SubClass_120',\n",
       " 'MS SubClass_160',\n",
       " 'MS SubClass_180',\n",
       " 'MS SubClass_190',\n",
       " 'MS SubClass_20',\n",
       " 'MS SubClass_30',\n",
       " 'MS SubClass_40',\n",
       " 'MS SubClass_45',\n",
       " 'MS SubClass_50',\n",
       " 'MS SubClass_60',\n",
       " 'MS SubClass_70',\n",
       " 'MS SubClass_75',\n",
       " 'MS SubClass_80',\n",
       " 'MS SubClass_85',\n",
       " 'MS SubClass_90',\n",
       " 'MS Zoning_C (all)',\n",
       " 'MS Zoning_FV',\n",
       " 'MS Zoning_RH',\n",
       " 'MS Zoning_RL',\n",
       " 'MS Zoning_RM',\n",
       " 'Mas Vnr Area',\n",
       " 'Mas Vnr Type_BrkCmn',\n",
       " 'Mas Vnr Type_BrkFace',\n",
       " 'Mas Vnr Type_None',\n",
       " 'Mas Vnr Type_Stone',\n",
       " 'Mo Sold',\n",
       " 'Neighborhood_Blmngtn',\n",
       " 'Neighborhood_Blueste',\n",
       " 'Neighborhood_BrDale',\n",
       " 'Neighborhood_BrkSide',\n",
       " 'Neighborhood_ClearCr',\n",
       " 'Neighborhood_CollgCr',\n",
       " 'Neighborhood_Crawfor',\n",
       " 'Neighborhood_Edwards',\n",
       " 'Neighborhood_Gilbert',\n",
       " 'Neighborhood_Greens',\n",
       " 'Neighborhood_IDOTRR',\n",
       " 'Neighborhood_MeadowV',\n",
       " 'Neighborhood_Mitchel',\n",
       " 'Neighborhood_NAmes',\n",
       " 'Neighborhood_NPkVill',\n",
       " 'Neighborhood_NWAmes',\n",
       " 'Neighborhood_NoRidge',\n",
       " 'Neighborhood_NridgHt',\n",
       " 'Neighborhood_OldTown',\n",
       " 'Neighborhood_SWISU',\n",
       " 'Neighborhood_Sawyer',\n",
       " 'Neighborhood_SawyerW',\n",
       " 'Neighborhood_Somerst',\n",
       " 'Neighborhood_StoneBr',\n",
       " 'Neighborhood_Timber',\n",
       " 'Neighborhood_Veenker',\n",
       " 'Open Porch SF',\n",
       " 'Overall Qual',\n",
       " 'Roof Style_Flat',\n",
       " 'Roof Style_Gable',\n",
       " 'Roof Style_Gambrel',\n",
       " 'Roof Style_Hip',\n",
       " 'Roof Style_Mansard',\n",
       " 'Roof Style_Shed',\n",
       " 'Sale Type_COD',\n",
       " 'Sale Type_CWD',\n",
       " 'Sale Type_Con',\n",
       " 'Sale Type_ConLD',\n",
       " 'Sale Type_ConLI',\n",
       " 'Sale Type_ConLw',\n",
       " 'Sale Type_New',\n",
       " 'Sale Type_Oth',\n",
       " 'Sale Type_WD ',\n",
       " 'Screen Porch',\n",
       " 'TotRms AbvGrd',\n",
       " 'Total Bsmt SF',\n",
       " 'Wood Deck SF'}"
      ]
     },
     "execution_count": 12,
     "metadata": {},
     "output_type": "execute_result"
    }
   ],
   "source": [
    "common_features = set(test_features).intersection(set(train_features))\n",
    "common_features"
   ]
  },
  {
   "cell_type": "code",
   "execution_count": 13,
   "metadata": {},
   "outputs": [
    {
     "data": {
      "text/plain": [
       "170"
      ]
     },
     "execution_count": 13,
     "metadata": {},
     "output_type": "execute_result"
    }
   ],
   "source": [
    "len(common_features)"
   ]
  },
  {
   "cell_type": "code",
   "execution_count": 14,
   "metadata": {},
   "outputs": [],
   "source": [
    "common_features = list(common_features)"
   ]
  },
  {
   "cell_type": "code",
   "execution_count": 15,
   "metadata": {},
   "outputs": [
    {
     "data": {
      "text/plain": [
       "(1969, 170)"
      ]
     },
     "execution_count": 15,
     "metadata": {},
     "output_type": "execute_result"
    }
   ],
   "source": [
    "X = housing_train[common_features]\n",
    "X.shape"
   ]
  },
  {
   "cell_type": "code",
   "execution_count": 16,
   "metadata": {},
   "outputs": [
    {
     "data": {
      "text/plain": [
       "(1969,)"
      ]
     },
     "execution_count": 16,
     "metadata": {},
     "output_type": "execute_result"
    }
   ],
   "source": [
    "y = housing_train['SalePrice']\n",
    "y.shape"
   ]
  },
  {
   "cell_type": "code",
   "execution_count": 17,
   "metadata": {},
   "outputs": [],
   "source": [
    "X_train, X_val, y_train, y_val = train_test_split(X, y, random_state = 42)"
   ]
  },
  {
   "cell_type": "code",
   "execution_count": 18,
   "metadata": {},
   "outputs": [
    {
     "data": {
      "text/plain": [
       "(1476, 170)"
      ]
     },
     "execution_count": 18,
     "metadata": {},
     "output_type": "execute_result"
    }
   ],
   "source": [
    "X_train.shape"
   ]
  },
  {
   "cell_type": "code",
   "execution_count": 19,
   "metadata": {},
   "outputs": [
    {
     "data": {
      "text/plain": [
       "(493, 170)"
      ]
     },
     "execution_count": 19,
     "metadata": {},
     "output_type": "execute_result"
    }
   ],
   "source": [
    "X_val.shape"
   ]
  },
  {
   "cell_type": "code",
   "execution_count": 20,
   "metadata": {},
   "outputs": [],
   "source": [
    "ss = StandardScaler()\n",
    "ss.fit(X_train)\n",
    "\n",
    "X_train_scaled = ss.transform(X_train)\n",
    "X_val_scaled = ss.transform(X_val)"
   ]
  },
  {
   "cell_type": "code",
   "execution_count": 21,
   "metadata": {},
   "outputs": [
    {
     "data": {
      "text/plain": [
       "(1476, 170)"
      ]
     },
     "execution_count": 21,
     "metadata": {},
     "output_type": "execute_result"
    }
   ],
   "source": [
    "X_train_scaled.shape"
   ]
  },
  {
   "cell_type": "code",
   "execution_count": 22,
   "metadata": {},
   "outputs": [
    {
     "data": {
      "text/plain": [
       "LinearRegression()"
      ]
     },
     "execution_count": 22,
     "metadata": {},
     "output_type": "execute_result"
    }
   ],
   "source": [
    "lr = LinearRegression()\n",
    "lr.fit(X_train_scaled, y_train)"
   ]
  },
  {
   "cell_type": "code",
   "execution_count": 23,
   "metadata": {},
   "outputs": [
    {
     "data": {
      "text/plain": [
       "-4.9538109606398114e+22"
      ]
     },
     "execution_count": 23,
     "metadata": {},
     "output_type": "execute_result"
    }
   ],
   "source": [
    "lr_cv_scores = cross_val_score(lr, X_train_scaled, y_train, cv = 10)\n",
    "lr_cv_scores.mean()"
   ]
  },
  {
   "cell_type": "code",
   "execution_count": 24,
   "metadata": {},
   "outputs": [
    {
     "data": {
      "text/plain": [
       "391.3745601980384"
      ]
     },
     "execution_count": 24,
     "metadata": {},
     "output_type": "execute_result"
    }
   ],
   "source": [
    "ridge = RidgeCV(alphas = np.logspace(0, 5, 1000))\n",
    "ridge.fit(X_train_scaled, y_train)\n",
    "ridge.alpha_"
   ]
  },
  {
   "cell_type": "code",
   "execution_count": 25,
   "metadata": {},
   "outputs": [
    {
     "data": {
      "text/plain": [
       "0.839363164749256"
      ]
     },
     "execution_count": 25,
     "metadata": {},
     "output_type": "execute_result"
    }
   ],
   "source": [
    "ridge_cv_scores = cross_val_score(ridge, X_train_scaled, y_train, cv = 5)\n",
    "ridge_cv_scores.mean()"
   ]
  },
  {
   "cell_type": "code",
   "execution_count": 35,
   "metadata": {},
   "outputs": [
    {
     "data": {
      "text/plain": [
       "LassoCV(n_alphas=200)"
      ]
     },
     "execution_count": 35,
     "metadata": {},
     "output_type": "execute_result"
    }
   ],
   "source": [
    "lasso = LassoCV(n_alphas = 200)\n",
    "lasso.fit(X_train_scaled, y_train)"
   ]
  },
  {
   "cell_type": "code",
   "execution_count": 36,
   "metadata": {},
   "outputs": [
    {
     "data": {
      "text/plain": [
       "0.840585853584703"
      ]
     },
     "execution_count": 36,
     "metadata": {},
     "output_type": "execute_result"
    }
   ],
   "source": [
    "lasso_cv_scores = cross_val_score(lasso, X_train_scaled, y_train, cv = 5)\n",
    "lasso_cv_scores.mean()"
   ]
  },
  {
   "cell_type": "code",
   "execution_count": 37,
   "metadata": {},
   "outputs": [
    {
     "data": {
      "text/plain": [
       "170"
      ]
     },
     "execution_count": 37,
     "metadata": {},
     "output_type": "execute_result"
    }
   ],
   "source": [
    "len(lasso.coef_)"
   ]
  },
  {
   "cell_type": "code",
   "execution_count": 38,
   "metadata": {},
   "outputs": [],
   "source": [
    "lasso_coef = pd.Series(lasso.coef_, index = X.columns).sort_values(ascending = False).to_frame(name = 'Coef')"
   ]
  },
  {
   "cell_type": "code",
   "execution_count": 50,
   "metadata": {},
   "outputs": [
    {
     "data": {
      "text/html": [
       "<div>\n",
       "<style scoped>\n",
       "    .dataframe tbody tr th:only-of-type {\n",
       "        vertical-align: middle;\n",
       "    }\n",
       "\n",
       "    .dataframe tbody tr th {\n",
       "        vertical-align: top;\n",
       "    }\n",
       "\n",
       "    .dataframe thead th {\n",
       "        text-align: right;\n",
       "    }\n",
       "</style>\n",
       "<table border=\"1\" class=\"dataframe\">\n",
       "  <thead>\n",
       "    <tr style=\"text-align: right;\">\n",
       "      <th></th>\n",
       "      <th>Coef</th>\n",
       "    </tr>\n",
       "  </thead>\n",
       "  <tbody>\n",
       "    <tr>\n",
       "      <th>Roof Style_Mansard</th>\n",
       "      <td>-1123.203958</td>\n",
       "    </tr>\n",
       "    <tr>\n",
       "      <th>Exterior 1st_Stucco</th>\n",
       "      <td>-1181.697856</td>\n",
       "    </tr>\n",
       "    <tr>\n",
       "      <th>Land Contour_Bnk</th>\n",
       "      <td>-1942.958593</td>\n",
       "    </tr>\n",
       "    <tr>\n",
       "      <th>House Remod Yrs</th>\n",
       "      <td>-2342.348242</td>\n",
       "    </tr>\n",
       "    <tr>\n",
       "      <th>Neighborhood_Edwards</th>\n",
       "      <td>-2440.177650</td>\n",
       "    </tr>\n",
       "  </tbody>\n",
       "</table>\n",
       "</div>"
      ],
      "text/plain": [
       "                             Coef\n",
       "Roof Style_Mansard   -1123.203958\n",
       "Exterior 1st_Stucco  -1181.697856\n",
       "Land Contour_Bnk     -1942.958593\n",
       "House Remod Yrs      -2342.348242\n",
       "Neighborhood_Edwards -2440.177650"
      ]
     },
     "execution_count": 50,
     "metadata": {},
     "output_type": "execute_result"
    }
   ],
   "source": [
    "lasso_coef.tail()"
   ]
  },
  {
   "cell_type": "code",
   "execution_count": 51,
   "metadata": {},
   "outputs": [
    {
     "data": {
      "text/html": [
       "<div>\n",
       "<style scoped>\n",
       "    .dataframe tbody tr th:only-of-type {\n",
       "        vertical-align: middle;\n",
       "    }\n",
       "\n",
       "    .dataframe tbody tr th {\n",
       "        vertical-align: top;\n",
       "    }\n",
       "\n",
       "    .dataframe thead th {\n",
       "        text-align: right;\n",
       "    }\n",
       "</style>\n",
       "<table border=\"1\" class=\"dataframe\">\n",
       "  <thead>\n",
       "    <tr style=\"text-align: right;\">\n",
       "      <th></th>\n",
       "      <th>Coef</th>\n",
       "    </tr>\n",
       "  </thead>\n",
       "  <tbody>\n",
       "    <tr>\n",
       "      <th>Gr Liv Area</th>\n",
       "      <td>15569.638946</td>\n",
       "    </tr>\n",
       "    <tr>\n",
       "      <th>Overall Qual</th>\n",
       "      <td>13999.544956</td>\n",
       "    </tr>\n",
       "    <tr>\n",
       "      <th>Neighborhood_NridgHt</th>\n",
       "      <td>10389.454231</td>\n",
       "    </tr>\n",
       "    <tr>\n",
       "      <th>Neighborhood_StoneBr</th>\n",
       "      <td>7435.131918</td>\n",
       "    </tr>\n",
       "    <tr>\n",
       "      <th>Neighborhood_NoRidge</th>\n",
       "      <td>6733.185481</td>\n",
       "    </tr>\n",
       "    <tr>\n",
       "      <th>Garage Cars</th>\n",
       "      <td>6125.419284</td>\n",
       "    </tr>\n",
       "    <tr>\n",
       "      <th>Exter Qual</th>\n",
       "      <td>5821.874861</td>\n",
       "    </tr>\n",
       "    <tr>\n",
       "      <th>Bsmt Exposure</th>\n",
       "      <td>5774.984453</td>\n",
       "    </tr>\n",
       "    <tr>\n",
       "      <th>Kitchen Qual</th>\n",
       "      <td>5653.038817</td>\n",
       "    </tr>\n",
       "    <tr>\n",
       "      <th>Bldg Type_1Fam</th>\n",
       "      <td>5316.001884</td>\n",
       "    </tr>\n",
       "    <tr>\n",
       "      <th>Bsmt Qual</th>\n",
       "      <td>4180.448463</td>\n",
       "    </tr>\n",
       "    <tr>\n",
       "      <th>Screen Porch</th>\n",
       "      <td>4152.838377</td>\n",
       "    </tr>\n",
       "    <tr>\n",
       "      <th>BsmtFin Type 1</th>\n",
       "      <td>4015.269063</td>\n",
       "    </tr>\n",
       "    <tr>\n",
       "      <th>Sale Type_New</th>\n",
       "      <td>3755.880002</td>\n",
       "    </tr>\n",
       "    <tr>\n",
       "      <th>Bsmt Full Bath</th>\n",
       "      <td>3736.678442</td>\n",
       "    </tr>\n",
       "    <tr>\n",
       "      <th>Roof Style_Hip</th>\n",
       "      <td>3228.726432</td>\n",
       "    </tr>\n",
       "    <tr>\n",
       "      <th>Lot Area</th>\n",
       "      <td>3167.785147</td>\n",
       "    </tr>\n",
       "    <tr>\n",
       "      <th>TotRms AbvGrd</th>\n",
       "      <td>3051.845162</td>\n",
       "    </tr>\n",
       "    <tr>\n",
       "      <th>Fireplace Qu</th>\n",
       "      <td>2915.664210</td>\n",
       "    </tr>\n",
       "    <tr>\n",
       "      <th>Neighborhood_Crawfor</th>\n",
       "      <td>2739.743856</td>\n",
       "    </tr>\n",
       "    <tr>\n",
       "      <th>MS SubClass_20</th>\n",
       "      <td>2674.882620</td>\n",
       "    </tr>\n",
       "    <tr>\n",
       "      <th>Mas Vnr Area</th>\n",
       "      <td>2655.774166</td>\n",
       "    </tr>\n",
       "    <tr>\n",
       "      <th>Exterior 1st_BrkFace</th>\n",
       "      <td>2357.247794</td>\n",
       "    </tr>\n",
       "    <tr>\n",
       "      <th>Full Bath</th>\n",
       "      <td>2333.666515</td>\n",
       "    </tr>\n",
       "    <tr>\n",
       "      <th>Condition 1_PosN</th>\n",
       "      <td>1991.743344</td>\n",
       "    </tr>\n",
       "  </tbody>\n",
       "</table>\n",
       "</div>"
      ],
      "text/plain": [
       "                              Coef\n",
       "Gr Liv Area           15569.638946\n",
       "Overall Qual          13999.544956\n",
       "Neighborhood_NridgHt  10389.454231\n",
       "Neighborhood_StoneBr   7435.131918\n",
       "Neighborhood_NoRidge   6733.185481\n",
       "Garage Cars            6125.419284\n",
       "Exter Qual             5821.874861\n",
       "Bsmt Exposure          5774.984453\n",
       "Kitchen Qual           5653.038817\n",
       "Bldg Type_1Fam         5316.001884\n",
       "Bsmt Qual              4180.448463\n",
       "Screen Porch           4152.838377\n",
       "BsmtFin Type 1         4015.269063\n",
       "Sale Type_New          3755.880002\n",
       "Bsmt Full Bath         3736.678442\n",
       "Roof Style_Hip         3228.726432\n",
       "Lot Area               3167.785147\n",
       "TotRms AbvGrd          3051.845162\n",
       "Fireplace Qu           2915.664210\n",
       "Neighborhood_Crawfor   2739.743856\n",
       "MS SubClass_20         2674.882620\n",
       "Mas Vnr Area           2655.774166\n",
       "Exterior 1st_BrkFace   2357.247794\n",
       "Full Bath              2333.666515\n",
       "Condition 1_PosN       1991.743344"
      ]
     },
     "execution_count": 51,
     "metadata": {},
     "output_type": "execute_result"
    }
   ],
   "source": [
    "lasso_coef.head(25)"
   ]
  },
  {
   "cell_type": "code",
   "execution_count": 52,
   "metadata": {},
   "outputs": [],
   "source": [
    "coef_cond = ((lasso_coef['Coef'] > 2000) | (lasso_coef['Coef'] < (-1000)))"
   ]
  },
  {
   "cell_type": "code",
   "execution_count": 48,
   "metadata": {},
   "outputs": [
    {
     "data": {
      "text/plain": [
       "['Gr Liv Area',\n",
       " 'Overall Qual',\n",
       " 'Neighborhood_NridgHt',\n",
       " 'Neighborhood_StoneBr',\n",
       " 'Neighborhood_NoRidge',\n",
       " 'Garage Cars',\n",
       " 'Exter Qual',\n",
       " 'Bsmt Exposure',\n",
       " 'Kitchen Qual',\n",
       " 'Bldg Type_1Fam',\n",
       " 'Bsmt Qual',\n",
       " 'Screen Porch',\n",
       " 'BsmtFin Type 1',\n",
       " 'Sale Type_New',\n",
       " 'Bsmt Full Bath',\n",
       " 'Roof Style_Hip',\n",
       " 'Lot Area',\n",
       " 'TotRms AbvGrd',\n",
       " 'Fireplace Qu',\n",
       " 'Neighborhood_Crawfor',\n",
       " 'MS SubClass_20',\n",
       " 'Mas Vnr Area',\n",
       " 'Exterior 1st_BrkFace',\n",
       " 'Full Bath',\n",
       " 'House Style_SLvl',\n",
       " 'Bldg Type_Twnhs',\n",
       " 'Exterior 2nd_Stucco',\n",
       " 'Roof Style_Mansard',\n",
       " 'Exterior 1st_Stucco',\n",
       " 'Land Contour_Bnk',\n",
       " 'House Remod Yrs',\n",
       " 'Neighborhood_Edwards']"
      ]
     },
     "execution_count": 48,
     "metadata": {},
     "output_type": "execute_result"
    }
   ],
   "source": [
    "significant_features = lasso_coef[coef_cond].index.to_list()\n",
    "significant_features"
   ]
  },
  {
   "cell_type": "code",
   "execution_count": 53,
   "metadata": {},
   "outputs": [
    {
     "data": {
      "text/plain": [
       "32"
      ]
     },
     "execution_count": 53,
     "metadata": {},
     "output_type": "execute_result"
    }
   ],
   "source": [
    "len(significant_features)"
   ]
  },
  {
   "cell_type": "code",
   "execution_count": null,
   "metadata": {},
   "outputs": [],
   "source": []
  },
  {
   "cell_type": "code",
   "execution_count": null,
   "metadata": {},
   "outputs": [],
   "source": []
  }
 ],
 "metadata": {
  "kernelspec": {
   "display_name": "Python 3",
   "language": "python",
   "name": "python3"
  },
  "language_info": {
   "codemirror_mode": {
    "name": "ipython",
    "version": 3
   },
   "file_extension": ".py",
   "mimetype": "text/x-python",
   "name": "python",
   "nbconvert_exporter": "python",
   "pygments_lexer": "ipython3",
   "version": "3.7.9"
  }
 },
 "nbformat": 4,
 "nbformat_minor": 4
}
